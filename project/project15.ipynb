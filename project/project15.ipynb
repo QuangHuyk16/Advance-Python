{
 "cells": [
  {
   "cell_type": "markdown",
   "metadata": {},
   "source": [
    "# Trực quan hóa mạng lưới thần kinh bằng Python\n",
    "\n",
    "Bạn chắc chắn đã sử dụng mạng nơ-ron để đào tạo mô hình trên dữ liệu của mình. Có rất nhiều loại kiến trúc của mạng nơ-ron mà bạn có thể sử dụng để huấn luyện một mô hình, nhưng bạn đã bao giờ hình dung ra kiến trúc của mạng nơ-ron chưa? Nếu bạn muốn tìm hiểu cách hình dung mạng lưới thần kinh, bài viết này là dành cho bạn. Trong bài viết này, tôi sẽ hướng dẫn bạn cách trực quan hóa mạng lưới thần kinh bằng Python."
   ]
  },
  {
   "cell_type": "markdown",
   "metadata": {},
   "source": [
    "## Làm thế nào để hình dung một mạng lưới thần kinh?\n",
    "Có nhiều công cụ bạn có thể sử dụng để hình dung kiến trúc của mạng nơ-ron. Một số công cụ tốt nhất để trực quan hóa mạng lưới thần kinh là:\n",
    "\n",
    "1. Net2Vis\n",
    "2. VisualKeras\n",
    "3. drawconvent\n",
    "4. NNSVG\n",
    "5. PlotNeuralNet\n",
    "6. Tensorboard\n",
    "7. Graphviz\n",
    "8. TensorSpace\n",
    "\n",
    "Theo tôi, trong số tất cả các công cụ được đề cập ở trên, sử dụng VisualKeras là cách tiếp cận dễ dàng nhất để hình dung mạng lưới thần kinh. Vì vậy, trong phần bên dưới, tôi sẽ giới thiệu cho bạn hướng dẫn về cách trực quan hóa mạng lưới thần kinh bằng Visualkeras bằng ngôn ngữ lập trình Python."
   ]
  },
  {
   "cell_type": "markdown",
   "metadata": {},
   "source": [
    "## Trực quan hóa mạng lưới thần kinh bằng Python\n",
    "Trước khi hình dung kiến trúc của mạng nơ-ron, trước tiên chúng ta phải thiết kế mạng nơ-ron. Nếu bạn đã từng giải quyết một vấn đề bằng cách sử dụng mạng thần kinh, bạn có thể bỏ qua phần này và tìm hiểu cách hình dung kiến trúc của mạng thần kinh như được trình bày trong phần tiếp theo bên dưới. Nếu bạn chưa bao giờ thiết kế mạng nơ-ron thì đây là cách chúng ta có thể thiết kế kiến trúc của mạng nơ-ron tích chập:"
   ]
  },
  {
   "cell_type": "code",
   "execution_count": 3,
   "metadata": {},
   "outputs": [],
   "source": [
    "import tensorflow as tf\n",
    "import keras\n",
    "from keras.models import Sequential, Model\n",
    "\"\"\"\n",
    "Import hai lớp Sequential và Model từ mô-đun tensorflow.keras.models. Lớp Sequential được sử dụng để tạo một\n",
    " chuỗi tuyến tính của các lớp, trong khi lớp Model là lựa chọn linh hoạt hơn để định nghĩa mô hình phức tạp.\n",
    "\"\"\"\n",
    "from keras.layers import Input, Dense, Dropout, Flatten, Conv2D, MaxPooling2D\n",
    "\"\"\"\n",
    "Import các lớp lớp khác nhau từ mô-đun tensorflow.keras.layers. Các lớp này bao gồm Input\n",
    "(để định nghĩa lớp đầu vào), Dense (lớp liên kết đầy đủ), Dropout (lớp dropout), Flatten (làm phẳng đầu ra),\n",
    "Conv2D (lớp tích chập 2D), và MaxPooling2D (lớp max pooling).\n",
    "\"\"\"\n",
    "from keras.layers import LeakyReLU\n",
    "# Import hàm kích hoạt Leaky ReLU, được sử dụng làm hàm kích hoạt trong một số lớp tích chập.\n",
    "model = Sequential()\n",
    "# Tạo một mô hình Sequential, một chuỗi tuyến tính của các lớp.\n",
    "model.add(Conv2D(32, kernel_size=(3, 3), activation='linear', input_shape=(28, 28, 1), padding='same'))\n",
    "\"\"\"\n",
    "Thêm một lớp tích chập 2D với 32 bộ lọc, kích thước kernel là (3, 3), hàm kích hoạt linear,\n",
    "hình dạng đầu vào là (28, 28, 1), và padding được thiết lập là 'same'.\n",
    "\"\"\"\n",
    "model.add(LeakyReLU(alpha=0.1))\n",
    "# Thêm một lớp kích hoạt Leaky ReLU với tham số slope âm (alpha) là 0.1.\n",
    "model.add(MaxPooling2D((2, 2), padding='same'))\n",
    "# Thêm một lớp max pooling 2D với kích thước pool là (2, 2) và padding là 'same'.\n",
    "# Lặp lại mô hình tương tự với các lớp tích chập, kích hoạt Leaky ReLU và max pooling.\n",
    "model.add(Conv2D(64, (3, 3), activation='linear', padding='same'))\n",
    "model.add(LeakyReLU(alpha=0.1))\n",
    "model.add(MaxPooling2D(pool_size=(2, 2), padding='same'))\n",
    "model.add(Conv2D(128, (3, 3), activation='linear', padding='same'))\n",
    "model.add(LeakyReLU(alpha=0.1))\n",
    "model.add(MaxPooling2D(pool_size=(2, 2), padding='same'))\n",
    "model.add(Flatten())\n",
    "# Làm phẳng đầu ra của lớp trước thành mảng một chiều.\n",
    "model.add(Dense(128, activation='linear'))\n",
    "# Thêm một lớp fully connected với 128 nơ-ron và hàm kích hoạt linear.\n",
    "model.add(LeakyReLU(alpha=0.1))\n",
    "# Thêm một lớp kích hoạt Leaky ReLU khác.\n",
    "model.add(Dense(500, activation='softmax'))\n",
    "# Thêm một lớp fully connected với 500 nơ-ron và hàm kích hoạt softmax, phù hợp cho bài toán phân loại đa lớp.\n",
    "model.compile(loss=tf.keras.losses.categorical_crossentropy, optimizer=tf.keras.optimizers.Adam(), metrics=['accuracy'])\n",
    "# Biên dịch mô hình, chỉ định hàm mất mát là categorical crossentropy, tối ưu hóa bằng Adam và sử dụng độ chính xác làm độ đo đánh giá. Điều này chuẩn bị mô hình để huấn luyện."
   ]
  },
  {
   "cell_type": "code",
   "execution_count": null,
   "metadata": {},
   "outputs": [],
   "source": [
    "import visualkeras  \n",
    "visualkeras.layered_view(model)"
   ]
  },
  {
   "attachments": {
    "image.png": {
     "image/png": "[encoded data removed]"
    }
   },
   "cell_type": "markdown",
   "metadata": {},
   "source": [
    "![image.png](attachment:image.png)"
   ]
  }
 ],
 "metadata": {
  "kernelspec": {
   "display_name": "Python 3",
   "language": "python",
   "name": "python3"
  },
  "language_info": {
   "codemirror_mode": {
    "name": "ipython",
    "version": 3
   },
   "file_extension": ".py",
   "mimetype": "text/x-python",
   "name": "python",
   "nbconvert_exporter": "python",
   "pygments_lexer": "ipython3",
   "version": "3.12.2"
  }
 },
 "nbformat": 4,
 "nbformat_minor": 2
}

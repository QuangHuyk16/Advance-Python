{
 "cells": [
  {
   "cell_type": "code",
   "execution_count": 18,
   "metadata": {},
   "outputs": [
    {
     "data": {
      "text/html": [
       "<div>\n",
       "<style scoped>\n",
       "    .dataframe tbody tr th:only-of-type {\n",
       "        vertical-align: middle;\n",
       "    }\n",
       "\n",
       "    .dataframe tbody tr th {\n",
       "        vertical-align: top;\n",
       "    }\n",
       "\n",
       "    .dataframe thead th {\n",
       "        text-align: right;\n",
       "    }\n",
       "</style>\n",
       "<table border=\"1\" class=\"dataframe\">\n",
       "  <thead>\n",
       "    <tr style=\"text-align: right;\">\n",
       "      <th></th>\n",
       "      <th>country</th>\n",
       "      <th>latitude</th>\n",
       "      <th>longitude</th>\n",
       "      <th>name</th>\n",
       "    </tr>\n",
       "  </thead>\n",
       "  <tbody>\n",
       "    <tr>\n",
       "      <th>0</th>\n",
       "      <td>AD</td>\n",
       "      <td>42.546245</td>\n",
       "      <td>1.601554</td>\n",
       "      <td>Andorra</td>\n",
       "    </tr>\n",
       "    <tr>\n",
       "      <th>1</th>\n",
       "      <td>AE</td>\n",
       "      <td>23.424076</td>\n",
       "      <td>53.847818</td>\n",
       "      <td>United Arab Emirates</td>\n",
       "    </tr>\n",
       "    <tr>\n",
       "      <th>2</th>\n",
       "      <td>AF</td>\n",
       "      <td>33.939110</td>\n",
       "      <td>67.709953</td>\n",
       "      <td>Afghanistan</td>\n",
       "    </tr>\n",
       "    <tr>\n",
       "      <th>3</th>\n",
       "      <td>AG</td>\n",
       "      <td>17.060816</td>\n",
       "      <td>-61.796428</td>\n",
       "      <td>Antigua and Barbuda</td>\n",
       "    </tr>\n",
       "    <tr>\n",
       "      <th>4</th>\n",
       "      <td>AI</td>\n",
       "      <td>18.220554</td>\n",
       "      <td>-63.068615</td>\n",
       "      <td>Anguilla</td>\n",
       "    </tr>\n",
       "  </tbody>\n",
       "</table>\n",
       "</div>"
      ],
      "text/plain": [
       "  country   latitude  longitude                  name\n",
       "0      AD  42.546245   1.601554               Andorra\n",
       "1      AE  23.424076  53.847818  United Arab Emirates\n",
       "2      AF  33.939110  67.709953           Afghanistan\n",
       "3      AG  17.060816 -61.796428   Antigua and Barbuda\n",
       "4      AI  18.220554 -63.068615              Anguilla"
      ]
     },
     "execution_count": 18,
     "metadata": {},
     "output_type": "execute_result"
    }
   ],
   "source": [
    "import pandas as pd\n",
    "\n",
    "url ='https://raw.githubusercontent.com/sahalnazar/countries-latitude-longitude-json/main/countryLatLng.json'\n",
    "data = pd.read_json(url)\n",
    "data.head()"
   ]
  },
  {
   "cell_type": "code",
   "execution_count": 19,
   "metadata": {},
   "outputs": [
    {
     "data": {
      "application/vnd.plotly.v1+json": {
       "config": {
        "plotlyServerURL": "https://plot.ly"
       },
       "data": [
        {
         "geo": "geo",
         "hovertemplate": "<b>%{hovertext}</b><br><br>latitude=%{lat}<br>longitude=%{lon}<extra></extra>",
         "hovertext": [
          "Andorra",
          "United Arab Emirates",
          "Afghanistan",
          "Antigua and Barbuda",
          "Anguilla",
          "Albania",
          "Armenia",
          "Netherlands Antilles",
          "Angola",
          "Antarctica",
          "Argentina",
          "American Samoa",
          "Austria",
          "Australia",
          "Aruba",
          "Azerbaijan",
          "Bosnia and Herzegovina",
          "Barbados",
          "Bangladesh",
          "Belgium",
          "Burkina Faso",
          "Bulgaria",
          "Bahrain",
          "Burundi",
          "Benin",
          "Bermuda",
          "Brunei",
          "Bolivia",
          "Brazil",
          "Bahamas",
          "Bhutan",
          "Bouvet Island",
          "Botswana",
          "Belarus",
          "Belize",
          "Canada",
          "Cocos [Keeling] Islands",
          "Congo [DRC]",
          "Central African Republic",
          "Congo [Republic]",
          "Switzerland",
          "Côte d'Ivoire",
          "Cook Islands",
          "Chile",
          "Cameroon",
          "China",
          "Colombia",
          "Costa Rica",
          "Cuba",
          "Cape Verde",
          "Christmas Island",
          "Cyprus",
          "Czech Republic",
          "Germany",
          "Djibouti",
          "Denmark",
          "Dominica",
          "Dominican Republic",
          "Algeria",
          "Ecuador",
          "Estonia",
          "Egypt",
          "Western Sahara",
          "Eritrea",
          "Spain",
          "Ethiopia",
          "Finland",
          "Fiji",
          "Falkland Islands [Islas Malvinas]",
          "Micronesia",
          "Faroe Islands",
          "France",
          "Gabon",
          "United Kingdom",
          "Grenada",
          "Georgia",
          "French Guiana",
          "Guernsey",
          "Ghana",
          "Gibraltar",
          "Greenland",
          "Gambia",
          "Guinea",
          "Guadeloupe",
          "Equatorial Guinea",
          "Greece",
          "South Georgia and the South Sandwich Islands",
          "Guatemala",
          "Guam",
          "Guinea-Bissau",
          "Guyana",
          "Gaza Strip",
          "Hong Kong",
          "Heard Island and McDonald Islands",
          "Honduras",
          "Croatia",
          "Haiti",
          "Hungary",
          "Indonesia",
          "Ireland",
          "Israel",
          "Isle of Man",
          "India",
          "British Indian Ocean Territory",
          "Iraq",
          "Iran",
          "Iceland",
          "Italy",
          "Jersey",
          "Jamaica",
          "Jordan",
          "Japan",
          "Kenya",
          "Kyrgyzstan",
          "Cambodia",
          "Kiribati",
          "Comoros",
          "Saint Kitts and Nevis",
          "North Korea",
          "South Korea",
          "Kuwait",
          "Cayman Islands",
          "Kazakhstan",
          "Laos",
          "Lebanon",
          "Saint Lucia",
          "Liechtenstein",
          "Sri Lanka",
          "Liberia",
          "Lesotho",
          "Lithuania",
          "Luxembourg",
          "Latvia",
          "Libya",
          "Morocco",
          "Monaco",
          "Moldova",
          "Montenegro",
          "Madagascar",
          "Marshall Islands",
          "Macedonia [FYROM]",
          "Mali",
          "Myanmar [Burma]",
          "Mongolia",
          "Macau",
          "Northern Mariana Islands",
          "Martinique",
          "Mauritania",
          "Montserrat",
          "Malta",
          "Mauritius",
          "Maldives",
          "Malawi",
          "Mexico",
          "Malaysia",
          "Mozambique",
          "Namibia",
          "New Caledonia",
          "Niger",
          "Norfolk Island",
          "Nigeria",
          "Nicaragua",
          "Netherlands",
          "Norway",
          "Nepal",
          "Nauru",
          "Niue",
          "New Zealand",
          "Oman",
          "Panama",
          "Peru",
          "French Polynesia",
          "Papua New Guinea",
          "Philippines",
          "Pakistan",
          "Poland",
          "Saint Pierre and Miquelon",
          "Pitcairn Islands",
          "Puerto Rico",
          "Palestinian Territories",
          "Portugal",
          "Palau",
          "Paraguay",
          "Qatar",
          "Réunion",
          "Romania",
          "Serbia",
          "Russia",
          "Rwanda",
          "Saudi Arabia",
          "Solomon Islands",
          "Seychelles",
          "Sudan",
          "Sweden",
          "Singapore",
          "Saint Helena",
          "Slovenia",
          "Svalbard and Jan Mayen",
          "Slovakia",
          "Sierra Leone",
          "San Marino",
          "Senegal",
          "Somalia",
          "Suriname",
          "São Tomé and Príncipe",
          "El Salvador",
          "Syria",
          "Swaziland",
          "Turks and Caicos Islands",
          "Chad",
          "French Southern Territories",
          "Togo",
          "Thailand",
          "Tajikistan",
          "Tokelau",
          "Timor-Leste",
          "Turkmenistan",
          "Tunisia",
          "Tonga",
          "Turkey",
          "Trinidad and Tobago",
          "Tuvalu",
          "Taiwan",
          "Tanzania",
          "Ukraine",
          "Uganda",
          "U.S. Minor Outlying Islands",
          "United States",
          "Uruguay",
          "Uzbekistan",
          "Vatican City",
          "Saint Vincent and the Grenadines",
          "Venezuela",
          "British Virgin Islands",
          "U.S. Virgin Islands",
          "Vietnam",
          "Vanuatu",
          "Wallis and Futuna",
          "Samoa",
          "Kosovo",
          "Yemen",
          "Mayotte",
          "South Africa",
          "Zambia",
          "Zimbabwe"
         ],
         "lat": [
          42.546245,
          23.424076,
          33.93911,
          17.060816,
          18.220554,
          41.153332,
          40.069099,
          12.226079,
          -11.202692,
          -75.250973,
          -38.416097,
          -14.270972,
          47.516231,
          -25.274398,
          12.52111,
          40.143105,
          43.915886,
          13.193887,
          23.684994,
          50.503887,
          12.238333,
          42.733883,
          25.930414,
          -3.373056,
          9.307690000000001,
          32.321384,
          4.535277,
          -16.290154,
          -14.235004,
          25.03428,
          27.514162,
          -54.423199,
          -22.328474,
          53.709807,
          17.189877,
          56.130366,
          -12.164165,
          -4.038333,
          6.611111,
          -0.228021,
          46.818188,
          7.539989,
          -21.236736,
          -35.675147,
          7.369722,
          35.86166,
          4.570868,
          9.748917,
          21.521757,
          16.002082,
          -10.447525,
          35.126413,
          49.817492,
          51.165691,
          11.825137999999999,
          56.26392,
          15.414999,
          18.735693,
          28.033886,
          -1.831239,
          58.595272,
          26.820553,
          24.215527,
          15.179384,
          40.463667,
          9.145,
          61.92411,
          -16.578193,
          -51.796253,
          7.425554,
          61.892635,
          46.227638,
          -0.803689,
          55.378051,
          12.262776,
          42.315407,
          3.9338889999999997,
          49.465691,
          7.946527,
          36.137741,
          71.706936,
          13.443182,
          9.945587,
          16.995971,
          1.650801,
          39.074208,
          -54.429579,
          15.783471,
          13.444304,
          11.803749,
          4.860416,
          31.354676,
          22.396428,
          -53.08181,
          15.199999,
          45.1,
          18.971187,
          47.162494,
          -0.789275,
          53.41291,
          31.046051,
          54.236107,
          20.593684,
          -6.343194,
          33.223191,
          32.427908,
          64.963051,
          41.87194,
          49.214439,
          18.109581,
          30.585164,
          36.204824,
          -0.023559,
          41.20438,
          12.565679,
          -3.3704169999999998,
          -11.875001,
          17.357822,
          40.339852,
          35.907757,
          29.31166,
          19.513469,
          48.019573,
          19.85627,
          33.854721,
          13.909444,
          47.166,
          7.873054,
          6.428055,
          -29.609988,
          55.169438,
          49.815273,
          56.879635,
          26.3351,
          31.791702,
          43.750298,
          47.411631,
          42.708678,
          -18.766947,
          7.131474,
          41.608635,
          17.570692,
          21.913965,
          46.862496,
          22.198745,
          17.33083,
          14.641528,
          21.00789,
          16.742498,
          35.937496,
          -20.348404,
          3.202778,
          -13.254308,
          23.634501,
          4.210484,
          -18.665695,
          -22.95764,
          -20.904305,
          17.607789,
          -29.040835,
          9.081999,
          12.865416,
          52.132633,
          60.472024,
          28.394857,
          -0.522778,
          -19.054445,
          -40.900557,
          21.512583,
          8.537981,
          -9.189967,
          -17.679742,
          -6.314993,
          12.879721,
          30.375321,
          51.919438,
          46.941936,
          -24.703615,
          18.220833,
          31.952162,
          39.399872,
          7.5149799999999995,
          -23.442503,
          25.354826,
          -21.115141,
          45.943161,
          44.016521,
          61.52401,
          -1.940278,
          23.885942,
          -9.64571,
          -4.679574,
          12.862807,
          60.128161,
          1.352083,
          -24.143474,
          46.151241,
          77.553604,
          48.669026,
          8.460555,
          43.94236,
          14.497401,
          5.152149,
          3.919305,
          0.18636000000000003,
          13.794185,
          34.802075,
          -26.522503,
          21.694025,
          15.454166,
          -49.280366,
          8.619543,
          15.870032,
          38.861034,
          -8.967363,
          -8.874217,
          38.969719,
          33.886917,
          -21.178986,
          38.963745,
          10.691803,
          -7.109535,
          23.69781,
          -6.369028,
          48.379433,
          1.373333,
          37.09024,
          37.09024,
          -32.522779,
          41.377491,
          41.902916,
          12.984304999999999,
          6.42375,
          18.420695,
          18.335765,
          14.058324,
          -15.376706,
          -13.768752,
          -13.759029,
          42.602636,
          15.552727,
          -12.8275,
          -30.559482,
          -13.133897,
          -19.015438
         ],
         "legendgroup": "",
         "lon": [
          1.601554,
          53.847818,
          67.709953,
          -61.796428,
          -63.068615,
          20.168331,
          45.038189,
          -69.060087,
          17.873887,
          -0.071389,
          -63.616672,
          -170.132217,
          14.550072,
          133.775136,
          -69.968338,
          47.576927,
          17.679076,
          -59.543198,
          90.356331,
          4.469936,
          -1.561593,
          25.48583,
          50.637772,
          29.918886,
          2.315834,
          -64.75737,
          114.727669,
          -63.588653,
          -51.92528,
          -77.39628,
          90.433601,
          3.413194,
          24.684866,
          27.953389,
          -88.49765,
          -106.346771,
          96.870956,
          21.758664,
          20.939444,
          15.827659,
          8.227512,
          -5.54708,
          -159.777671,
          -71.542969,
          12.354722,
          104.195397,
          -74.297333,
          -83.753428,
          -77.781167,
          -24.013197,
          105.690449,
          33.429859,
          15.472962,
          10.451526,
          42.590275,
          9.501785,
          -61.370976,
          -70.162651,
          1.6596259999999998,
          -78.183406,
          25.013607,
          30.802498,
          -12.885834,
          39.782334,
          -3.74922,
          40.489673,
          25.748151,
          179.414413,
          -59.523613,
          150.550812,
          -6.911806,
          2.213749,
          11.609444,
          -3.435973,
          -61.604171,
          43.356892,
          -53.125782,
          -2.5852779999999997,
          -1.023194,
          -5.345374,
          -42.604303,
          -15.310139,
          -9.696645,
          -62.067641,
          10.267895,
          21.824312,
          -36.587909,
          -90.230759,
          144.793731,
          -15.180413,
          -58.93018,
          34.308825,
          114.109497,
          73.504158,
          -86.241905,
          15.2,
          -72.285215,
          19.503304,
          113.921327,
          -8.24389,
          34.851612,
          -4.548056,
          78.96288,
          71.876519,
          43.679291,
          53.688046,
          -19.020835,
          12.56738,
          -2.13125,
          -77.297508,
          36.238414,
          138.252924,
          37.906193,
          74.766098,
          104.990963,
          -168.734039,
          43.872219,
          -62.782998,
          127.510093,
          127.766922,
          47.481766,
          -80.566956,
          66.923684,
          102.495496,
          35.862285,
          -60.978893,
          9.555373,
          80.771797,
          -9.429499,
          28.233608,
          23.881275,
          6.129583,
          24.603189,
          17.228331,
          -7.09262,
          7.412841,
          28.369885,
          19.374390000000002,
          46.869107,
          171.184478,
          21.745275,
          -3.996166,
          95.956223,
          103.846656,
          113.543873,
          145.38469,
          -61.024174,
          -10.940835,
          -62.187366,
          14.375416,
          57.552152,
          73.22068,
          34.301525,
          -102.552784,
          101.975766,
          35.529562,
          18.49041,
          165.618042,
          8.081666,
          167.954712,
          8.675277,
          -85.207229,
          5.291266,
          8.468946,
          84.124008,
          166.931503,
          -169.867233,
          174.885971,
          55.923255,
          -80.782127,
          -75.015152,
          -149.406843,
          143.95555,
          121.774017,
          69.345116,
          19.145136,
          -56.27111,
          -127.439308,
          -66.590149,
          35.233154,
          -8.224454,
          134.58252,
          -58.443832,
          51.183884,
          55.536384,
          24.96676,
          21.005859,
          105.318756,
          29.873888,
          45.079162,
          160.156194,
          55.491977,
          30.217636,
          18.643501,
          103.819836,
          -10.030696,
          14.995463,
          23.670272,
          19.699024,
          -11.779889,
          12.457777,
          -14.452362,
          46.199616,
          -56.027783,
          6.613081,
          -88.89653,
          38.996815,
          31.465866,
          -71.797928,
          18.732207,
          69.348557,
          0.824782,
          100.992541,
          71.276093,
          -171.855881,
          125.727539,
          59.556278,
          9.537499,
          -175.198242,
          35.243322,
          -61.222503,
          177.64933,
          120.960515,
          34.888822,
          31.16558,
          32.290275,
          -95.712891,
          -95.712891,
          -55.765835,
          64.585262,
          12.453389,
          -61.287228,
          -66.58973,
          -64.639968,
          -64.896335,
          108.277199,
          166.959158,
          -177.156097,
          -172.104629,
          20.902977,
          48.516388,
          45.166244,
          22.937506,
          27.849332,
          29.154857
         ],
         "marker": {
          "color": "#636efa",
          "symbol": "circle"
         },
         "mode": "markers",
         "name": "",
         "showlegend": false,
         "type": "scattergeo"
        },
        {
         "lat": [
          20.2686476,
          39.7837304
         ],
         "line": {
          "color": "red"
         },
         "lon": [
          107.9650855,
          -100.445882
         ],
         "mode": "lines",
         "type": "scattergeo"
        }
       ],
       "layout": {
        "geo": {
         "center": {},
         "domain": {
          "x": [
           0,
           1
          ],
          "y": [
           0,
           1
          ]
         },
         "projection": {
          "type": "orthographic"
         }
        },
        "legend": {
         "tracegroupgap": 0
        },
        "margin": {
         "t": 60
        },
        "template": {
         "data": {
          "bar": [
           {
            "error_x": {
             "color": "#2a3f5f"
            },
            "error_y": {
             "color": "#2a3f5f"
            },
            "marker": {
             "line": {
              "color": "#E5ECF6",
              "width": 0.5
             },
             "pattern": {
              "fillmode": "overlay",
              "size": 10,
              "solidity": 0.2
             }
            },
            "type": "bar"
           }
          ],
          "barpolar": [
           {
            "marker": {
             "line": {
              "color": "#E5ECF6",
              "width": 0.5
             },
             "pattern": {
              "fillmode": "overlay",
              "size": 10,
              "solidity": 0.2
             }
            },
            "type": "barpolar"
           }
          ],
          "carpet": [
           {
            "aaxis": {
             "endlinecolor": "#2a3f5f",
             "gridcolor": "white",
             "linecolor": "white",
             "minorgridcolor": "white",
             "startlinecolor": "#2a3f5f"
            },
            "baxis": {
             "endlinecolor": "#2a3f5f",
             "gridcolor": "white",
             "linecolor": "white",
             "minorgridcolor": "white",
             "startlinecolor": "#2a3f5f"
            },
            "type": "carpet"
           }
          ],
          "choropleth": [
           {
            "colorbar": {
             "outlinewidth": 0,
             "ticks": ""
            },
            "type": "choropleth"
           }
          ],
          "contour": [
           {
            "colorbar": {
             "outlinewidth": 0,
             "ticks": ""
            },
            "colorscale": [
             [
              0,
              "#0d0887"
             ],
             [
              0.1111111111111111,
              "#46039f"
             ],
             [
              0.2222222222222222,
              "#7201a8"
             ],
             [
              0.3333333333333333,
              "#9c179e"
             ],
             [
              0.4444444444444444,
              "#bd3786"
             ],
             [
              0.5555555555555556,
              "#d8576b"
             ],
             [
              0.6666666666666666,
              "#ed7953"
             ],
             [
              0.7777777777777778,
              "#fb9f3a"
             ],
             [
              0.8888888888888888,
              "#fdca26"
             ],
             [
              1,
              "#f0f921"
             ]
            ],
            "type": "contour"
           }
          ],
          "contourcarpet": [
           {
            "colorbar": {
             "outlinewidth": 0,
             "ticks": ""
            },
            "type": "contourcarpet"
           }
          ],
          "heatmap": [
           {
            "colorbar": {
             "outlinewidth": 0,
             "ticks": ""
            },
            "colorscale": [
             [
              0,
              "#0d0887"
             ],
             [
              0.1111111111111111,
              "#46039f"
             ],
             [
              0.2222222222222222,
              "#7201a8"
             ],
             [
              0.3333333333333333,
              "#9c179e"
             ],
             [
              0.4444444444444444,
              "#bd3786"
             ],
             [
              0.5555555555555556,
              "#d8576b"
             ],
             [
              0.6666666666666666,
              "#ed7953"
             ],
             [
              0.7777777777777778,
              "#fb9f3a"
             ],
             [
              0.8888888888888888,
              "#fdca26"
             ],
             [
              1,
              "#f0f921"
             ]
            ],
            "type": "heatmap"
           }
          ],
          "heatmapgl": [
           {
            "colorbar": {
             "outlinewidth": 0,
             "ticks": ""
            },
            "colorscale": [
             [
              0,
              "#0d0887"
             ],
             [
              0.1111111111111111,
              "#46039f"
             ],
             [
              0.2222222222222222,
              "#7201a8"
             ],
             [
              0.3333333333333333,
              "#9c179e"
             ],
             [
              0.4444444444444444,
              "#bd3786"
             ],
             [
              0.5555555555555556,
              "#d8576b"
             ],
             [
              0.6666666666666666,
              "#ed7953"
             ],
             [
              0.7777777777777778,
              "#fb9f3a"
             ],
             [
              0.8888888888888888,
              "#fdca26"
             ],
             [
              1,
              "#f0f921"
             ]
            ],
            "type": "heatmapgl"
           }
          ],
          "histogram": [
           {
            "marker": {
             "pattern": {
              "fillmode": "overlay",
              "size": 10,
              "solidity": 0.2
             }
            },
            "type": "histogram"
           }
          ],
          "histogram2d": [
           {
            "colorbar": {
             "outlinewidth": 0,
             "ticks": ""
            },
            "colorscale": [
             [
              0,
              "#0d0887"
             ],
             [
              0.1111111111111111,
              "#46039f"
             ],
             [
              0.2222222222222222,
              "#7201a8"
             ],
             [
              0.3333333333333333,
              "#9c179e"
             ],
             [
              0.4444444444444444,
              "#bd3786"
             ],
             [
              0.5555555555555556,
              "#d8576b"
             ],
             [
              0.6666666666666666,
              "#ed7953"
             ],
             [
              0.7777777777777778,
              "#fb9f3a"
             ],
             [
              0.8888888888888888,
              "#fdca26"
             ],
             [
              1,
              "#f0f921"
             ]
            ],
            "type": "histogram2d"
           }
          ],
          "histogram2dcontour": [
           {
            "colorbar": {
             "outlinewidth": 0,
             "ticks": ""
            },
            "colorscale": [
             [
              0,
              "#0d0887"
             ],
             [
              0.1111111111111111,
              "#46039f"
             ],
             [
              0.2222222222222222,
              "#7201a8"
             ],
             [
              0.3333333333333333,
              "#9c179e"
             ],
             [
              0.4444444444444444,
              "#bd3786"
             ],
             [
              0.5555555555555556,
              "#d8576b"
             ],
             [
              0.6666666666666666,
              "#ed7953"
             ],
             [
              0.7777777777777778,
              "#fb9f3a"
             ],
             [
              0.8888888888888888,
              "#fdca26"
             ],
             [
              1,
              "#f0f921"
             ]
            ],
            "type": "histogram2dcontour"
           }
          ],
          "mesh3d": [
           {
            "colorbar": {
             "outlinewidth": 0,
             "ticks": ""
            },
            "type": "mesh3d"
           }
          ],
          "parcoords": [
           {
            "line": {
             "colorbar": {
              "outlinewidth": 0,
              "ticks": ""
             }
            },
            "type": "parcoords"
           }
          ],
          "pie": [
           {
            "automargin": true,
            "type": "pie"
           }
          ],
          "scatter": [
           {
            "fillpattern": {
             "fillmode": "overlay",
             "size": 10,
             "solidity": 0.2
            },
            "type": "scatter"
           }
          ],
          "scatter3d": [
           {
            "line": {
             "colorbar": {
              "outlinewidth": 0,
              "ticks": ""
             }
            },
            "marker": {
             "colorbar": {
              "outlinewidth": 0,
              "ticks": ""
             }
            },
            "type": "scatter3d"
           }
          ],
          "scattercarpet": [
           {
            "marker": {
             "colorbar": {
              "outlinewidth": 0,
              "ticks": ""
             }
            },
            "type": "scattercarpet"
           }
          ],
          "scattergeo": [
           {
            "marker": {
             "colorbar": {
              "outlinewidth": 0,
              "ticks": ""
             }
            },
            "type": "scattergeo"
           }
          ],
          "scattergl": [
           {
            "marker": {
             "colorbar": {
              "outlinewidth": 0,
              "ticks": ""
             }
            },
            "type": "scattergl"
           }
          ],
          "scattermapbox": [
           {
            "marker": {
             "colorbar": {
              "outlinewidth": 0,
              "ticks": ""
             }
            },
            "type": "scattermapbox"
           }
          ],
          "scatterpolar": [
           {
            "marker": {
             "colorbar": {
              "outlinewidth": 0,
              "ticks": ""
             }
            },
            "type": "scatterpolar"
           }
          ],
          "scatterpolargl": [
           {
            "marker": {
             "colorbar": {
              "outlinewidth": 0,
              "ticks": ""
             }
            },
            "type": "scatterpolargl"
           }
          ],
          "scatterternary": [
           {
            "marker": {
             "colorbar": {
              "outlinewidth": 0,
              "ticks": ""
             }
            },
            "type": "scatterternary"
           }
          ],
          "surface": [
           {
            "colorbar": {
             "outlinewidth": 0,
             "ticks": ""
            },
            "colorscale": [
             [
              0,
              "#0d0887"
             ],
             [
              0.1111111111111111,
              "#46039f"
             ],
             [
              0.2222222222222222,
              "#7201a8"
             ],
             [
              0.3333333333333333,
              "#9c179e"
             ],
             [
              0.4444444444444444,
              "#bd3786"
             ],
             [
              0.5555555555555556,
              "#d8576b"
             ],
             [
              0.6666666666666666,
              "#ed7953"
             ],
             [
              0.7777777777777778,
              "#fb9f3a"
             ],
             [
              0.8888888888888888,
              "#fdca26"
             ],
             [
              1,
              "#f0f921"
             ]
            ],
            "type": "surface"
           }
          ],
          "table": [
           {
            "cells": {
             "fill": {
              "color": "#EBF0F8"
             },
             "line": {
              "color": "white"
             }
            },
            "header": {
             "fill": {
              "color": "#C8D4E3"
             },
             "line": {
              "color": "white"
             }
            },
            "type": "table"
           }
          ]
         },
         "layout": {
          "annotationdefaults": {
           "arrowcolor": "#2a3f5f",
           "arrowhead": 0,
           "arrowwidth": 1
          },
          "autotypenumbers": "strict",
          "coloraxis": {
           "colorbar": {
            "outlinewidth": 0,
            "ticks": ""
           }
          },
          "colorscale": {
           "diverging": [
            [
             0,
             "#8e0152"
            ],
            [
             0.1,
             "#c51b7d"
            ],
            [
             0.2,
             "#de77ae"
            ],
            [
             0.3,
             "#f1b6da"
            ],
            [
             0.4,
             "#fde0ef"
            ],
            [
             0.5,
             "#f7f7f7"
            ],
            [
             0.6,
             "#e6f5d0"
            ],
            [
             0.7,
             "#b8e186"
            ],
            [
             0.8,
             "#7fbc41"
            ],
            [
             0.9,
             "#4d9221"
            ],
            [
             1,
             "#276419"
            ]
           ],
           "sequential": [
            [
             0,
             "#0d0887"
            ],
            [
             0.1111111111111111,
             "#46039f"
            ],
            [
             0.2222222222222222,
             "#7201a8"
            ],
            [
             0.3333333333333333,
             "#9c179e"
            ],
            [
             0.4444444444444444,
             "#bd3786"
            ],
            [
             0.5555555555555556,
             "#d8576b"
            ],
            [
             0.6666666666666666,
             "#ed7953"
            ],
            [
             0.7777777777777778,
             "#fb9f3a"
            ],
            [
             0.8888888888888888,
             "#fdca26"
            ],
            [
             1,
             "#f0f921"
            ]
           ],
           "sequentialminus": [
            [
             0,
             "#0d0887"
            ],
            [
             0.1111111111111111,
             "#46039f"
            ],
            [
             0.2222222222222222,
             "#7201a8"
            ],
            [
             0.3333333333333333,
             "#9c179e"
            ],
            [
             0.4444444444444444,
             "#bd3786"
            ],
            [
             0.5555555555555556,
             "#d8576b"
            ],
            [
             0.6666666666666666,
             "#ed7953"
            ],
            [
             0.7777777777777778,
             "#fb9f3a"
            ],
            [
             0.8888888888888888,
             "#fdca26"
            ],
            [
             1,
             "#f0f921"
            ]
           ]
          },
          "colorway": [
           "#636efa",
           "#EF553B",
           "#00cc96",
           "#ab63fa",
           "#FFA15A",
           "#19d3f3",
           "#FF6692",
           "#B6E880",
           "#FF97FF",
           "#FECB52"
          ],
          "font": {
           "color": "#2a3f5f"
          },
          "geo": {
           "bgcolor": "white",
           "lakecolor": "white",
           "landcolor": "#E5ECF6",
           "showlakes": true,
           "showland": true,
           "subunitcolor": "white"
          },
          "hoverlabel": {
           "align": "left"
          },
          "hovermode": "closest",
          "mapbox": {
           "style": "light"
          },
          "paper_bgcolor": "white",
          "plot_bgcolor": "#E5ECF6",
          "polar": {
           "angularaxis": {
            "gridcolor": "white",
            "linecolor": "white",
            "ticks": ""
           },
           "bgcolor": "#E5ECF6",
           "radialaxis": {
            "gridcolor": "white",
            "linecolor": "white",
            "ticks": ""
           }
          },
          "scene": {
           "xaxis": {
            "backgroundcolor": "#E5ECF6",
            "gridcolor": "white",
            "gridwidth": 2,
            "linecolor": "white",
            "showbackground": true,
            "ticks": "",
            "zerolinecolor": "white"
           },
           "yaxis": {
            "backgroundcolor": "#E5ECF6",
            "gridcolor": "white",
            "gridwidth": 2,
            "linecolor": "white",
            "showbackground": true,
            "ticks": "",
            "zerolinecolor": "white"
           },
           "zaxis": {
            "backgroundcolor": "#E5ECF6",
            "gridcolor": "white",
            "gridwidth": 2,
            "linecolor": "white",
            "showbackground": true,
            "ticks": "",
            "zerolinecolor": "white"
           }
          },
          "shapedefaults": {
           "line": {
            "color": "#2a3f5f"
           }
          },
          "ternary": {
           "aaxis": {
            "gridcolor": "white",
            "linecolor": "white",
            "ticks": ""
           },
           "baxis": {
            "gridcolor": "white",
            "linecolor": "white",
            "ticks": ""
           },
           "bgcolor": "#E5ECF6",
           "caxis": {
            "gridcolor": "white",
            "linecolor": "white",
            "ticks": ""
           }
          },
          "title": {
           "x": 0.05
          },
          "xaxis": {
           "automargin": true,
           "gridcolor": "white",
           "linecolor": "white",
           "ticks": "",
           "title": {
            "standoff": 15
           },
           "zerolinecolor": "white",
           "zerolinewidth": 2
          },
          "yaxis": {
           "automargin": true,
           "gridcolor": "white",
           "linecolor": "white",
           "ticks": "",
           "title": {
            "standoff": 15
           },
           "zerolinecolor": "white",
           "zerolinewidth": 2
          }
         }
        }
       }
      }
     },
     "metadata": {},
     "output_type": "display_data"
    }
   ],
   "source": [
    "import plotly.graph_objects as go\n",
    "import plotly.express as px\n",
    "\n",
    "# Vẽ biểu đồ\n",
    "fig = px.scatter_geo(data, \n",
    "                     lat='latitude', lon='longitude',\n",
    "                     projection='orthographic',\n",
    "                     hover_name='name')\n",
    "\n",
    "# được sử dụng để thêm một đường trên biểu đồ \n",
    "fig.add_trace(go.Scattergeo(\n",
    "        #  trong thop này go.Scattergeo sẽ tạo một đường nối giữa hai điểm có tọa độ\n",
    "        lat = [20.2686476, 39.7837304],\n",
    "        lon = [ 107.9650855, -100.445882],\n",
    "        # dữ liệu sẽ được hiển thị dưới dạng đường nối giữa các điểm.\n",
    "        mode = 'lines',\n",
    "        # cho phép tùy chỉnh các thuộc tính của đường nối \n",
    "        line = dict(color = 'red')))\n",
    "fig.show()"
   ]
  },
  {
   "cell_type": "code",
   "execution_count": 20,
   "metadata": {},
   "outputs": [
    {
     "name": "stdout",
     "output_type": "stream",
     "text": [
      "Khoảng cách giữa hai điểm là: 13156.422 km\n"
     ]
    }
   ],
   "source": [
    "import numpy as np\n",
    "from math import acos, sin, cos\n",
    "\n",
    "# r = 6371: Đây là bán kính trung bình của Trái Đất, được đo bằng kilômét.\n",
    "r = 6371\n",
    "\n",
    "def convert_rad(lat1, lat2, lon1, lon2):\n",
    "    return lat1 * (np.pi / 180), lat2 * (np.pi / 180), lon1 * (np.pi / 180), lon2 * (np.pi / 180)\n",
    "\n",
    "# Hàm này tính toán khoảng cách giữa hai điểm trên bề mặt\n",
    "def distcalculate(lat1, lat2, lon1, lon2):\n",
    "    lat1, lat2, lon1, lon2 = convert_rad(lat1, lat2, lon1, lon2)\n",
    "    # sử dụng công thức haversine.\n",
    "    # Dạ, acos là viết tắt của “arc cosine”, nhận giá trị từ -1 đến 1\n",
    "    # hay còn gọi là hàm nghịch đảo của hàm cosine trong toán học.\n",
    "    dist = 6371.0 * acos(sin(lat1) * sin(lat2) + cos(lat1) * cos(lat2) * cos(lon1 - lon2))\n",
    "    return dist\n",
    "\n",
    "# Tính khoảng cách giữa hai điểm có tọa độ (15.9266657, 39.7837304) và (107.9650855, -100.445882)\n",
    "distance_km = round(distcalculate(15.9266657, 39.7837304, 107.9650855, -100.445882), 3)\n",
    "print(f'Khoảng cách giữa hai điểm là: {distance_km} km')\n"
   ]
  },
  {
   "cell_type": "code",
   "execution_count": 21,
   "metadata": {},
   "outputs": [
    {
     "name": "stdout",
     "output_type": "stream",
     "text": [
      "Tỉnh Nam Định, Việt Nam\n",
      "latitude: 20.2686476\n",
      "longitude: 106.2289075\n"
     ]
    }
   ],
   "source": [
    "# Convert Address to Latitude Longitude\n",
    "#  geopy, geocoder là một công cụ giúp chuyển đổi giữa địa chỉ \n",
    "# (dưới dạng văn bản) và vị trí địa lý (dưới dạng tọa độ).\n",
    "# Có nhiều dịch vụ geocoding khác nhau và mỗi dịch vụ sẽ có những đặc điểm và hạn chế riêng.\n",
    "# Nominatim là một dịch vụ geocoding miễn phí dựa trên dữ liệu từ OpenStreetMap.\n",
    "from geopy.geocoders import Nominatim\n",
    "# Tạo một đối tượng Nominatim với user agent là ‘getlocation’.\n",
    "# User agent là một chuỗi nhận dạng giúp dịch vụ geocoding biết yêu cầu đến từ đâu.\n",
    "loc = Nominatim(user_agent='getlocation')\n",
    "\n",
    "# phương thức geocode của đối tượng Nominatim để lấy thông tin vị trí địa lý của địa chỉ của query\n",
    "getloc = loc.geocode(query= {'Nam dinh'})\n",
    "\n",
    "#  In ra địa chỉ đầy đủ của địa điểm được tìm thấy.\n",
    "print(getloc.address)\n",
    "\n",
    "# In ra vĩ độ của địa điểm.\n",
    "print(\"latitude:\",getloc.latitude)\n",
    "\n",
    "# /In ra kinh độ của địa điểm.\n",
    "print(\"longitude:\",getloc.longitude)\n",
    "\n",
    "# postal code : mã bưu điện\n"
   ]
  },
  {
   "cell_type": "code",
   "execution_count": 22,
   "metadata": {},
   "outputs": [
    {
     "name": "stdout",
     "output_type": "stream",
     "text": [
      "Gia Bình, Huyện Gia Bình, Tỉnh Bắc Ninh, Việt Nam\n"
     ]
    }
   ],
   "source": [
    "# Convert Latitude Longitude to Address\n",
    "loc = Nominatim(user_agent='getloc')\n",
    "\n",
    "getloc = loc.reverse('21.0638566,106.20034615342385')\n",
    "\n",
    "print(getloc.address)"
   ]
  },
  {
   "cell_type": "code",
   "execution_count": 23,
   "metadata": {},
   "outputs": [
    {
     "name": "stdout",
     "output_type": "stream",
     "text": [
      "Thành phố Hà Nội, Việt Nam\n"
     ]
    },
    {
     "data": {
      "text/plain": [
       "(21.0283334, 105.854041)"
      ]
     },
     "execution_count": 23,
     "metadata": {},
     "output_type": "execute_result"
    }
   ],
   "source": [
    "from geopy.geocoders import Nominatim\n",
    "loc = Nominatim(user_agent='getlocation')\n",
    "getloc = loc.geocode(query= {'ha noi'})\n",
    "lat = getloc.latitude\n",
    "lon = getloc.longitude\n",
    "\n",
    "print(getloc.address)\n",
    "lat,lon"
   ]
  }
 ],
 "metadata": {
  "kernelspec": {
   "display_name": "Python 3",
   "language": "python",
   "name": "python3"
  },
  "language_info": {
   "codemirror_mode": {
    "name": "ipython",
    "version": 3
   },
   "file_extension": ".py",
   "mimetype": "text/x-python",
   "name": "python",
   "nbconvert_exporter": "python",
   "pygments_lexer": "ipython3",
   "version": "3.12.2"
  }
 },
 "nbformat": 4,
 "nbformat_minor": 2
}

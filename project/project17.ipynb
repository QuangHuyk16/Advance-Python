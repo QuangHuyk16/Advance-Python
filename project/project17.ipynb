{
 "cells": [
  {
   "cell_type": "markdown",
   "metadata": {},
   "source": [
    "# Nhận cập nhật thời tiết trực tiếp bằng Python"
   ]
  },
  {
   "cell_type": "markdown",
   "metadata": {},
   "source": [
    "Cách cập nhật thời tiết trực tiếp bằng Python?\n",
    "Có nhiều cách để có được thời tiết trực tiếp cho mọi thành phố bằng ngôn ngữ lập trình Python. Sử dụng API thời tiết do ứng dụng của bên thứ ba cung cấp nhưng có thể phải trả phí để kết nối với các dịch vụ làm việc với API thời tiết hoặc thu thập dữ liệu thời tiết trực tiếp từ một thành phố cụ thể và không phải trả phí\n",
    "\n",
    "Dưới đây sẽ là phần hướng dẫn thu thập dữ liệu thời tiết trực tiếp từ một thành phố cụ thể"
   ]
  },
  {
   "cell_type": "markdown",
   "metadata": {},
   "source": [
    "# pip install beautifulsoup4\n",
    "# pip install requests"
   ]
  },
  {
   "cell_type": "code",
   "execution_count": 1,
   "metadata": {},
   "outputs": [
    {
     "name": "stdout",
     "output_type": "stream",
     "text": [
      "Nam Dinh\n",
      "27°C \n",
      "Thứ Ba 09:43\n",
      "Nhiều mây\n"
     ]
    }
   ],
   "source": [
    "import requests\n",
    "from bs4 import BeautifulSoup\n",
    "\n",
    "def get_weather(city):\n",
    "    # Thay thế khoảng trắng trong tên thành phố bằng dấu cộng để tạo URL hợp lệ\n",
    "    city = city.replace(\" \", \"+\")\n",
    "    # Gửi yêu cầu HTTP đến Google để tìm kiếm thông tin thời tiết\n",
    "    response = requests.get(f'https://www.google.com/search?q={city}&oq={city}&aqs=chrome.0.35i39l2j0l4j46j69i60.6128j1j7&sourceid=chrome&ie=UTF-8')\n",
    "    \n",
    "    # Kiểm tra xem trang web có chặn truy cập không\n",
    "    if response.status_code != 200:\n",
    "        print(\"Không thể truy cập thông tin thời tiết cho thành phố này.\")\n",
    "        return\n",
    "    \n",
    "    # Phân tích nội dung HTML của trang web Google để trích xuất thông tin thời tiết\n",
    "    soup = BeautifulSoup(response.content, 'html.parser')\n",
    "\n",
    "    try:\n",
    "        # Trích xuất thông tin thời tiết từ HTML\n",
    "        location = soup.find(\"div\", class_=\"BNeawe iBp4i AP7Wnd\").get_text()\n",
    "        time_weather = soup.find(\"div\", class_=\"BNeawe tAd8D AP7Wnd\").get_text()\n",
    "\n",
    "        # In kết quả\n",
    "        print(f\"{location} \\n{time_weather}\")\n",
    "    except AttributeError:\n",
    "        print(\"Không tìm thấy thông tin thời tiết cho thành phố này.\")\n",
    "\n",
    "# Sử dụng hàm với tên thành phố bất kỳ\n",
    "city_name = input(\"Nhập tên thành phố: \") \n",
    "#Câu lệnh title() viết hoa chữ cái đầu câu của mỗi từ trong chuỗi\n",
    "print(city_name.title())\n",
    "#Thêm từ weather để tìm kiếm thời tiết thành phố bất kỳ\n",
    "city = city_name + 'weather'\n",
    "get_weather(city)\n"
   ]
  }
 ],
 "metadata": {
  "kernelspec": {
   "display_name": "Python 3",
   "language": "python",
   "name": "python3"
  },
  "language_info": {
   "codemirror_mode": {
    "name": "ipython",
    "version": 3
   },
   "file_extension": ".py",
   "mimetype": "text/x-python",
   "name": "python",
   "nbconvert_exporter": "python",
   "pygments_lexer": "ipython3",
   "version": "3.12.2"
  }
 },
 "nbformat": 4,
 "nbformat_minor": 2
}

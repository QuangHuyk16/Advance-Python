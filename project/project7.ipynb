{
 "cells": [
  {
   "cell_type": "markdown",
   "metadata": {},
   "source": [
    "# Biểu đồ nến sử dụng Python\n",
    "\n",
    "Biểu đồ nến là một công cụ trực quan hóa dữ liệu được sử dụng để phân tích biến động giá của cổ phiếu, tiền điện tử, tiền tệ và các công cụ tài chính khác. Biểu đồ nến là một trong những cách trực quan hóa dữ liệu quan trọng nhất đối với nhà khoa học/nhà phân tích dữ liệu trong lĩnh vực tài chính.\n",
    "\n",
    "Để trực quan hóa biểu đồ hình nến bằng ngôn ngữ lập trình Python, có thể sử dụng bất kỳ thư viện trực quan hóa dữ liệu nào trong Python như Matplotlib hoặc Plotly. Thư viện cung cấp các tính năng tốt hơn để hiển thị biểu đồ hình nến và đồng thời làm cho nó có tính tương tác.\n",
    "\n",
    "Dưới đây là cách sử dụng thư viện Pploly để hiển thị biểu đồ hình nến về giá cổ phiếu của Apple trong ba tháng qua bằng Python:"
   ]
  },
  {
   "cell_type": "code",
   "execution_count": 5,
   "metadata": {},
   "outputs": [
    {
     "data": {
      "application/vnd.plotly.v1+json": {
       "config": {
        "plotlyServerURL": "https://plot.ly"
       },
       "data": [
        {
         "close": [
          149.029999,
          148.789993,
          146.059998,
          142.940002,
          143.429993,
          145.850006,
          146.830002,
          146.919998,
          145.369995,
          141.910004,
          142.830002,
          141.5,
          142.649994,
          139.139999,
          141.110001,
          142,
          143.289993,
          142.899994,
          142.809998,
          141.509995,
          140.910004,
          143.759995,
          144.839996,
          146.550003,
          148.759995,
          149.259995,
          149.479996,
          148.690002,
          148.639999,
          149.320007,
          148.850006,
          152.570007,
          149.800003,
          148.960007,
          150.020004,
          151.490005,
          150.960007,
          151.279999,
          150.440002,
          150.809998,
          147.919998,
          147.869995,
          149.990005,
          150,
          151,
          153.490005,
          157.869995,
          160.550003,
          161.020004,
          161.410004,
          161.940002,
          156.809998,
          160.240005,
          165.300003,
          164.770004,
          163.759995,
          161.839996,
          165.320007,
          171.179993,
          175.080002,
          174.559998,
          179.449997,
          175.740005,
          174.330002
         ],
         "high": [
          149.440002,
          148.970001,
          148.820007,
          144.839996,
          144.600006,
          146.429993,
          147.080002,
          147.470001,
          145.960007,
          144.75,
          144.449997,
          144.380005,
          142.919998,
          142.210007,
          142.240005,
          142.149994,
          144.220001,
          144.179993,
          144.809998,
          143.25,
          141.399994,
          143.880005,
          144.899994,
          146.839996,
          149.169998,
          149.75,
          149.639999,
          150.179993,
          149.369995,
          150.839996,
          149.729996,
          153.169998,
          149.940002,
          149.699997,
          151.570007,
          151.970001,
          152.429993,
          152.199997,
          151.570007,
          151.429993,
          150.130005,
          149.429993,
          150.399994,
          151.880005,
          151.490005,
          155,
          158.669998,
          161.020004,
          165.699997,
          161.800003,
          162.139999,
          160.449997,
          161.190002,
          165.520004,
          170.300003,
          164.199997,
          164.960007,
          167.880005,
          171.580002,
          175.960007,
          176.75,
          179.630005,
          182.130005,
          177.740005
         ],
         "low": [
          146.369995,
          147.220001,
          145.759995,
          141.270004,
          142.779999,
          143.699997,
          145.639999,
          145.559998,
          143.820007,
          141.690002,
          142.029999,
          141.279999,
          139.110001,
          138.270004,
          139.360001,
          138.369995,
          142.720001,
          142.559998,
          141.809998,
          141.039993,
          139.199997,
          141.509995,
          143.509995,
          143.160004,
          146.550003,
          148.119995,
          147.869995,
          148.639999,
          147.619995,
          149.009995,
          148.490005,
          149.720001,
          146.410004,
          147.800003,
          148.649994,
          149.820007,
          150.639999,
          150.059998,
          150.160004,
          150.059998,
          147.850006,
          147.679993,
          147.479996,
          149.429993,
          149.339996,
          150.990005,
          153.050003,
          156.529999,
          161,
          159.059998,
          159.639999,
          156.360001,
          158.789993,
          159.919998,
          164.529999,
          157.800003,
          159.720001,
          164.279999,
          168.339996,
          170.699997,
          173.919998,
          174.690002,
          175.529999,
          172.210007
         ],
         "open": [
          148.559998,
          148.440002,
          148.820007,
          143.800003,
          143.929993,
          144.449997,
          146.649994,
          145.660004,
          145.470001,
          143.25,
          142.470001,
          143.660004,
          141.899994,
          141.759995,
          139.490005,
          139.470001,
          143.059998,
          144.029999,
          142.270004,
          143.229996,
          141.240005,
          142.110001,
          143.770004,
          143.449997,
          147.009995,
          148.699997,
          148.809998,
          149.690002,
          148.679993,
          149.330002,
          149.360001,
          149.820007,
          147.220001,
          148.990005,
          148.660004,
          150.389999,
          151.580002,
          151.889999,
          151.410004,
          150.199997,
          150.020004,
          148.960007,
          148.429993,
          150.369995,
          149.940002,
          151,
          153.710007,
          157.649994,
          161.679993,
          161.119995,
          160.75,
          159.570007,
          159.369995,
          159.990005,
          167.479996,
          158.740005,
          164.020004,
          164.289993,
          169.080002,
          172.130005,
          174.910004,
          175.210007,
          181.119995,
          175.25
         ],
         "type": "candlestick",
         "x": [
          "2021-09-15",
          "2021-09-16",
          "2021-09-17",
          "2021-09-20",
          "2021-09-21",
          "2021-09-22",
          "2021-09-23",
          "2021-09-24",
          "2021-09-27",
          "2021-09-28",
          "2021-09-29",
          "2021-09-30",
          "2021-10-01",
          "2021-10-04",
          "2021-10-05",
          "2021-10-06",
          "2021-10-07",
          "2021-10-08",
          "2021-10-11",
          "2021-10-12",
          "2021-10-13",
          "2021-10-14",
          "2021-10-15",
          "2021-10-18",
          "2021-10-19",
          "2021-10-20",
          "2021-10-21",
          "2021-10-22",
          "2021-10-25",
          "2021-10-26",
          "2021-10-27",
          "2021-10-28",
          "2021-10-29",
          "2021-11-01",
          "2021-11-02",
          "2021-11-03",
          "2021-11-04",
          "2021-11-05",
          "2021-11-08",
          "2021-11-09",
          "2021-11-10",
          "2021-11-11",
          "2021-11-12",
          "2021-11-15",
          "2021-11-16",
          "2021-11-17",
          "2021-11-18",
          "2021-11-19",
          "2021-11-22",
          "2021-11-23",
          "2021-11-24",
          "2021-11-26",
          "2021-11-29",
          "2021-11-30",
          "2021-12-01",
          "2021-12-02",
          "2021-12-03",
          "2021-12-06",
          "2021-12-07",
          "2021-12-08",
          "2021-12-09",
          "2021-12-10",
          "2021-12-13",
          "2021-12-14"
         ]
        }
       ],
       "layout": {
        "template": {
         "data": {
          "bar": [
           {
            "error_x": {
             "color": "#2a3f5f"
            },
            "error_y": {
             "color": "#2a3f5f"
            },
            "marker": {
             "line": {
              "color": "#E5ECF6",
              "width": 0.5
             },
             "pattern": {
              "fillmode": "overlay",
              "size": 10,
              "solidity": 0.2
             }
            },
            "type": "bar"
           }
          ],
          "barpolar": [
           {
            "marker": {
             "line": {
              "color": "#E5ECF6",
              "width": 0.5
             },
             "pattern": {
              "fillmode": "overlay",
              "size": 10,
              "solidity": 0.2
             }
            },
            "type": "barpolar"
           }
          ],
          "carpet": [
           {
            "aaxis": {
             "endlinecolor": "#2a3f5f",
             "gridcolor": "white",
             "linecolor": "white",
             "minorgridcolor": "white",
             "startlinecolor": "#2a3f5f"
            },
            "baxis": {
             "endlinecolor": "#2a3f5f",
             "gridcolor": "white",
             "linecolor": "white",
             "minorgridcolor": "white",
             "startlinecolor": "#2a3f5f"
            },
            "type": "carpet"
           }
          ],
          "choropleth": [
           {
            "colorbar": {
             "outlinewidth": 0,
             "ticks": ""
            },
            "type": "choropleth"
           }
          ],
          "contour": [
           {
            "colorbar": {
             "outlinewidth": 0,
             "ticks": ""
            },
            "colorscale": [
             [
              0,
              "#0d0887"
             ],
             [
              0.1111111111111111,
              "#46039f"
             ],
             [
              0.2222222222222222,
              "#7201a8"
             ],
             [
              0.3333333333333333,
              "#9c179e"
             ],
             [
              0.4444444444444444,
              "#bd3786"
             ],
             [
              0.5555555555555556,
              "#d8576b"
             ],
             [
              0.6666666666666666,
              "#ed7953"
             ],
             [
              0.7777777777777778,
              "#fb9f3a"
             ],
             [
              0.8888888888888888,
              "#fdca26"
             ],
             [
              1,
              "#f0f921"
             ]
            ],
            "type": "contour"
           }
          ],
          "contourcarpet": [
           {
            "colorbar": {
             "outlinewidth": 0,
             "ticks": ""
            },
            "type": "contourcarpet"
           }
          ],
          "heatmap": [
           {
            "colorbar": {
             "outlinewidth": 0,
             "ticks": ""
            },
            "colorscale": [
             [
              0,
              "#0d0887"
             ],
             [
              0.1111111111111111,
              "#46039f"
             ],
             [
              0.2222222222222222,
              "#7201a8"
             ],
             [
              0.3333333333333333,
              "#9c179e"
             ],
             [
              0.4444444444444444,
              "#bd3786"
             ],
             [
              0.5555555555555556,
              "#d8576b"
             ],
             [
              0.6666666666666666,
              "#ed7953"
             ],
             [
              0.7777777777777778,
              "#fb9f3a"
             ],
             [
              0.8888888888888888,
              "#fdca26"
             ],
             [
              1,
              "#f0f921"
             ]
            ],
            "type": "heatmap"
           }
          ],
          "heatmapgl": [
           {
            "colorbar": {
             "outlinewidth": 0,
             "ticks": ""
            },
            "colorscale": [
             [
              0,
              "#0d0887"
             ],
             [
              0.1111111111111111,
              "#46039f"
             ],
             [
              0.2222222222222222,
              "#7201a8"
             ],
             [
              0.3333333333333333,
              "#9c179e"
             ],
             [
              0.4444444444444444,
              "#bd3786"
             ],
             [
              0.5555555555555556,
              "#d8576b"
             ],
             [
              0.6666666666666666,
              "#ed7953"
             ],
             [
              0.7777777777777778,
              "#fb9f3a"
             ],
             [
              0.8888888888888888,
              "#fdca26"
             ],
             [
              1,
              "#f0f921"
             ]
            ],
            "type": "heatmapgl"
           }
          ],
          "histogram": [
           {
            "marker": {
             "pattern": {
              "fillmode": "overlay",
              "size": 10,
              "solidity": 0.2
             }
            },
            "type": "histogram"
           }
          ],
          "histogram2d": [
           {
            "colorbar": {
             "outlinewidth": 0,
             "ticks": ""
            },
            "colorscale": [
             [
              0,
              "#0d0887"
             ],
             [
              0.1111111111111111,
              "#46039f"
             ],
             [
              0.2222222222222222,
              "#7201a8"
             ],
             [
              0.3333333333333333,
              "#9c179e"
             ],
             [
              0.4444444444444444,
              "#bd3786"
             ],
             [
              0.5555555555555556,
              "#d8576b"
             ],
             [
              0.6666666666666666,
              "#ed7953"
             ],
             [
              0.7777777777777778,
              "#fb9f3a"
             ],
             [
              0.8888888888888888,
              "#fdca26"
             ],
             [
              1,
              "#f0f921"
             ]
            ],
            "type": "histogram2d"
           }
          ],
          "histogram2dcontour": [
           {
            "colorbar": {
             "outlinewidth": 0,
             "ticks": ""
            },
            "colorscale": [
             [
              0,
              "#0d0887"
             ],
             [
              0.1111111111111111,
              "#46039f"
             ],
             [
              0.2222222222222222,
              "#7201a8"
             ],
             [
              0.3333333333333333,
              "#9c179e"
             ],
             [
              0.4444444444444444,
              "#bd3786"
             ],
             [
              0.5555555555555556,
              "#d8576b"
             ],
             [
              0.6666666666666666,
              "#ed7953"
             ],
             [
              0.7777777777777778,
              "#fb9f3a"
             ],
             [
              0.8888888888888888,
              "#fdca26"
             ],
             [
              1,
              "#f0f921"
             ]
            ],
            "type": "histogram2dcontour"
           }
          ],
          "mesh3d": [
           {
            "colorbar": {
             "outlinewidth": 0,
             "ticks": ""
            },
            "type": "mesh3d"
           }
          ],
          "parcoords": [
           {
            "line": {
             "colorbar": {
              "outlinewidth": 0,
              "ticks": ""
             }
            },
            "type": "parcoords"
           }
          ],
          "pie": [
           {
            "automargin": true,
            "type": "pie"
           }
          ],
          "scatter": [
           {
            "fillpattern": {
             "fillmode": "overlay",
             "size": 10,
             "solidity": 0.2
            },
            "type": "scatter"
           }
          ],
          "scatter3d": [
           {
            "line": {
             "colorbar": {
              "outlinewidth": 0,
              "ticks": ""
             }
            },
            "marker": {
             "colorbar": {
              "outlinewidth": 0,
              "ticks": ""
             }
            },
            "type": "scatter3d"
           }
          ],
          "scattercarpet": [
           {
            "marker": {
             "colorbar": {
              "outlinewidth": 0,
              "ticks": ""
             }
            },
            "type": "scattercarpet"
           }
          ],
          "scattergeo": [
           {
            "marker": {
             "colorbar": {
              "outlinewidth": 0,
              "ticks": ""
             }
            },
            "type": "scattergeo"
           }
          ],
          "scattergl": [
           {
            "marker": {
             "colorbar": {
              "outlinewidth": 0,
              "ticks": ""
             }
            },
            "type": "scattergl"
           }
          ],
          "scattermapbox": [
           {
            "marker": {
             "colorbar": {
              "outlinewidth": 0,
              "ticks": ""
             }
            },
            "type": "scattermapbox"
           }
          ],
          "scatterpolar": [
           {
            "marker": {
             "colorbar": {
              "outlinewidth": 0,
              "ticks": ""
             }
            },
            "type": "scatterpolar"
           }
          ],
          "scatterpolargl": [
           {
            "marker": {
             "colorbar": {
              "outlinewidth": 0,
              "ticks": ""
             }
            },
            "type": "scatterpolargl"
           }
          ],
          "scatterternary": [
           {
            "marker": {
             "colorbar": {
              "outlinewidth": 0,
              "ticks": ""
             }
            },
            "type": "scatterternary"
           }
          ],
          "surface": [
           {
            "colorbar": {
             "outlinewidth": 0,
             "ticks": ""
            },
            "colorscale": [
             [
              0,
              "#0d0887"
             ],
             [
              0.1111111111111111,
              "#46039f"
             ],
             [
              0.2222222222222222,
              "#7201a8"
             ],
             [
              0.3333333333333333,
              "#9c179e"
             ],
             [
              0.4444444444444444,
              "#bd3786"
             ],
             [
              0.5555555555555556,
              "#d8576b"
             ],
             [
              0.6666666666666666,
              "#ed7953"
             ],
             [
              0.7777777777777778,
              "#fb9f3a"
             ],
             [
              0.8888888888888888,
              "#fdca26"
             ],
             [
              1,
              "#f0f921"
             ]
            ],
            "type": "surface"
           }
          ],
          "table": [
           {
            "cells": {
             "fill": {
              "color": "#EBF0F8"
             },
             "line": {
              "color": "white"
             }
            },
            "header": {
             "fill": {
              "color": "#C8D4E3"
             },
             "line": {
              "color": "white"
             }
            },
            "type": "table"
           }
          ]
         },
         "layout": {
          "annotationdefaults": {
           "arrowcolor": "#2a3f5f",
           "arrowhead": 0,
           "arrowwidth": 1
          },
          "autotypenumbers": "strict",
          "coloraxis": {
           "colorbar": {
            "outlinewidth": 0,
            "ticks": ""
           }
          },
          "colorscale": {
           "diverging": [
            [
             0,
             "#8e0152"
            ],
            [
             0.1,
             "#c51b7d"
            ],
            [
             0.2,
             "#de77ae"
            ],
            [
             0.3,
             "#f1b6da"
            ],
            [
             0.4,
             "#fde0ef"
            ],
            [
             0.5,
             "#f7f7f7"
            ],
            [
             0.6,
             "#e6f5d0"
            ],
            [
             0.7,
             "#b8e186"
            ],
            [
             0.8,
             "#7fbc41"
            ],
            [
             0.9,
             "#4d9221"
            ],
            [
             1,
             "#276419"
            ]
           ],
           "sequential": [
            [
             0,
             "#0d0887"
            ],
            [
             0.1111111111111111,
             "#46039f"
            ],
            [
             0.2222222222222222,
             "#7201a8"
            ],
            [
             0.3333333333333333,
             "#9c179e"
            ],
            [
             0.4444444444444444,
             "#bd3786"
            ],
            [
             0.5555555555555556,
             "#d8576b"
            ],
            [
             0.6666666666666666,
             "#ed7953"
            ],
            [
             0.7777777777777778,
             "#fb9f3a"
            ],
            [
             0.8888888888888888,
             "#fdca26"
            ],
            [
             1,
             "#f0f921"
            ]
           ],
           "sequentialminus": [
            [
             0,
             "#0d0887"
            ],
            [
             0.1111111111111111,
             "#46039f"
            ],
            [
             0.2222222222222222,
             "#7201a8"
            ],
            [
             0.3333333333333333,
             "#9c179e"
            ],
            [
             0.4444444444444444,
             "#bd3786"
            ],
            [
             0.5555555555555556,
             "#d8576b"
            ],
            [
             0.6666666666666666,
             "#ed7953"
            ],
            [
             0.7777777777777778,
             "#fb9f3a"
            ],
            [
             0.8888888888888888,
             "#fdca26"
            ],
            [
             1,
             "#f0f921"
            ]
           ]
          },
          "colorway": [
           "#636efa",
           "#EF553B",
           "#00cc96",
           "#ab63fa",
           "#FFA15A",
           "#19d3f3",
           "#FF6692",
           "#B6E880",
           "#FF97FF",
           "#FECB52"
          ],
          "font": {
           "color": "#2a3f5f"
          },
          "geo": {
           "bgcolor": "white",
           "lakecolor": "white",
           "landcolor": "#E5ECF6",
           "showlakes": true,
           "showland": true,
           "subunitcolor": "white"
          },
          "hoverlabel": {
           "align": "left"
          },
          "hovermode": "closest",
          "mapbox": {
           "style": "light"
          },
          "paper_bgcolor": "white",
          "plot_bgcolor": "#E5ECF6",
          "polar": {
           "angularaxis": {
            "gridcolor": "white",
            "linecolor": "white",
            "ticks": ""
           },
           "bgcolor": "#E5ECF6",
           "radialaxis": {
            "gridcolor": "white",
            "linecolor": "white",
            "ticks": ""
           }
          },
          "scene": {
           "xaxis": {
            "backgroundcolor": "#E5ECF6",
            "gridcolor": "white",
            "gridwidth": 2,
            "linecolor": "white",
            "showbackground": true,
            "ticks": "",
            "zerolinecolor": "white"
           },
           "yaxis": {
            "backgroundcolor": "#E5ECF6",
            "gridcolor": "white",
            "gridwidth": 2,
            "linecolor": "white",
            "showbackground": true,
            "ticks": "",
            "zerolinecolor": "white"
           },
           "zaxis": {
            "backgroundcolor": "#E5ECF6",
            "gridcolor": "white",
            "gridwidth": 2,
            "linecolor": "white",
            "showbackground": true,
            "ticks": "",
            "zerolinecolor": "white"
           }
          },
          "shapedefaults": {
           "line": {
            "color": "#2a3f5f"
           }
          },
          "ternary": {
           "aaxis": {
            "gridcolor": "white",
            "linecolor": "white",
            "ticks": ""
           },
           "baxis": {
            "gridcolor": "white",
            "linecolor": "white",
            "ticks": ""
           },
           "bgcolor": "#E5ECF6",
           "caxis": {
            "gridcolor": "white",
            "linecolor": "white",
            "ticks": ""
           }
          },
          "title": {
           "x": 0.05
          },
          "xaxis": {
           "automargin": true,
           "gridcolor": "white",
           "linecolor": "white",
           "ticks": "",
           "title": {
            "standoff": 15
           },
           "zerolinecolor": "white",
           "zerolinewidth": 2
          },
          "yaxis": {
           "automargin": true,
           "gridcolor": "white",
           "linecolor": "white",
           "ticks": "",
           "title": {
            "standoff": 15
           },
           "zerolinecolor": "white",
           "zerolinewidth": 2
          }
         }
        },
        "title": {
         "text": "Apple Stock Price Analysis"
        },
        "xaxis": {
         "rangeslider": {
          "visible": false
         }
        }
       }
      }
     },
     "metadata": {},
     "output_type": "display_data"
    }
   ],
   "source": [
    "import pandas as pd\n",
    "import plotly.graph_objects as go\n",
    "\n",
    "data = pd.read_csv(r\"D:\\Advance Python\\data\\AAPL.csv\")\n",
    "figure = go.Figure(data=[go.Candlestick(x=data[\"Date\"],\n",
    "                                        open=data[\"Open\"],\n",
    "                                        high=data[\"High\"],\n",
    "                                        low=data[\"Low\"],\n",
    "                                        close=data[\"Close\"])])\n",
    "figure.update_layout(title = \"Apple Stock Price Analysis\", \n",
    "                     xaxis_rangeslider_visible = False)\n",
    "\n",
    "figure.show()"
   ]
  },
  {
   "cell_type": "markdown",
   "metadata": {},
   "source": [
    "Cấu trúc nến mà bạn thấy trong biểu đồ nến ở hình trên:\n",
    "\n",
    "Khu vực giữa giá mở và giá đóng được gọi là thân nến, biểu thị giá mở cửa và giá đóng cửa. Các thành phần bên trên và bên dưới thân nến được gọi là bóng. Bóng trên và bóng dưới hiển thị giá cao nhất và thấp nhất của cổ phiếu trong một khoảng thời gian nhất định.\n",
    "Nến xanh tượng trưng cho nến tăng và nến đỏ tượng trưng cho nến giảm. Khi giá mở cửa cao hơn giá đóng cửa trong một khoảng thời gian nhất định, nến đỏ hoặc nến giảm giá sẽ được hình thành và khi giá đóng cửa cao hơn giá mở cửa trong một khoảng thời gian nhất định, nến xanh hoặc nến tăng giá sẽ được hình thành.\n",
    "Kích thước thân nến cũng khác nhau trong biểu đồ nến. Kích thước của nó có thể dài, bình thường hoặc ngắn tùy thuộc vào tỷ lệ giá cao và giá thấp của cổ phiếu trong một khoảng thời gian nhất định.\n",
    "\n",
    "# Cách phân tích biểu đồ nến\n",
    "\n",
    "Phần thân thực của biểu đồ nến hiển thị giá mở cửa và giá đóng cửa của một cổ phiếu. Nếu giá mở cửa cao hơn, bạn sẽ thấy nến đỏ hoặc nến giảm biểu thị sự giảm giá trong một khoảng thời gian cụ thể và nếu giá đóng cửa cao hơn, bạn sẽ thấy nến xanh hoặc nến tăng biểu thị sự tăng giá trong một khoảng thời gian cụ thể. giai đoạn đặc biệt.\n",
    "\n",
    "Bóng trên và bóng dưới hiển thị giá cao và thấp trong một khoảng thời gian cụ thể. Nếu bóng trên của nến xanh hoặc nến tăng ngắn, điều đó có nghĩa là giá cổ phiếu đóng cửa gần mức giá cao nhất trong ngày và nếu bóng trên của nến đỏ hoặc nến giảm ngắn, điều đó có nghĩa là giá cổ phiếu mở cửa gần mức giá cao nhất trong ngày.\n",
    "\n",
    "Dưới đây là một số điểm bạn nên ghi nhớ:\n",
    "\n",
    "1.Vùng giữa giá mở cửa và giá đóng cửa được gọi là thân nến, biểu thị giá mở cửa và giá đóng cửa;\n",
    "2.Bóng trên và bóng dưới hiển thị giá cao nhất và thấp nhất của cổ phiếu trong một khoảng thời gian cụ thể;\n",
    "3.Khi giá tăng, nến tăng được hình thành và khi giá giảm, nến giảm được hình thành;\n",
    "4.Nếu giá mở cửa cao hơn, bạn sẽ thấy nến đỏ hoặc nến giảm biểu thị giá giảm trong một khoảng thời gian cụ thể;\n",
    "5.Nếu giá đóng cửa cao hơn, bạn sẽ thấy nến xanh hoặc nến tăng biểu thị sự tăng giá trong một khoảng thời gian cụ thể."
   ]
  }
 ],
 "metadata": {
  "kernelspec": {
   "display_name": "Python 3",
   "language": "python",
   "name": "python3"
  },
  "language_info": {
   "codemirror_mode": {
    "name": "ipython",
    "version": 3
   },
   "file_extension": ".py",
   "mimetype": "text/x-python",
   "name": "python",
   "nbconvert_exporter": "python",
   "pygments_lexer": "ipython3",
   "version": "3.12.2"
  }
 },
 "nbformat": 4,
 "nbformat_minor": 2
}

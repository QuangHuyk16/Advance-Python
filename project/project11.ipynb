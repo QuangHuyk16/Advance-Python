{
 "cells": [
  {
   "cell_type": "markdown",
   "metadata": {},
   "source": [
    "# Nhận dữ liệu Covid-19 trực tiếp bằng Python\n",
    "\n",
    "Covid-19 là một trong những chủ đề bạn có thể làm việc trong nhiều dự án khoa học dữ liệu độc đáo. Để làm việc trên bất kỳ loại dự án nào liên quan đến Covid-19, bạn phải làm việc bằng cách sử dụng bộ dữ liệu mới nhất. Vì vậy, nếu bạn muốn tìm hiểu cách lấy dữ liệu covid-19 mới nhất bằng ngôn ngữ lập trình Python, bài viết này là dành cho bạn. Trong bài viết này, tôi sẽ hướng dẫn bạn qua hướng dẫn quét web về cách lấy dữ liệu covid-19 trực tiếp bằng Python\n",
    "\n",
    "Để nhận dữ liệu covid-19 trực tiếp bằng cách sử dụng ngôn ngữ lập trình Python, điều rất quan trọng trước tiên bạn phải tìm hiểu về một số phương pháp thu thập dữ liệu phổ biến từ web. Bạn có thể tìm hiểu về quét web bằng Python từ đây. Bây giờ quay trở lại để lấy bộ dữ liệu covid-19 mới nhất, nếu bạn muốn làm việc trên bất kỳ dự án nào liên quan đến covid-19, điều rất quan trọng là phải làm việc với nó bằng cách sử dụng bộ dữ liệu mới nhất vì các trường hợp đang gia tăng nhanh chóng trên toàn thế giới.\n",
    "\n",
    "Để lấy dữ liệu covid-19 trực tiếp bằng Python, tôi sẽ sử dụng thư viện BeautifulSoup bằng Python. Nếu bạn chưa bao giờ sử dụng thư viện này trước đây thì bạn có thể dễ dàng cài đặt nó trên hệ thống của mình bằng cách sử dụng lệnh pip:"
   ]
  },
  {
   "cell_type": "markdown",
   "metadata": {},
   "source": [
    "# pip cài đặt beautifulsoup4"
   ]
  },
  {
   "cell_type": "code",
   "execution_count": 18,
   "metadata": {},
   "outputs": [
    {
     "data": {
      "text/html": [
       "<div>\n",
       "<style scoped>\n",
       "    .dataframe tbody tr th:only-of-type {\n",
       "        vertical-align: middle;\n",
       "    }\n",
       "\n",
       "    .dataframe tbody tr th {\n",
       "        vertical-align: top;\n",
       "    }\n",
       "\n",
       "    .dataframe thead th {\n",
       "        text-align: right;\n",
       "    }\n",
       "</style>\n",
       "<table border=\"1\" class=\"dataframe\">\n",
       "  <thead>\n",
       "    <tr style=\"text-align: right;\">\n",
       "      <th></th>\n",
       "      <th>\\n</th>\n",
       "      <th>Location\\n</th>\n",
       "      <th>Cases\\n</th>\n",
       "      <th>Deaths\\n</th>\n",
       "    </tr>\n",
       "  </thead>\n",
       "  <tbody>\n",
       "    <tr>\n",
       "      <th>0</th>\n",
       "      <td>\\n</td>\n",
       "      <td>World[a]\\n</td>\n",
       "      <td>774,834,237\\n</td>\n",
       "      <td>7,037,007\\n</td>\n",
       "    </tr>\n",
       "    <tr>\n",
       "      <th>1</th>\n",
       "      <td>\\n</td>\n",
       "      <td>European Union[b]\\n</td>\n",
       "      <td>185,587,170\\n</td>\n",
       "      <td>1,260,386\\n</td>\n",
       "    </tr>\n",
       "    <tr>\n",
       "      <th>2</th>\n",
       "      <td>\\n</td>\n",
       "      <td>United States\\n</td>\n",
       "      <td>103,436,829\\n</td>\n",
       "      <td>1,180,025\\n</td>\n",
       "    </tr>\n",
       "    <tr>\n",
       "      <th>3</th>\n",
       "      <td>\\n</td>\n",
       "      <td>China[c]\\n</td>\n",
       "      <td>99,336,751\\n</td>\n",
       "      <td>121,993\\n</td>\n",
       "    </tr>\n",
       "    <tr>\n",
       "      <th>4</th>\n",
       "      <td>\\n</td>\n",
       "      <td>India\\n</td>\n",
       "      <td>45,030,212\\n</td>\n",
       "      <td>533,495\\n</td>\n",
       "    </tr>\n",
       "  </tbody>\n",
       "</table>\n",
       "</div>"
      ],
      "text/plain": [
       "   \\n           Location\\n        Cases\\n     Deaths\\n\n",
       "0  \\n           World[a]\\n  774,834,237\\n  7,037,007\\n\n",
       "1  \\n  European Union[b]\\n  185,587,170\\n  1,260,386\\n\n",
       "2  \\n      United States\\n  103,436,829\\n  1,180,025\\n\n",
       "3  \\n           China[c]\\n   99,336,751\\n    121,993\\n\n",
       "4  \\n              India\\n   45,030,212\\n    533,495\\n"
      ]
     },
     "execution_count": 18,
     "metadata": {},
     "output_type": "execute_result"
    }
   ],
   "source": [
    "import csv\n",
    "from urllib.request import urlopen\n",
    "from bs4 import BeautifulSoup\n",
    "import pandas as pd\n",
    "\n",
    "html = urlopen(\"https://bit.ly/3jpMFRW\")\n",
    "soup = BeautifulSoup(html, \"html.parser\")\n",
    "table = soup.findAll(\"table\", {\"class\": \"wikitable\"})[0]\n",
    "rows = table.findAll(\"tr\")\n",
    "\n",
    "# Sử dụng dấu gạch chéo ngược (\\\\) thay vì dấu gạch chéo đơn (\\) trong đường dẫn tới file\n",
    "with open(\"D:\\\\Advance Python\\\\data\\\\Dataset.csv\", \"wt+\", newline=\"\", encoding=\"utf-8\") as f:\n",
    "    writer = csv.writer(f)\n",
    "    for i in rows:\n",
    "        row = []\n",
    "        for cell in i.findAll([\"td\", \"th\"]):\n",
    "            row.append(cell.get_text())\n",
    "        writer.writerow(row)\n",
    "\n",
    "data = pd.read_csv(\"D:\\\\Advance Python\\\\data\\\\Dataset.csv\")\n",
    "data.head()"
   ]
  },
  {
   "cell_type": "markdown",
   "metadata": {},
   "source": [
    "Sau khi thực thi đoạn mã trên, một tệp CSV mới sẽ được lưu trong cùng thư mục nơi tệp Python của bạn được đặt dưới dạng \"Dataset.csv\". Tập dữ liệu này đòi hỏi một số chuẩn bị trước khi bạn bắt đầu sử dụng nó trong bất kỳ loại dự án khoa học dữ liệu nào. Ví dụ: dưới đây là cách bạn có thể thay đổi tên của các cột của nó:"
   ]
  },
  {
   "cell_type": "code",
   "execution_count": 19,
   "metadata": {},
   "outputs": [
    {
     "data": {
      "text/html": [
       "<div>\n",
       "<style scoped>\n",
       "    .dataframe tbody tr th:only-of-type {\n",
       "        vertical-align: middle;\n",
       "    }\n",
       "\n",
       "    .dataframe tbody tr th {\n",
       "        vertical-align: top;\n",
       "    }\n",
       "\n",
       "    .dataframe thead th {\n",
       "        text-align: right;\n",
       "    }\n",
       "</style>\n",
       "<table border=\"1\" class=\"dataframe\">\n",
       "  <thead>\n",
       "    <tr style=\"text-align: right;\">\n",
       "      <th></th>\n",
       "      <th>Location</th>\n",
       "      <th>Cases</th>\n",
       "      <th>Deaths</th>\n",
       "    </tr>\n",
       "  </thead>\n",
       "  <tbody>\n",
       "    <tr>\n",
       "      <th>0</th>\n",
       "      <td>World</td>\n",
       "      <td>774,834,237</td>\n",
       "      <td>7,037,007</td>\n",
       "    </tr>\n",
       "    <tr>\n",
       "      <th>1</th>\n",
       "      <td>European Union</td>\n",
       "      <td>185,587,170</td>\n",
       "      <td>1,260,386</td>\n",
       "    </tr>\n",
       "    <tr>\n",
       "      <th>2</th>\n",
       "      <td>United States</td>\n",
       "      <td>103,436,829</td>\n",
       "      <td>1,180,025</td>\n",
       "    </tr>\n",
       "    <tr>\n",
       "      <th>3</th>\n",
       "      <td>China</td>\n",
       "      <td>99,336,751</td>\n",
       "      <td>121,993</td>\n",
       "    </tr>\n",
       "    <tr>\n",
       "      <th>4</th>\n",
       "      <td>India</td>\n",
       "      <td>45,030,212</td>\n",
       "      <td>533,495</td>\n",
       "    </tr>\n",
       "  </tbody>\n",
       "</table>\n",
       "</div>"
      ],
      "text/plain": [
       "         Location        Cases     Deaths\n",
       "0           World  774,834,237  7,037,007\n",
       "1  European Union  185,587,170  1,260,386\n",
       "2   United States  103,436,829  1,180,025\n",
       "3           China   99,336,751    121,993\n",
       "4           India   45,030,212    533,495"
      ]
     },
     "execution_count": 19,
     "metadata": {},
     "output_type": "execute_result"
    }
   ],
   "source": [
    "# Loại bỏ cột \\n trong data\n",
    "data = data.drop(columns=['\\n'])\n",
    "# Loại bỏ ký tự '\\n' và khoảng trắng đằng sau mỗi tên cột\n",
    "data.columns = data.columns.str.replace('\\n', '').str.strip()\n",
    "# Loại bỏ ký tự '\\n' trong dữ liệu\n",
    "data = data.replace('\\n', '', regex=True)\n",
    "\n",
    "# Loại bỏ dấu ngoặc vuông và kết hợp thành chuỗi\n",
    "data['Location'] = data['Location'].str.replace(r'\\[.*\\]', '', regex=True)\n",
    "data.head()"
   ]
  },
  {
   "cell_type": "code",
   "execution_count": 20,
   "metadata": {},
   "outputs": [
    {
     "name": "stdout",
     "output_type": "stream",
     "text": [
      "<class 'pandas.core.frame.DataFrame'>\n",
      "RangeIndex: 240 entries, 0 to 239\n",
      "Data columns (total 3 columns):\n",
      " #   Column    Non-Null Count  Dtype \n",
      "---  ------    --------------  ----- \n",
      " 0   Location  239 non-null    object\n",
      " 1   Cases     239 non-null    object\n",
      " 2   Deaths    239 non-null    object\n",
      "dtypes: object(3)\n",
      "memory usage: 5.8+ KB\n"
     ]
    }
   ],
   "source": [
    "data.info()"
   ]
  },
  {
   "cell_type": "code",
   "execution_count": 21,
   "metadata": {},
   "outputs": [
    {
     "data": {
      "application/vnd.plotly.v1+json": {
       "config": {
        "plotlyServerURL": "https://plot.ly"
       },
       "data": [
        {
         "colorscale": [
          [
           0,
           "#636efa"
          ],
          [
           1,
           "#636efa"
          ]
         ],
         "customdata": [
          [
           "7,037,007",
           "774,834,237"
          ]
         ],
         "geo": "geo",
         "hovertemplate": "<b>%{hovertext}</b><br><br>Deaths=%{customdata[0]}<br>Location=%{location}<br>Cases=%{customdata[1]}<extra></extra>",
         "hovertext": [
          "World"
         ],
         "locationmode": "country names",
         "locations": [
          "World"
         ],
         "name": "7,037,007",
         "showlegend": true,
         "showscale": false,
         "type": "choropleth",
         "z": [
          1
         ]
        },
        {
         "colorscale": [
          [
           0,
           "#EF553B"
          ],
          [
           1,
           "#EF553B"
          ]
         ],
         "customdata": [
          [
           "1,260,386",
           "185,587,170"
          ]
         ],
         "geo": "geo",
         "hovertemplate": "<b>%{hovertext}</b><br><br>Deaths=%{customdata[0]}<br>Location=%{location}<br>Cases=%{customdata[1]}<extra></extra>",
         "hovertext": [
          "European Union"
         ],
         "locationmode": "country names",
         "locations": [
          "European Union"
         ],
         "name": "1,260,386",
         "showlegend": true,
         "showscale": false,
         "type": "choropleth",
         "z": [
          1
         ]
        },
        {
         "colorscale": [
          [
           0,
           "#00cc96"
          ],
          [
           1,
           "#00cc96"
          ]
         ],
         "customdata": [
          [
           "1,180,025",
           "103,436,829"
          ]
         ],
         "geo": "geo",
         "hovertemplate": "<b>%{hovertext}</b><br><br>Deaths=%{customdata[0]}<br>Location=%{location}<br>Cases=%{customdata[1]}<extra></extra>",
         "hovertext": [
          "United States"
         ],
         "locationmode": "country names",
         "locations": [
          "United States"
         ],
         "name": "1,180,025",
         "showlegend": true,
         "showscale": false,
         "type": "choropleth",
         "z": [
          1
         ]
        },
        {
         "colorscale": [
          [
           0,
           "#ab63fa"
          ],
          [
           1,
           "#ab63fa"
          ]
         ],
         "customdata": [
          [
           "121,993",
           "99,336,751"
          ]
         ],
         "geo": "geo",
         "hovertemplate": "<b>%{hovertext}</b><br><br>Deaths=%{customdata[0]}<br>Location=%{location}<br>Cases=%{customdata[1]}<extra></extra>",
         "hovertext": [
          "China"
         ],
         "locationmode": "country names",
         "locations": [
          "China"
         ],
         "name": "121,993",
         "showlegend": true,
         "showscale": false,
         "type": "choropleth",
         "z": [
          1
         ]
        },
        {
         "colorscale": [
          [
           0,
           "#FFA15A"
          ],
          [
           1,
           "#FFA15A"
          ]
         ],
         "customdata": [
          [
           "533,495",
           "45,030,212"
          ]
         ],
         "geo": "geo",
         "hovertemplate": "<b>%{hovertext}</b><br><br>Deaths=%{customdata[0]}<br>Location=%{location}<br>Cases=%{customdata[1]}<extra></extra>",
         "hovertext": [
          "India"
         ],
         "locationmode": "country names",
         "locations": [
          "India"
         ],
         "name": "533,495",
         "showlegend": true,
         "showscale": false,
         "type": "choropleth",
         "z": [
          1
         ]
        },
        {
         "colorscale": [
          [
           0,
           "#19d3f3"
          ],
          [
           1,
           "#19d3f3"
          ]
         ],
         "customdata": [
          [
           "167,985",
           "38,997,490"
          ]
         ],
         "geo": "geo",
         "hovertemplate": "<b>%{hovertext}</b><br><br>Deaths=%{customdata[0]}<br>Location=%{location}<br>Cases=%{customdata[1]}<extra></extra>",
         "hovertext": [
          "France"
         ],
         "locationmode": "country names",
         "locations": [
          "France"
         ],
         "name": "167,985",
         "showlegend": true,
         "showscale": false,
         "type": "choropleth",
         "z": [
          1
         ]
        },
        {
         "colorscale": [
          [
           0,
           "#FF6692"
          ],
          [
           1,
           "#FF6692"
          ]
         ],
         "customdata": [
          [
           "174,979",
           "38,437,756"
          ]
         ],
         "geo": "geo",
         "hovertemplate": "<b>%{hovertext}</b><br><br>Deaths=%{customdata[0]}<br>Location=%{location}<br>Cases=%{customdata[1]}<extra></extra>",
         "hovertext": [
          "Germany"
         ],
         "locationmode": "country names",
         "locations": [
          "Germany"
         ],
         "name": "174,979",
         "showlegend": true,
         "showscale": false,
         "type": "choropleth",
         "z": [
          1
         ]
        },
        {
         "colorscale": [
          [
           0,
           "#B6E880"
          ],
          [
           1,
           "#B6E880"
          ]
         ],
         "customdata": [
          [
           "702,116",
           "37,519,960"
          ]
         ],
         "geo": "geo",
         "hovertemplate": "<b>%{hovertext}</b><br><br>Deaths=%{customdata[0]}<br>Location=%{location}<br>Cases=%{customdata[1]}<extra></extra>",
         "hovertext": [
          "Brazil"
         ],
         "locationmode": "country names",
         "locations": [
          "Brazil"
         ],
         "name": "702,116",
         "showlegend": true,
         "showscale": false,
         "type": "choropleth",
         "z": [
          1
         ]
        },
        {
         "colorscale": [
          [
           0,
           "#FF97FF"
          ],
          [
           1,
           "#FF97FF"
          ]
         ],
         "customdata": [
          [
           "35,934",
           "34,571,873"
          ]
         ],
         "geo": "geo",
         "hovertemplate": "<b>%{hovertext}</b><br><br>Deaths=%{customdata[0]}<br>Location=%{location}<br>Cases=%{customdata[1]}<extra></extra>",
         "hovertext": [
          "South Korea"
         ],
         "locationmode": "country names",
         "locations": [
          "South Korea"
         ],
         "name": "35,934",
         "showlegend": true,
         "showscale": false,
         "type": "choropleth",
         "z": [
          1
         ]
        },
        {
         "colorscale": [
          [
           0,
           "#FECB52"
          ],
          [
           1,
           "#FECB52"
          ]
         ],
         "customdata": [
          [
           "74,694",
           "33,803,572"
          ]
         ],
         "geo": "geo",
         "hovertemplate": "<b>%{hovertext}</b><br><br>Deaths=%{customdata[0]}<br>Location=%{location}<br>Cases=%{customdata[1]}<extra></extra>",
         "hovertext": [
          "Japan"
         ],
         "locationmode": "country names",
         "locations": [
          "Japan"
         ],
         "name": "74,694",
         "showlegend": true,
         "showscale": false,
         "type": "choropleth",
         "z": [
          1
         ]
        },
        {
         "colorscale": [
          [
           0,
           "#636efa"
          ],
          [
           1,
           "#636efa"
          ]
         ],
         "customdata": [
          [
           "196,706",
           "26,715,575"
          ]
         ],
         "geo": "geo",
         "hovertemplate": "<b>%{hovertext}</b><br><br>Deaths=%{customdata[0]}<br>Location=%{location}<br>Cases=%{customdata[1]}<extra></extra>",
         "hovertext": [
          "Italy"
         ],
         "locationmode": "country names",
         "locations": [
          "Italy"
         ],
         "name": "196,706",
         "showlegend": true,
         "showscale": false,
         "type": "choropleth",
         "z": [
          1
         ]
        },
        {
         "colorscale": [
          [
           0,
           "#EF553B"
          ],
          [
           1,
           "#EF553B"
          ]
         ],
         "customdata": [
          [
           "232,112",
           "24,908,726"
          ]
         ],
         "geo": "geo",
         "hovertemplate": "<b>%{hovertext}</b><br><br>Deaths=%{customdata[0]}<br>Location=%{location}<br>Cases=%{customdata[1]}<extra></extra>",
         "hovertext": [
          "United Kingdom"
         ],
         "locationmode": "country names",
         "locations": [
          "United Kingdom"
         ],
         "name": "232,112",
         "showlegend": true,
         "showscale": false,
         "type": "choropleth",
         "z": [
          1
         ]
        },
        {
         "colorscale": [
          [
           0,
           "#00cc96"
          ],
          [
           1,
           "#00cc96"
          ]
         ],
         "customdata": [
          [
           "402,232",
           "23,983,621"
          ]
         ],
         "geo": "geo",
         "hovertemplate": "<b>%{hovertext}</b><br><br>Deaths=%{customdata[0]}<br>Location=%{location}<br>Cases=%{customdata[1]}<extra></extra>",
         "hovertext": [
          "Russia"
         ],
         "locationmode": "country names",
         "locations": [
          "Russia"
         ],
         "name": "402,232",
         "showlegend": true,
         "showscale": false,
         "type": "choropleth",
         "z": [
          1
         ]
        },
        {
         "colorscale": [
          [
           0,
           "#ab63fa"
          ],
          [
           1,
           "#ab63fa"
          ]
         ],
         "customdata": [
          [
           "101,419",
           "17,004,677"
          ]
         ],
         "geo": "geo",
         "hovertemplate": "<b>%{hovertext}</b><br><br>Deaths=%{customdata[0]}<br>Location=%{location}<br>Cases=%{customdata[1]}<extra></extra>",
         "hovertext": [
          "Turkey"
         ],
         "locationmode": "country names",
         "locations": [
          "Turkey"
         ],
         "name": "101,419",
         "showlegend": true,
         "showscale": false,
         "type": "choropleth",
         "z": [
          1
         ]
        },
        {
         "colorscale": [
          [
           0,
           "#FFA15A"
          ],
          [
           1,
           "#FFA15A"
          ]
         ],
         "customdata": [
          [
           "121,852",
           "13,980,340"
          ]
         ],
         "geo": "geo",
         "hovertemplate": "<b>%{hovertext}</b><br><br>Deaths=%{customdata[0]}<br>Location=%{location}<br>Cases=%{customdata[1]}<extra></extra>",
         "hovertext": [
          "Spain"
         ],
         "locationmode": "country names",
         "locations": [
          "Spain"
         ],
         "name": "121,852",
         "showlegend": true,
         "showscale": false,
         "type": "choropleth",
         "z": [
          1
         ]
        },
        {
         "colorscale": [
          [
           0,
           "#19d3f3"
          ],
          [
           1,
           "#19d3f3"
          ]
         ],
         "customdata": [
          [
           "24,810",
           "11,799,677"
          ]
         ],
         "geo": "geo",
         "hovertemplate": "<b>%{hovertext}</b><br><br>Deaths=%{customdata[0]}<br>Location=%{location}<br>Cases=%{customdata[1]}<extra></extra>",
         "hovertext": [
          "Australia"
         ],
         "locationmode": "country names",
         "locations": [
          "Australia"
         ],
         "name": "24,810",
         "showlegend": true,
         "showscale": false,
         "type": "choropleth",
         "z": [
          1
         ]
        },
        {
         "colorscale": [
          [
           0,
           "#FF6692"
          ],
          [
           1,
           "#FF6692"
          ]
         ],
         "customdata": [
          [
           "43,206",
           "11,624,000"
          ]
         ],
         "geo": "geo",
         "hovertemplate": "<b>%{hovertext}</b><br><br>Deaths=%{customdata[0]}<br>Location=%{location}<br>Cases=%{customdata[1]}<extra></extra>",
         "hovertext": [
          "Vietnam"
         ],
         "locationmode": "country names",
         "locations": [
          "Vietnam"
         ],
         "name": "43,206",
         "showlegend": true,
         "showscale": false,
         "type": "choropleth",
         "z": [
          1
         ]
        },
        {
         "colorscale": [
          [
           0,
           "#B6E880"
          ],
          [
           1,
           "#B6E880"
          ]
         ],
         "customdata": [
          [
           "130,587",
           "10,090,694"
          ]
         ],
         "geo": "geo",
         "hovertemplate": "<b>%{hovertext}</b><br><br>Deaths=%{customdata[0]}<br>Location=%{location}<br>Cases=%{customdata[1]}<extra></extra>",
         "hovertext": [
          "Argentina"
         ],
         "locationmode": "country names",
         "locations": [
          "Argentina"
         ],
         "name": "130,587",
         "showlegend": true,
         "showscale": false,
         "type": "choropleth",
         "z": [
          1
         ]
        },
        {
         "colorscale": [
          [
           0,
           "#FF97FF"
          ],
          [
           1,
           "#FF97FF"
          ]
         ],
         "customdata": [
          [
           "17,672",
           "9,970,937"
          ]
         ],
         "geo": "geo",
         "hovertemplate": "<b>%{hovertext}</b><br><br>Deaths=%{customdata[0]}<br>Location=%{location}<br>Cases=%{customdata[1]}<extra></extra>",
         "hovertext": [
          "Taiwan"
         ],
         "locationmode": "country names",
         "locations": [
          "Taiwan"
         ],
         "name": "17,672",
         "showlegend": true,
         "showscale": false,
         "type": "choropleth",
         "z": [
          1
         ]
        },
        {
         "colorscale": [
          [
           0,
           "#FECB52"
          ],
          [
           1,
           "#FECB52"
          ]
         ],
         "customdata": [
          [
           "22,986",
           "8,635,061"
          ]
         ],
         "geo": "geo",
         "hovertemplate": "<b>%{hovertext}</b><br><br>Deaths=%{customdata[0]}<br>Location=%{location}<br>Cases=%{customdata[1]}<extra></extra>",
         "hovertext": [
          "Netherlands"
         ],
         "locationmode": "country names",
         "locations": [
          "Netherlands"
         ],
         "name": "22,986",
         "showlegend": true,
         "showscale": false,
         "type": "choropleth",
         "z": [
          1
         ]
        },
        {
         "colorscale": [
          [
           0,
           "#636efa"
          ],
          [
           1,
           "#636efa"
          ]
         ],
         "customdata": [
          [
           "334,958",
           "7,702,809"
          ]
         ],
         "geo": "geo",
         "hovertemplate": "<b>%{hovertext}</b><br><br>Deaths=%{customdata[0]}<br>Location=%{location}<br>Cases=%{customdata[1]}<extra></extra>",
         "hovertext": [
          "Mexico"
         ],
         "locationmode": "country names",
         "locations": [
          "Mexico"
         ],
         "name": "334,958",
         "showlegend": true,
         "showscale": false,
         "type": "choropleth",
         "z": [
          1
         ]
        },
        {
         "colorscale": [
          [
           0,
           "#EF553B"
          ],
          [
           1,
           "#EF553B"
          ]
         ],
         "customdata": [
          [
           "146,811",
           "7,627,186"
          ]
         ],
         "geo": "geo",
         "hovertemplate": "<b>%{hovertext}</b><br><br>Deaths=%{customdata[0]}<br>Location=%{location}<br>Cases=%{customdata[1]}<extra></extra>",
         "hovertext": [
          "Iran"
         ],
         "locationmode": "country names",
         "locations": [
          "Iran"
         ],
         "name": "146,811",
         "showlegend": true,
         "showscale": false,
         "type": "choropleth",
         "z": [
          1
         ]
        },
        {
         "colorscale": [
          [
           0,
           "#00cc96"
          ],
          [
           1,
           "#00cc96"
          ]
         ],
         "customdata": [
          [
           "162,055",
           "6,828,808"
          ]
         ],
         "geo": "geo",
         "hovertemplate": "<b>%{hovertext}</b><br><br>Deaths=%{customdata[0]}<br>Location=%{location}<br>Cases=%{customdata[1]}<extra></extra>",
         "hovertext": [
          "Indonesia"
         ],
         "locationmode": "country names",
         "locations": [
          "Indonesia"
         ],
         "name": "162,055",
         "showlegend": true,
         "showscale": false,
         "type": "choropleth",
         "z": [
          1
         ]
        },
        {
         "colorscale": [
          [
           0,
           "#ab63fa"
          ],
          [
           1,
           "#ab63fa"
          ]
         ],
         "customdata": [
          [
           "120,687",
           "6,660,642"
          ]
         ],
         "geo": "geo",
         "hovertemplate": "<b>%{hovertext}</b><br><br>Deaths=%{customdata[0]}<br>Location=%{location}<br>Cases=%{customdata[1]}<extra></extra>",
         "hovertext": [
          "Poland"
         ],
         "locationmode": "country names",
         "locations": [
          "Poland"
         ],
         "name": "120,687",
         "showlegend": true,
         "showscale": false,
         "type": "choropleth",
         "z": [
          1
         ]
        },
        {
         "colorscale": [
          [
           0,
           "#FFA15A"
          ],
          [
           1,
           "#FFA15A"
          ]
         ],
         "customdata": [
          [
           "142,727",
           "6,380,026"
          ]
         ],
         "geo": "geo",
         "hovertemplate": "<b>%{hovertext}</b><br><br>Deaths=%{customdata[0]}<br>Location=%{location}<br>Cases=%{customdata[1]}<extra></extra>",
         "hovertext": [
          "Colombia"
         ],
         "locationmode": "country names",
         "locations": [
          "Colombia"
         ],
         "name": "142,727",
         "showlegend": true,
         "showscale": false,
         "type": "choropleth",
         "z": [
          1
         ]
        },
        {
         "colorscale": [
          [
           0,
           "#19d3f3"
          ],
          [
           1,
           "#19d3f3"
          ]
         ],
         "customdata": [
          [
           "22,534",
           "6,081,287"
          ]
         ],
         "geo": "geo",
         "hovertemplate": "<b>%{hovertext}</b><br><br>Deaths=%{customdata[0]}<br>Location=%{location}<br>Cases=%{customdata[1]}<extra></extra>",
         "hovertext": [
          "Austria"
         ],
         "locationmode": "country names",
         "locations": [
          "Austria"
         ],
         "name": "22,534",
         "showlegend": true,
         "showscale": false,
         "type": "choropleth",
         "z": [
          1
         ]
        },
        {
         "colorscale": [
          [
           0,
           "#FF6692"
          ],
          [
           1,
           "#FF6692"
          ]
         ],
         "customdata": [
          [
           "28,113",
           "5,642,833"
          ]
         ],
         "geo": "geo",
         "hovertemplate": "<b>%{hovertext}</b><br><br>Deaths=%{customdata[0]}<br>Location=%{location}<br>Cases=%{customdata[1]}<extra></extra>",
         "hovertext": [
          "Portugal"
         ],
         "locationmode": "country names",
         "locations": [
          "Portugal"
         ],
         "name": "28,113",
         "showlegend": true,
         "showscale": false,
         "type": "choropleth",
         "z": [
          1
         ]
        },
        {
         "colorscale": [
          [
           0,
           "#B6E880"
          ],
          [
           1,
           "#B6E880"
          ]
         ],
         "customdata": [
          [
           "38,945",
           "5,624,522"
          ]
         ],
         "geo": "geo",
         "hovertemplate": "<b>%{hovertext}</b><br><br>Deaths=%{customdata[0]}<br>Location=%{location}<br>Cases=%{customdata[1]}<extra></extra>",
         "hovertext": [
          "Greece"
         ],
         "locationmode": "country names",
         "locations": [
          "Greece"
         ],
         "name": "38,945",
         "showlegend": true,
         "showscale": false,
         "type": "choropleth",
         "z": [
          1
         ]
        },
        {
         "colorscale": [
          [
           0,
           "#FF97FF"
          ],
          [
           1,
           "#FF97FF"
          ]
         ],
         "customdata": [
          [
           "109,918",
           "5,539,542"
          ]
         ],
         "geo": "geo",
         "hovertemplate": "<b>%{hovertext}</b><br><br>Deaths=%{customdata[0]}<br>Location=%{location}<br>Cases=%{customdata[1]}<extra></extra>",
         "hovertext": [
          "Ukraine"
         ],
         "locationmode": "country names",
         "locations": [
          "Ukraine"
         ],
         "name": "109,918",
         "showlegend": true,
         "showscale": false,
         "type": "choropleth",
         "z": [
          1
         ]
        },
        {
         "colorscale": [
          [
           0,
           "#FECB52"
          ],
          [
           1,
           "#FECB52"
          ]
         ],
         "customdata": [
          [
           "61,705",
           "5,329,509"
          ]
         ],
         "geo": "geo",
         "hovertemplate": "<b>%{hovertext}</b><br><br>Deaths=%{customdata[0]}<br>Location=%{location}<br>Cases=%{customdata[1]}<extra></extra>",
         "hovertext": [
          "Chile"
         ],
         "locationmode": "country names",
         "locations": [
          "Chile"
         ],
         "name": "61,705",
         "showlegend": true,
         "showscale": false,
         "type": "choropleth",
         "z": [
          1
         ]
        },
        {
         "colorscale": [
          [
           0,
           "#636efa"
          ],
          [
           1,
           "#636efa"
          ]
         ],
         "customdata": [
          [
           "37,347",
           "5,274,786"
          ]
         ],
         "geo": "geo",
         "hovertemplate": "<b>%{hovertext}</b><br><br>Deaths=%{customdata[0]}<br>Location=%{location}<br>Cases=%{customdata[1]}<extra></extra>",
         "hovertext": [
          "Malaysia"
         ],
         "locationmode": "country names",
         "locations": [
          "Malaysia"
         ],
         "name": "37,347",
         "showlegend": true,
         "showscale": false,
         "type": "choropleth",
         "z": [
          1
         ]
        },
        {
         "colorscale": [
          [
           0,
           "#EF553B"
          ],
          [
           1,
           "#EF553B"
          ]
         ],
         "customdata": [
          [
           "34,339",
           "4,860,053"
          ]
         ],
         "geo": "geo",
         "hovertemplate": "<b>%{hovertext}</b><br><br>Deaths=%{customdata[0]}<br>Location=%{location}<br>Cases=%{customdata[1]}<extra></extra>",
         "hovertext": [
          "Belgium"
         ],
         "locationmode": "country names",
         "locations": [
          "Belgium"
         ],
         "name": "34,339",
         "showlegend": true,
         "showscale": false,
         "type": "choropleth",
         "z": [
          1
         ]
        },
        {
         "colorscale": [
          [
           0,
           "#00cc96"
          ],
          [
           1,
           "#00cc96"
          ]
         ],
         "customdata": [
          [
           "12,707",
           "4,841,558"
          ]
         ],
         "geo": "geo",
         "hovertemplate": "<b>%{hovertext}</b><br><br>Deaths=%{customdata[0]}<br>Location=%{location}<br>Cases=%{customdata[1]}<extra></extra>",
         "hovertext": [
          "Israel"
         ],
         "locationmode": "country names",
         "locations": [
          "Israel"
         ],
         "name": "12,707",
         "showlegend": true,
         "showscale": false,
         "type": "choropleth",
         "z": [
          1
         ]
        },
        {
         "colorscale": [
          [
           0,
           "#ab63fa"
          ],
          [
           1,
           "#ab63fa"
          ]
         ],
         "customdata": [
          [
           "54,326",
           "4,780,494"
          ]
         ],
         "geo": "geo",
         "hovertemplate": "<b>%{hovertext}</b><br><br>Deaths=%{customdata[0]}<br>Location=%{location}<br>Cases=%{customdata[1]}<extra></extra>",
         "hovertext": [
          "Canada"
         ],
         "locationmode": "country names",
         "locations": [
          "Canada"
         ],
         "name": "54,326",
         "showlegend": true,
         "showscale": false,
         "type": "choropleth",
         "z": [
          1
         ]
        },
        {
         "colorscale": [
          [
           0,
           "#FFA15A"
          ],
          [
           1,
           "#FFA15A"
          ]
         ],
         "customdata": [
          [
           "34,569",
           "4,767,700"
          ]
         ],
         "geo": "geo",
         "hovertemplate": "<b>%{hovertext}</b><br><br>Deaths=%{customdata[0]}<br>Location=%{location}<br>Cases=%{customdata[1]}<extra></extra>",
         "hovertext": [
          "Thailand"
         ],
         "locationmode": "country names",
         "locations": [
          "Thailand"
         ],
         "name": "34,569",
         "showlegend": true,
         "showscale": false,
         "type": "choropleth",
         "z": [
          1
         ]
        },
        {
         "colorscale": [
          [
           0,
           "#19d3f3"
          ],
          [
           1,
           "#19d3f3"
          ]
         ],
         "customdata": [
          [
           "43,494",
           "4,758,465"
          ]
         ],
         "geo": "geo",
         "hovertemplate": "<b>%{hovertext}</b><br><br>Deaths=%{customdata[0]}<br>Location=%{location}<br>Cases=%{customdata[1]}<extra></extra>",
         "hovertext": [
          "Czech Republic"
         ],
         "locationmode": "country names",
         "locations": [
          "Czech Republic"
         ],
         "name": "43,494",
         "showlegend": true,
         "showscale": false,
         "type": "choropleth",
         "z": [
          1
         ]
        },
        {
         "colorscale": [
          [
           0,
           "#FF6692"
          ],
          [
           1,
           "#FF6692"
          ]
         ],
         "customdata": [
          [
           "220,831",
           "4,524,748"
          ]
         ],
         "geo": "geo",
         "hovertemplate": "<b>%{hovertext}</b><br><br>Deaths=%{customdata[0]}<br>Location=%{location}<br>Cases=%{customdata[1]}<extra></extra>",
         "hovertext": [
          "Peru"
         ],
         "locationmode": "country names",
         "locations": [
          "Peru"
         ],
         "name": "220,831",
         "showlegend": true,
         "showscale": false,
         "type": "choropleth",
         "z": [
          1
         ]
        },
        {
         "colorscale": [
          [
           0,
           "#B6E880"
          ],
          [
           1,
           "#B6E880"
          ]
         ],
         "customdata": [
          [
           "14,188",
           "4,452,607"
          ]
         ],
         "geo": "geo",
         "hovertemplate": "<b>%{hovertext}</b><br><br>Deaths=%{customdata[0]}<br>Location=%{location}<br>Cases=%{customdata[1]}<extra></extra>",
         "hovertext": [
          "Switzerland"
         ],
         "locationmode": "country names",
         "locations": [
          "Switzerland"
         ],
         "name": "14,188",
         "showlegend": true,
         "showscale": false,
         "type": "choropleth",
         "z": [
          1
         ]
        },
        {
         "colorscale": [
          [
           0,
           "#FF97FF"
          ],
          [
           1,
           "#FF97FF"
          ]
         ],
         "customdata": [
          [
           "66,864",
           "4,140,383"
          ]
         ],
         "geo": "geo",
         "hovertemplate": "<b>%{hovertext}</b><br><br>Deaths=%{customdata[0]}<br>Location=%{location}<br>Cases=%{customdata[1]}<extra></extra>",
         "hovertext": [
          "Philippines"
         ],
         "locationmode": "country names",
         "locations": [
          "Philippines"
         ],
         "name": "66,864",
         "showlegend": true,
         "showscale": false,
         "type": "choropleth",
         "z": [
          1
         ]
        },
        {
         "colorscale": [
          [
           0,
           "#FECB52"
          ],
          [
           1,
           "#FECB52"
          ]
         ],
         "customdata": [
          [
           "102,595",
           "4,072,636"
          ]
         ],
         "geo": "geo",
         "hovertemplate": "<b>%{hovertext}</b><br><br>Deaths=%{customdata[0]}<br>Location=%{location}<br>Cases=%{customdata[1]}<extra></extra>",
         "hovertext": [
          "South Africa"
         ],
         "locationmode": "country names",
         "locations": [
          "South Africa"
         ],
         "name": "102,595",
         "showlegend": true,
         "showscale": false,
         "type": "choropleth",
         "z": [
          1
         ]
        },
        {
         "colorscale": [
          [
           0,
           "#636efa"
          ],
          [
           1,
           "#636efa"
          ]
         ],
         "customdata": [
          [
           "68,701",
           "3,524,829"
          ]
         ],
         "geo": "geo",
         "hovertemplate": "<b>%{hovertext}</b><br><br>Deaths=%{customdata[0]}<br>Location=%{location}<br>Cases=%{customdata[1]}<extra></extra>",
         "hovertext": [
          "Romania"
         ],
         "locationmode": "country names",
         "locations": [
          "Romania"
         ],
         "name": "68,701",
         "showlegend": true,
         "showscale": false,
         "type": "choropleth",
         "z": [
          1
         ]
        },
        {
         "colorscale": [
          [
           0,
           "#EF553B"
          ],
          [
           1,
           "#EF553B"
          ]
         ],
         "customdata": [
          [
           "9,631",
           "3,434,511"
          ]
         ],
         "geo": "geo",
         "hovertemplate": "<b>%{hovertext}</b><br><br>Deaths=%{customdata[0]}<br>Location=%{location}<br>Cases=%{customdata[1]}<extra></extra>",
         "hovertext": [
          "Denmark"
         ],
         "locationmode": "country names",
         "locations": [
          "Denmark"
         ],
         "name": "9,631",
         "showlegend": true,
         "showscale": false,
         "type": "choropleth",
         "z": [
          1
         ]
        },
        {
         "colorscale": [
          [
           0,
           "#00cc96"
          ],
          [
           1,
           "#00cc96"
          ]
         ],
         "customdata": [
          [
           "2,024",
           "3,006,155"
          ]
         ],
         "geo": "geo",
         "hovertemplate": "<b>%{hovertext}</b><br><br>Deaths=%{customdata[0]}<br>Location=%{location}<br>Cases=%{customdata[1]}<extra></extra>",
         "hovertext": [
          "Singapore"
         ],
         "locationmode": "country names",
         "locations": [
          "Singapore"
         ],
         "name": "2,024",
         "showlegend": true,
         "showscale": false,
         "type": "choropleth",
         "z": [
          1
         ]
        },
        {
         "colorscale": [
          [
           0,
           "#ab63fa"
          ],
          [
           1,
           "#ab63fa"
          ]
         ],
         "customdata": [
          [
           "13,466",
           "2,876,106"
          ]
         ],
         "geo": "geo",
         "hovertemplate": "<b>%{hovertext}</b><br><br>Deaths=%{customdata[0]}<br>Location=%{location}<br>Cases=%{customdata[1]}<extra></extra>",
         "hovertext": [
          "Hong Kong"
         ],
         "locationmode": "country names",
         "locations": [
          "Hong Kong"
         ],
         "name": "13,466",
         "showlegend": true,
         "showscale": false,
         "type": "choropleth",
         "z": [
          1
         ]
        },
        {
         "colorscale": [
          [
           0,
           "#FFA15A"
          ],
          [
           1,
           "#FFA15A"
          ]
         ],
         "customdata": [
          [
           "27,219",
           "2,751,035"
          ]
         ],
         "geo": "geo",
         "hovertemplate": "<b>%{hovertext}</b><br><br>Deaths=%{customdata[0]}<br>Location=%{location}<br>Cases=%{customdata[1]}<extra></extra>",
         "hovertext": [
          "Sweden"
         ],
         "locationmode": "country names",
         "locations": [
          "Sweden"
         ],
         "name": "27,219",
         "showlegend": true,
         "showscale": false,
         "type": "choropleth",
         "z": [
          1
         ]
        },
        {
         "colorscale": [
          [
           0,
           "#19d3f3"
          ],
          [
           1,
           "#19d3f3"
          ]
         ],
         "customdata": [
          [
           "18,057",
           "2,583,470"
          ]
         ],
         "geo": "geo",
         "hovertemplate": "<b>%{hovertext}</b><br><br>Deaths=%{customdata[0]}<br>Location=%{location}<br>Cases=%{customdata[1]}<extra></extra>",
         "hovertext": [
          "Serbia"
         ],
         "locationmode": "country names",
         "locations": [
          "Serbia"
         ],
         "name": "18,057",
         "showlegend": true,
         "showscale": false,
         "type": "choropleth",
         "z": [
          1
         ]
        },
        {
         "colorscale": [
          [
           0,
           "#FF6692"
          ],
          [
           1,
           "#FF6692"
          ]
         ],
         "customdata": [
          [
           "3,837",
           "2,495,178"
          ]
         ],
         "geo": "geo",
         "hovertemplate": "<b>%{hovertext}</b><br><br>Deaths=%{customdata[0]}<br>Location=%{location}<br>Cases=%{customdata[1]}<extra></extra>",
         "hovertext": [
          "New Zealand"
         ],
         "locationmode": "country names",
         "locations": [
          "New Zealand"
         ],
         "name": "3,837",
         "showlegend": true,
         "showscale": false,
         "type": "choropleth",
         "z": [
          1
         ]
        },
        {
         "colorscale": [
          [
           0,
           "#B6E880"
          ],
          [
           1,
           "#B6E880"
          ]
         ],
         "customdata": [
          [
           "25,375",
           "2,465,545"
          ]
         ],
         "geo": "geo",
         "hovertemplate": "<b>%{hovertext}</b><br><br>Deaths=%{customdata[0]}<br>Location=%{location}<br>Cases=%{customdata[1]}<extra></extra>",
         "hovertext": [
          "Iraq"
         ],
         "locationmode": "country names",
         "locations": [
          "Iraq"
         ],
         "name": "25,375",
         "showlegend": true,
         "showscale": false,
         "type": "choropleth",
         "z": [
          1
         ]
        },
        {
         "colorscale": [
          [
           0,
           "#FF97FF"
          ],
          [
           1,
           "#FF97FF"
          ]
         ],
         "customdata": [
          [
           "49,046",
           "2,230,202"
          ]
         ],
         "geo": "geo",
         "hovertemplate": "<b>%{hovertext}</b><br><br>Deaths=%{customdata[0]}<br>Location=%{location}<br>Cases=%{customdata[1]}<extra></extra>",
         "hovertext": [
          "Hungary"
         ],
         "locationmode": "country names",
         "locations": [
          "Hungary"
         ],
         "name": "49,046",
         "showlegend": true,
         "showscale": false,
         "type": "choropleth",
         "z": [
          1
         ]
        },
        {
         "colorscale": [
          [
           0,
           "#FECB52"
          ],
          [
           1,
           "#FECB52"
          ]
         ],
         "customdata": [
          [
           "29,491",
           "2,048,588"
          ]
         ],
         "geo": "geo",
         "hovertemplate": "<b>%{hovertext}</b><br><br>Deaths=%{customdata[0]}<br>Location=%{location}<br>Cases=%{customdata[1]}<extra></extra>",
         "hovertext": [
          "Bangladesh"
         ],
         "locationmode": "country names",
         "locations": [
          "Bangladesh"
         ],
         "name": "29,491",
         "showlegend": true,
         "showscale": false,
         "type": "choropleth",
         "z": [
          1
         ]
        },
        {
         "colorscale": [
          [
           0,
           "#636efa"
          ],
          [
           1,
           "#636efa"
          ]
         ],
         "customdata": [
          [
           "21,224",
           "1,877,558"
          ]
         ],
         "geo": "geo",
         "hovertemplate": "<b>%{hovertext}</b><br><br>Deaths=%{customdata[0]}<br>Location=%{location}<br>Cases=%{customdata[1]}<extra></extra>",
         "hovertext": [
          "Slovakia"
         ],
         "locationmode": "country names",
         "locations": [
          "Slovakia"
         ],
         "name": "21,224",
         "showlegend": true,
         "showscale": false,
         "type": "choropleth",
         "z": [
          1
         ]
        },
        {
         "colorscale": [
          [
           0,
           "#EF553B"
          ],
          [
           1,
           "#EF553B"
          ]
         ],
         "customdata": [
          [
           "17,132",
           "1,855,289"
          ]
         ],
         "geo": "geo",
         "hovertemplate": "<b>%{hovertext}</b><br><br>Deaths=%{customdata[0]}<br>Location=%{location}<br>Cases=%{customdata[1]}<extra></extra>",
         "hovertext": [
          "Georgia"
         ],
         "locationmode": "country names",
         "locations": [
          "Georgia"
         ],
         "name": "17,132",
         "showlegend": true,
         "showscale": false,
         "type": "choropleth",
         "z": [
          1
         ]
        },
        {
         "colorscale": [
          [
           0,
           "#00cc96"
          ],
          [
           1,
           "#00cc96"
          ]
         ],
         "customdata": [
          [
           "14,122",
           "1,746,997"
          ]
         ],
         "geo": "geo",
         "hovertemplate": "<b>%{hovertext}</b><br><br>Deaths=%{customdata[0]}<br>Location=%{location}<br>Cases=%{customdata[1]}<extra></extra>",
         "hovertext": [
          "Jordan"
         ],
         "locationmode": "country names",
         "locations": [
          "Jordan"
         ],
         "name": "14,122",
         "showlegend": true,
         "showscale": false,
         "type": "choropleth",
         "z": [
          1
         ]
        },
        {
         "colorscale": [
          [
           0,
           "#ab63fa"
          ],
          [
           1,
           "#ab63fa"
          ]
         ],
         "customdata": [
          [
           "9,539",
           "1,734,506"
          ]
         ],
         "geo": "geo",
         "hovertemplate": "<b>%{hovertext}</b><br><br>Deaths=%{customdata[0]}<br>Location=%{location}<br>Cases=%{customdata[1]}<extra></extra>",
         "hovertext": [
          "Republic of Ireland"
         ],
         "locationmode": "country names",
         "locations": [
          "Republic of Ireland"
         ],
         "name": "9,539",
         "showlegend": true,
         "showscale": false,
         "type": "choropleth",
         "z": [
          1
         ]
        },
        {
         "colorscale": [
          [
           0,
           "#FFA15A"
          ],
          [
           1,
           "#FFA15A"
          ]
         ],
         "customdata": [
          [
           "30,656",
           "1,580,631"
          ]
         ],
         "geo": "geo",
         "hovertemplate": "<b>%{hovertext}</b><br><br>Deaths=%{customdata[0]}<br>Location=%{location}<br>Cases=%{customdata[1]}<extra></extra>",
         "hovertext": [
          "Pakistan"
         ],
         "locationmode": "country names",
         "locations": [
          "Pakistan"
         ],
         "name": "30,656",
         "showlegend": true,
         "showscale": false,
         "type": "choropleth",
         "z": [
          1
         ]
        },
        {
         "colorscale": [
          [
           0,
           "#19d3f3"
          ],
          [
           1,
           "#19d3f3"
          ]
         ],
         "customdata": [
          [
           "5,732",
           "1,506,934"
          ]
         ],
         "geo": "geo",
         "hovertemplate": "<b>%{hovertext}</b><br><br>Deaths=%{customdata[0]}<br>Location=%{location}<br>Cases=%{customdata[1]}<extra></extra>",
         "hovertext": [
          "Norway"
         ],
         "locationmode": "country names",
         "locations": [
          "Norway"
         ],
         "name": "5,732",
         "showlegend": true,
         "showscale": false,
         "type": "choropleth",
         "z": [
          1
         ]
        },
        {
         "colorscale": [
          [
           0,
           "#FF6692"
          ],
          [
           1,
           "#FF6692"
          ]
         ],
         "customdata": [
          [
           "19,072",
           "1,503,687"
          ]
         ],
         "geo": "geo",
         "hovertemplate": "<b>%{hovertext}</b><br><br>Deaths=%{customdata[0]}<br>Location=%{location}<br>Cases=%{customdata[1]}<extra></extra>",
         "hovertext": [
          "Kazakhstan"
         ],
         "locationmode": "country names",
         "locations": [
          "Kazakhstan"
         ],
         "name": "19,072",
         "showlegend": true,
         "showscale": false,
         "type": "choropleth",
         "z": [
          1
         ]
        },
        {
         "colorscale": [
          [
           0,
           "#B6E880"
          ],
          [
           1,
           "#B6E880"
          ]
         ],
         "customdata": [
          [
           "11,466",
           "1,499,712"
          ]
         ],
         "geo": "geo",
         "hovertemplate": "<b>%{hovertext}</b><br><br>Deaths=%{customdata[0]}<br>Location=%{location}<br>Cases=%{customdata[1]}<extra></extra>",
         "hovertext": [
          "Finland"
         ],
         "locationmode": "country names",
         "locations": [
          "Finland"
         ],
         "name": "11,466",
         "showlegend": true,
         "showscale": false,
         "type": "choropleth",
         "z": [
          1
         ]
        },
        {
         "colorscale": [
          [
           0,
           "#FF97FF"
          ],
          [
           1,
           "#FF97FF"
          ]
         ],
         "customdata": [
          [
           "9,799",
           "1,364,902"
          ]
         ],
         "geo": "geo",
         "hovertemplate": "<b>%{hovertext}</b><br><br>Deaths=%{customdata[0]}<br>Location=%{location}<br>Cases=%{customdata[1]}<extra></extra>",
         "hovertext": [
          "Lithuania"
         ],
         "locationmode": "country names",
         "locations": [
          "Lithuania"
         ],
         "name": "9,799",
         "showlegend": true,
         "showscale": false,
         "type": "choropleth",
         "z": [
          1
         ]
        },
        {
         "colorscale": [
          [
           0,
           "#FECB52"
          ],
          [
           1,
           "#FECB52"
          ]
         ],
         "customdata": [
          [
           "10,034",
           "1,355,769"
          ]
         ],
         "geo": "geo",
         "hovertemplate": "<b>%{hovertext}</b><br><br>Deaths=%{customdata[0]}<br>Location=%{location}<br>Cases=%{customdata[1]}<extra></extra>",
         "hovertext": [
          "Slovenia"
         ],
         "locationmode": "country names",
         "locations": [
          "Slovenia"
         ],
         "name": "10,034",
         "showlegend": true,
         "showscale": false,
         "type": "choropleth",
         "z": [
          1
         ]
        },
        {
         "colorscale": [
          [
           0,
           "#636efa"
          ],
          [
           1,
           "#636efa"
          ]
         ],
         "customdata": [
          [
           "38,691",
           "1,328,885"
          ]
         ],
         "geo": "geo",
         "hovertemplate": "<b>%{hovertext}</b><br><br>Deaths=%{customdata[0]}<br>Location=%{location}<br>Cases=%{customdata[1]}<extra></extra>",
         "hovertext": [
          "Bulgaria"
         ],
         "locationmode": "country names",
         "locations": [
          "Bulgaria"
         ],
         "name": "38,691",
         "showlegend": true,
         "showscale": false,
         "type": "choropleth",
         "z": [
          1
         ]
        },
        {
         "colorscale": [
          [
           0,
           "#EF553B"
          ],
          [
           1,
           "#EF553B"
          ]
         ],
         "customdata": [
          [
           "18,687",
           "1,309,728"
          ]
         ],
         "geo": "geo",
         "hovertemplate": "<b>%{hovertext}</b><br><br>Deaths=%{customdata[0]}<br>Location=%{location}<br>Cases=%{customdata[1]}<extra></extra>",
         "hovertext": [
          "Croatia"
         ],
         "locationmode": "country names",
         "locations": [
          "Croatia"
         ],
         "name": "18,687",
         "showlegend": true,
         "showscale": false,
         "type": "choropleth",
         "z": [
          1
         ]
        },
        {
         "colorscale": [
          [
           0,
           "#00cc96"
          ],
          [
           1,
           "#00cc96"
          ]
         ],
         "customdata": [
          [
           "16,303",
           "1,278,988"
          ]
         ],
         "geo": "geo",
         "hovertemplate": "<b>%{hovertext}</b><br><br>Deaths=%{customdata[0]}<br>Location=%{location}<br>Cases=%{customdata[1]}<extra></extra>",
         "hovertext": [
          "Morocco"
         ],
         "locationmode": "country names",
         "locations": [
          "Morocco"
         ],
         "name": "16,303",
         "showlegend": true,
         "showscale": false,
         "type": "choropleth",
         "z": [
          1
         ]
        },
        {
         "colorscale": [
          [
           0,
           "#ab63fa"
          ],
          [
           1,
           "#ab63fa"
          ]
         ],
         "customdata": [
          [
           "5,938",
           "1,252,713"
          ]
         ],
         "geo": "geo",
         "hovertemplate": "<b>%{hovertext}</b><br><br>Deaths=%{customdata[0]}<br>Location=%{location}<br>Cases=%{customdata[1]}<extra></extra>",
         "hovertext": [
          "Puerto Rico"
         ],
         "locationmode": "country names",
         "locations": [
          "Puerto Rico"
         ],
         "name": "5,938",
         "showlegend": true,
         "showscale": false,
         "type": "choropleth",
         "z": [
          1
         ]
        },
        {
         "colorscale": [
          [
           0,
           "#FFA15A"
          ],
          [
           1,
           "#FFA15A"
          ]
         ],
         "customdata": [
          [
           "20,200",
           "1,250,290"
          ]
         ],
         "geo": "geo",
         "hovertemplate": "<b>%{hovertext}</b><br><br>Deaths=%{customdata[0]}<br>Location=%{location}<br>Cases=%{customdata[1]}<extra></extra>",
         "hovertext": [
          "Guatemala"
         ],
         "locationmode": "country names",
         "locations": [
          "Guatemala"
         ],
         "name": "20,200",
         "showlegend": true,
         "showscale": false,
         "type": "choropleth",
         "z": [
          1
         ]
        },
        {
         "colorscale": [
          [
           0,
           "#19d3f3"
          ],
          [
           1,
           "#19d3f3"
          ]
         ],
         "customdata": [
          [
           "10,947",
           "1,239,904"
          ]
         ],
         "geo": "geo",
         "hovertemplate": "<b>%{hovertext}</b><br><br>Deaths=%{customdata[0]}<br>Location=%{location}<br>Cases=%{customdata[1]}<extra></extra>",
         "hovertext": [
          "Lebanon"
         ],
         "locationmode": "country names",
         "locations": [
          "Lebanon"
         ],
         "name": "10,947",
         "showlegend": true,
         "showscale": false,
         "type": "choropleth",
         "z": [
          1
         ]
        },
        {
         "colorscale": [
          [
           0,
           "#FF6692"
          ],
          [
           1,
           "#FF6692"
          ]
         ],
         "customdata": [
          [
           "9,368",
           "1,230,653"
          ]
         ],
         "geo": "geo",
         "hovertemplate": "<b>%{hovertext}</b><br><br>Deaths=%{customdata[0]}<br>Location=%{location}<br>Cases=%{customdata[1]}<extra></extra>",
         "hovertext": [
          "Costa Rica"
         ],
         "locationmode": "country names",
         "locations": [
          "Costa Rica"
         ],
         "name": "9,368",
         "showlegend": true,
         "showscale": false,
         "type": "choropleth",
         "z": [
          1
         ]
        },
        {
         "colorscale": [
          [
           0,
           "#B6E880"
          ],
          [
           1,
           "#B6E880"
          ]
         ],
         "customdata": [
          [
           "22,384",
           "1,198,018"
          ]
         ],
         "geo": "geo",
         "hovertemplate": "<b>%{hovertext}</b><br><br>Deaths=%{customdata[0]}<br>Location=%{location}<br>Cases=%{customdata[1]}<extra></extra>",
         "hovertext": [
          "Bolivia"
         ],
         "locationmode": "country names",
         "locations": [
          "Bolivia"
         ],
         "name": "22,384",
         "showlegend": true,
         "showscale": false,
         "type": "choropleth",
         "z": [
          1
         ]
        },
        {
         "colorscale": [
          [
           0,
           "#FF97FF"
          ],
          [
           1,
           "#FF97FF"
          ]
         ],
         "customdata": [
          [
           "29,423",
           "1,153,361"
          ]
         ],
         "geo": "geo",
         "hovertemplate": "<b>%{hovertext}</b><br><br>Deaths=%{customdata[0]}<br>Location=%{location}<br>Cases=%{customdata[1]}<extra></extra>",
         "hovertext": [
          "Tunisia"
         ],
         "locationmode": "country names",
         "locations": [
          "Tunisia"
         ],
         "name": "29,423",
         "showlegend": true,
         "showscale": false,
         "type": "choropleth",
         "z": [
          1
         ]
        },
        {
         "colorscale": [
          [
           0,
           "#FECB52"
          ],
          [
           1,
           "#FECB52"
          ]
         ],
         "customdata": [
          [
           "8,530",
           "1,115,043"
          ]
         ],
         "geo": "geo",
         "hovertemplate": "<b>%{hovertext}</b><br><br>Deaths=%{customdata[0]}<br>Location=%{location}<br>Cases=%{customdata[1]}<extra></extra>",
         "hovertext": [
          "Cuba"
         ],
         "locationmode": "country names",
         "locations": [
          "Cuba"
         ],
         "name": "8,530",
         "showlegend": true,
         "showscale": false,
         "type": "choropleth",
         "z": [
          1
         ]
        },
        {
         "colorscale": [
          [
           0,
           "#636efa"
          ],
          [
           1,
           "#636efa"
          ]
         ],
         "customdata": [
          [
           "36,032",
           "1,068,038"
          ]
         ],
         "geo": "geo",
         "hovertemplate": "<b>%{hovertext}</b><br><br>Deaths=%{customdata[0]}<br>Location=%{location}<br>Cases=%{customdata[1]}<extra></extra>",
         "hovertext": [
          "Ecuador"
         ],
         "locationmode": "country names",
         "locations": [
          "Ecuador"
         ],
         "name": "36,032",
         "showlegend": true,
         "showscale": false,
         "type": "choropleth",
         "z": [
          1
         ]
        },
        {
         "colorscale": [
          [
           0,
           "#EF553B"
          ],
          [
           1,
           "#EF553B"
          ]
         ],
         "customdata": [
          [
           "2,349",
           "1,067,030"
          ]
         ],
         "geo": "geo",
         "hovertemplate": "<b>%{hovertext}</b><br><br>Deaths=%{customdata[0]}<br>Location=%{location}<br>Cases=%{customdata[1]}<extra></extra>",
         "hovertext": [
          "United Arab Emirates"
         ],
         "locationmode": "country names",
         "locations": [
          "United Arab Emirates"
         ],
         "name": "2,349",
         "showlegend": true,
         "showscale": false,
         "type": "choropleth",
         "z": [
          1
         ]
        },
        {
         "colorscale": [
          [
           0,
           "#00cc96"
          ],
          [
           1,
           "#00cc96"
          ]
         ],
         "customdata": [
          [
           "8,657",
           "1,039,408"
          ]
         ],
         "geo": "geo",
         "hovertemplate": "<b>%{hovertext}</b><br><br>Deaths=%{customdata[0]}<br>Location=%{location}<br>Cases=%{customdata[1]}<extra></extra>",
         "hovertext": [
          "Panama"
         ],
         "locationmode": "country names",
         "locations": [
          "Panama"
         ],
         "name": "8,657",
         "showlegend": true,
         "showscale": false,
         "type": "choropleth",
         "z": [
          1
         ]
        },
        {
         "colorscale": [
          [
           0,
           "#ab63fa"
          ],
          [
           1,
           "#ab63fa"
          ]
         ],
         "customdata": [
          [
           "7,625",
           "1,037,893"
          ]
         ],
         "geo": "geo",
         "hovertemplate": "<b>%{hovertext}</b><br><br>Deaths=%{customdata[0]}<br>Location=%{location}<br>Cases=%{customdata[1]}<extra></extra>",
         "hovertext": [
          "Uruguay"
         ],
         "locationmode": "country names",
         "locations": [
          "Uruguay"
         ],
         "name": "7,625",
         "showlegend": true,
         "showscale": false,
         "type": "choropleth",
         "z": [
          1
         ]
        },
        {
         "colorscale": [
          [
           0,
           "#FFA15A"
          ],
          [
           1,
           "#FFA15A"
          ]
         ],
         "customdata": [
          [
           "2,284",
           "1,011,490"
          ]
         ],
         "geo": "geo",
         "hovertemplate": "<b>%{hovertext}</b><br><br>Deaths=%{customdata[0]}<br>Location=%{location}<br>Cases=%{customdata[1]}<extra></extra>",
         "hovertext": [
          "Mongolia"
         ],
         "locationmode": "country names",
         "locations": [
          "Mongolia"
         ],
         "name": "2,284",
         "showlegend": true,
         "showscale": false,
         "type": "choropleth",
         "z": [
          1
         ]
        },
        {
         "colorscale": [
          [
           0,
           "#19d3f3"
          ],
          [
           1,
           "#19d3f3"
          ]
         ],
         "customdata": [
          [
           "12,031",
           "1,003,450"
          ]
         ],
         "geo": "geo",
         "hovertemplate": "<b>%{hovertext}</b><br><br>Deaths=%{customdata[0]}<br>Location=%{location}<br>Cases=%{customdata[1]}<extra></extra>",
         "hovertext": [
          "Nepal"
         ],
         "locationmode": "country names",
         "locations": [
          "Nepal"
         ],
         "name": "12,031",
         "showlegend": true,
         "showscale": false,
         "type": "choropleth",
         "z": [
          1
         ]
        },
        {
         "colorscale": [
          [
           0,
           "#FF6692"
          ],
          [
           1,
           "#FF6692"
          ]
         ],
         "customdata": [
          [
           "7,118",
           "994,037"
          ]
         ],
         "geo": "geo",
         "hovertemplate": "<b>%{hovertext}</b><br><br>Deaths=%{customdata[0]}<br>Location=%{location}<br>Cases=%{customdata[1]}<extra></extra>",
         "hovertext": [
          "Belarus"
         ],
         "locationmode": "country names",
         "locations": [
          "Belarus"
         ],
         "name": "7,118",
         "showlegend": true,
         "showscale": false,
         "type": "choropleth",
         "z": [
          1
         ]
        },
        {
         "colorscale": [
          [
           0,
           "#B6E880"
          ],
          [
           1,
           "#B6E880"
          ]
         ],
         "customdata": [
          [
           "7,465",
           "977,701"
          ]
         ],
         "geo": "geo",
         "hovertemplate": "<b>%{hovertext}</b><br><br>Deaths=%{customdata[0]}<br>Location=%{location}<br>Cases=%{customdata[1]}<extra></extra>",
         "hovertext": [
          "Latvia"
         ],
         "locationmode": "country names",
         "locations": [
          "Latvia"
         ],
         "name": "7,465",
         "showlegend": true,
         "showscale": false,
         "type": "choropleth",
         "z": [
          1
         ]
        },
        {
         "colorscale": [
          [
           0,
           "#FF97FF"
          ],
          [
           1,
           "#FF97FF"
          ]
         ],
         "customdata": [
          [
           "9,646",
           "841,469"
          ]
         ],
         "geo": "geo",
         "hovertemplate": "<b>%{hovertext}</b><br><br>Deaths=%{customdata[0]}<br>Location=%{location}<br>Cases=%{customdata[1]}<extra></extra>",
         "hovertext": [
          "Saudi Arabia"
         ],
         "locationmode": "country names",
         "locations": [
          "Saudi Arabia"
         ],
         "name": "9,646",
         "showlegend": true,
         "showscale": false,
         "type": "choropleth",
         "z": [
          1
         ]
        },
        {
         "colorscale": [
          [
           0,
           "#FECB52"
          ],
          [
           1,
           "#FECB52"
          ]
         ],
         "customdata": [
          [
           "10,353",
           "835,031"
          ]
         ],
         "geo": "geo",
         "hovertemplate": "<b>%{hovertext}</b><br><br>Deaths=%{customdata[0]}<br>Location=%{location}<br>Cases=%{customdata[1]}<extra></extra>",
         "hovertext": [
          "Azerbaijan"
         ],
         "locationmode": "country names",
         "locations": [
          "Azerbaijan"
         ],
         "name": "10,353",
         "showlegend": true,
         "showscale": false,
         "type": "choropleth",
         "z": [
          1
         ]
        },
        {
         "colorscale": [
          [
           0,
           "#636efa"
          ],
          [
           1,
           "#636efa"
          ]
         ],
         "customdata": [
          [
           "19,880",
           "735,759"
          ]
         ],
         "geo": "geo",
         "hovertemplate": "<b>%{hovertext}</b><br><br>Deaths=%{customdata[0]}<br>Location=%{location}<br>Cases=%{customdata[1]}<extra></extra>",
         "hovertext": [
          "Paraguay"
         ],
         "locationmode": "country names",
         "locations": [
          "Paraguay"
         ],
         "name": "19,880",
         "showlegend": true,
         "showscale": false,
         "type": "choropleth",
         "z": [
          1
         ]
        },
        {
         "colorscale": [
          [
           0,
           "#EF553B"
          ],
          [
           1,
           "#EF553B"
          ]
         ],
         "customdata": [
          [
           "5,708",
           "703,228"
          ]
         ],
         "geo": "geo",
         "hovertemplate": "<b>%{hovertext}</b><br><br>Deaths=%{customdata[0]}<br>Location=%{location}<br>Cases=%{customdata[1]}<extra></extra>",
         "hovertext": [
          "Palestine"
         ],
         "locationmode": "country names",
         "locations": [
          "Palestine"
         ],
         "name": "5,708",
         "showlegend": true,
         "showscale": false,
         "type": "choropleth",
         "z": [
          1
         ]
        },
        {
         "colorscale": [
          [
           0,
           "#00cc96"
          ],
          [
           1,
           "#00cc96"
          ]
         ],
         "customdata": [
          [
           "1,536",
           "696,614"
          ]
         ],
         "geo": "geo",
         "hovertemplate": "<b>%{hovertext}</b><br><br>Deaths=%{customdata[0]}<br>Location=%{location}<br>Cases=%{customdata[1]}<extra></extra>",
         "hovertext": [
          "Bahrain"
         ],
         "locationmode": "country names",
         "locations": [
          "Bahrain"
         ],
         "name": "1,536",
         "showlegend": true,
         "showscale": false,
         "type": "choropleth",
         "z": [
          1
         ]
        },
        {
         "colorscale": [
          [
           0,
           "#ab63fa"
          ],
          [
           1,
           "#ab63fa"
          ]
         ],
         "customdata": [
          [
           "1,365",
           "681,110"
          ]
         ],
         "geo": "geo",
         "hovertemplate": "<b>%{hovertext}</b><br><br>Deaths=%{customdata[0]}<br>Location=%{location}<br>Cases=%{customdata[1]}<extra></extra>",
         "hovertext": [
          "Cyprus"
         ],
         "locationmode": "country names",
         "locations": [
          "Cyprus"
         ],
         "name": "1,365",
         "showlegend": true,
         "showscale": false,
         "type": "choropleth",
         "z": [
          1
         ]
        },
        {
         "colorscale": [
          [
           0,
           "#FFA15A"
          ],
          [
           1,
           "#FFA15A"
          ]
         ],
         "customdata": [
          [
           "16,897",
           "672,750"
          ]
         ],
         "geo": "geo",
         "hovertemplate": "<b>%{hovertext}</b><br><br>Deaths=%{customdata[0]}<br>Location=%{location}<br>Cases=%{customdata[1]}<extra></extra>",
         "hovertext": [
          "Sri Lanka"
         ],
         "locationmode": "country names",
         "locations": [
          "Sri Lanka"
         ],
         "name": "16,897",
         "showlegend": true,
         "showscale": false,
         "type": "choropleth",
         "z": [
          1
         ]
        },
        {
         "colorscale": [
          [
           0,
           "#19d3f3"
          ],
          [
           1,
           "#19d3f3"
          ]
         ],
         "customdata": [
          [
           "2,570",
           "667,139"
          ]
         ],
         "geo": "geo",
         "hovertemplate": "<b>%{hovertext}</b><br><br>Deaths=%{customdata[0]}<br>Location=%{location}<br>Cases=%{customdata[1]}<extra></extra>",
         "hovertext": [
          "Kuwait"
         ],
         "locationmode": "country names",
         "locations": [
          "Kuwait"
         ],
         "name": "2,570",
         "showlegend": true,
         "showscale": false,
         "type": "choropleth",
         "z": [
          1
         ]
        },
        {
         "colorscale": [
          [
           0,
           "#FF6692"
          ],
          [
           1,
           "#FF6692"
          ]
         ],
         "customdata": [
          [
           "4,384",
           "661,180"
          ]
         ],
         "geo": "geo",
         "hovertemplate": "<b>%{hovertext}</b><br><br>Deaths=%{customdata[0]}<br>Location=%{location}<br>Cases=%{customdata[1]}<extra></extra>",
         "hovertext": [
          "Dominican Republic"
         ],
         "locationmode": "country names",
         "locations": [
          "Dominican Republic"
         ],
         "name": "4,384",
         "showlegend": true,
         "showscale": false,
         "type": "choropleth",
         "z": [
          1
         ]
        },
        {
         "colorscale": [
          [
           0,
           "#B6E880"
          ],
          [
           1,
           "#B6E880"
          ]
         ],
         "customdata": [
          [
           "19,494",
           "641,837"
          ]
         ],
         "geo": "geo",
         "hovertemplate": "<b>%{hovertext}</b><br><br>Deaths=%{customdata[0]}<br>Location=%{location}<br>Cases=%{customdata[1]}<extra></extra>",
         "hovertext": [
          "Myanmar"
         ],
         "locationmode": "country names",
         "locations": [
          "Myanmar"
         ],
         "name": "19,494",
         "showlegend": true,
         "showscale": false,
         "type": "choropleth",
         "z": [
          1
         ]
        },
        {
         "colorscale": [
          [
           0,
           "#FF97FF"
          ],
          [
           1,
           "#FF97FF"
          ]
         ],
         "customdata": [
          [
           "12,217",
           "635,061"
          ]
         ],
         "geo": "geo",
         "hovertemplate": "<b>%{hovertext}</b><br><br>Deaths=%{customdata[0]}<br>Location=%{location}<br>Cases=%{customdata[1]}<extra></extra>",
         "hovertext": [
          "Moldova"
         ],
         "locationmode": "country names",
         "locations": [
          "Moldova"
         ],
         "name": "12,217",
         "showlegend": true,
         "showscale": false,
         "type": "choropleth",
         "z": [
          1
         ]
        },
        {
         "colorscale": [
          [
           0,
           "#FECB52"
          ],
          [
           1,
           "#FECB52"
          ]
         ],
         "customdata": [
          [
           "2,995",
           "610,125"
          ]
         ],
         "geo": "geo",
         "hovertemplate": "<b>%{hovertext}</b><br><br>Deaths=%{customdata[0]}<br>Location=%{location}<br>Cases=%{customdata[1]}<extra></extra>",
         "hovertext": [
          "Estonia"
         ],
         "locationmode": "country names",
         "locations": [
          "Estonia"
         ],
         "name": "2,995",
         "showlegend": true,
         "showscale": false,
         "type": "choropleth",
         "z": [
          1
         ]
        },
        {
         "colorscale": [
          [
           0,
           "#636efa"
          ],
          [
           1,
           "#636efa"
          ]
         ],
         "customdata": [
          [
           "5,856",
           "552,695"
          ]
         ],
         "geo": "geo",
         "hovertemplate": "<b>%{hovertext}</b><br><br>Deaths=%{customdata[0]}<br>Location=%{location}<br>Cases=%{customdata[1]}<extra></extra>",
         "hovertext": [
          "Venezuela"
         ],
         "locationmode": "country names",
         "locations": [
          "Venezuela"
         ],
         "name": "5,856",
         "showlegend": true,
         "showscale": false,
         "type": "choropleth",
         "z": [
          1
         ]
        },
        {
         "colorscale": [
          [
           0,
           "#EF553B"
          ],
          [
           1,
           "#EF553B"
          ]
         ],
         "customdata": [
          [
           "24,830",
           "516,023"
          ]
         ],
         "geo": "geo",
         "hovertemplate": "<b>%{hovertext}</b><br><br>Deaths=%{customdata[0]}<br>Location=%{location}<br>Cases=%{customdata[1]}<extra></extra>",
         "hovertext": [
          "Egypt"
         ],
         "locationmode": "country names",
         "locations": [
          "Egypt"
         ],
         "name": "24,830",
         "showlegend": true,
         "showscale": false,
         "type": "choropleth",
         "z": [
          1
         ]
        },
        {
         "colorscale": [
          [
           0,
           "#00cc96"
          ],
          [
           1,
           "#00cc96"
          ]
         ],
         "customdata": [
          [
           "690",
           "514,524"
          ]
         ],
         "geo": "geo",
         "hovertemplate": "<b>%{hovertext}</b><br><br>Deaths=%{customdata[0]}<br>Location=%{location}<br>Cases=%{customdata[1]}<extra></extra>",
         "hovertext": [
          "Qatar"
         ],
         "locationmode": "country names",
         "locations": [
          "Qatar"
         ],
         "name": "690",
         "showlegend": true,
         "showscale": false,
         "type": "choropleth",
         "z": [
          1
         ]
        },
        {
         "colorscale": [
          [
           0,
           "#ab63fa"
          ],
          [
           1,
           "#ab63fa"
          ]
         ],
         "customdata": [
          [
           "6,437",
           "507,269"
          ]
         ],
         "geo": "geo",
         "hovertemplate": "<b>%{hovertext}</b><br><br>Deaths=%{customdata[0]}<br>Location=%{location}<br>Cases=%{customdata[1]}<extra></extra>",
         "hovertext": [
          "Libya"
         ],
         "locationmode": "country names",
         "locations": [
          "Libya"
         ],
         "name": "6,437",
         "showlegend": true,
         "showscale": false,
         "type": "choropleth",
         "z": [
          1
         ]
        },
        {
         "colorscale": [
          [
           0,
           "#FFA15A"
          ],
          [
           1,
           "#FFA15A"
          ]
         ],
         "customdata": [
          [
           "7,574",
           "501,157"
          ]
         ],
         "geo": "geo",
         "hovertemplate": "<b>%{hovertext}</b><br><br>Deaths=%{customdata[0]}<br>Location=%{location}<br>Cases=%{customdata[1]}<extra></extra>",
         "hovertext": [
          "Ethiopia"
         ],
         "locationmode": "country names",
         "locations": [
          "Ethiopia"
         ],
         "name": "7,574",
         "showlegend": true,
         "showscale": false,
         "type": "choropleth",
         "z": [
          1
         ]
        },
        {
         "colorscale": [
          [
           0,
           "#19d3f3"
          ],
          [
           1,
           "#19d3f3"
          ]
         ],
         "customdata": [
          [
           "921",
           "494,595"
          ]
         ],
         "geo": "geo",
         "hovertemplate": "<b>%{hovertext}</b><br><br>Deaths=%{customdata[0]}<br>Location=%{location}<br>Cases=%{customdata[1]}<extra></extra>",
         "hovertext": [
          "Réunion"
         ],
         "locationmode": "country names",
         "locations": [
          "Réunion"
         ],
         "name": "921",
         "showlegend": true,
         "showscale": false,
         "type": "choropleth",
         "z": [
          1
         ]
        },
        {
         "colorscale": [
          [
           0,
           "#FF6692"
          ],
          [
           1,
           "#FF6692"
          ]
         ],
         "customdata": [
          [
           "11,114",
           "472,774"
          ]
         ],
         "geo": "geo",
         "hovertemplate": "<b>%{hovertext}</b><br><br>Deaths=%{customdata[0]}<br>Location=%{location}<br>Cases=%{customdata[1]}<extra></extra>",
         "hovertext": [
          "Honduras"
         ],
         "locationmode": "country names",
         "locations": [
          "Honduras"
         ],
         "name": "11,114",
         "showlegend": true,
         "showscale": false,
         "type": "choropleth",
         "z": [
          1
         ]
        },
        {
         "colorscale": [
          [
           0,
           "#B6E880"
          ],
          [
           1,
           "#B6E880"
          ]
         ],
         "customdata": [
          [
           "8,777",
           "451,831"
          ]
         ],
         "geo": "geo",
         "hovertemplate": "<b>%{hovertext}</b><br><br>Deaths=%{customdata[0]}<br>Location=%{location}<br>Cases=%{customdata[1]}<extra></extra>",
         "hovertext": [
          "Armenia"
         ],
         "locationmode": "country names",
         "locations": [
          "Armenia"
         ],
         "name": "8,777",
         "showlegend": true,
         "showscale": false,
         "type": "choropleth",
         "z": [
          1
         ]
        },
        {
         "colorscale": [
          [
           0,
           "#FF97FF"
          ],
          [
           1,
           "#FF97FF"
          ]
         ],
         "customdata": [
          [
           "16,386",
           "403,601"
          ]
         ],
         "geo": "geo",
         "hovertemplate": "<b>%{hovertext}</b><br><br>Deaths=%{customdata[0]}<br>Location=%{location}<br>Cases=%{customdata[1]}<extra></extra>",
         "hovertext": [
          "Bosnia and Herzegovina"
         ],
         "locationmode": "country names",
         "locations": [
          "Bosnia and Herzegovina"
         ],
         "name": "16,386",
         "showlegend": true,
         "showscale": false,
         "type": "choropleth",
         "z": [
          1
         ]
        },
        {
         "colorscale": [
          [
           0,
           "#FECB52"
          ],
          [
           1,
           "#FECB52"
          ]
         ],
         "customdata": [
          [
           "4,628",
           "399,449"
          ]
         ],
         "geo": "geo",
         "hovertemplate": "<b>%{hovertext}</b><br><br>Deaths=%{customdata[0]}<br>Location=%{location}<br>Cases=%{customdata[1]}<extra></extra>",
         "hovertext": [
          "Oman"
         ],
         "locationmode": "country names",
         "locations": [
          "Oman"
         ],
         "name": "4,628",
         "showlegend": true,
         "showscale": false,
         "type": "choropleth",
         "z": [
          1
         ]
        },
        {
         "colorscale": [
          [
           0,
           "#636efa"
          ],
          [
           1,
           "#636efa"
          ]
         ],
         "customdata": [
          [
           "1,000",
           "391,176"
          ]
         ],
         "geo": "geo",
         "hovertemplate": "<b>%{hovertext}</b><br><br>Deaths=%{customdata[0]}<br>Location=%{location}<br>Cases=%{customdata[1]}<extra></extra>",
         "hovertext": [
          "Luxembourg"
         ],
         "locationmode": "country names",
         "locations": [
          "Luxembourg"
         ],
         "name": "1,000",
         "showlegend": true,
         "showscale": false,
         "type": "choropleth",
         "z": [
          1
         ]
        },
        {
         "colorscale": [
          [
           0,
           "#EF553B"
          ],
          [
           1,
           "#EF553B"
          ]
         ],
         "customdata": [
          [
           "9,975",
           "350,555"
          ]
         ],
         "geo": "geo",
         "hovertemplate": "<b>%{hovertext}</b><br><br>Deaths=%{customdata[0]}<br>Location=%{location}<br>Cases=%{customdata[1]}<extra></extra>",
         "hovertext": [
          "North Macedonia"
         ],
         "locationmode": "country names",
         "locations": [
          "North Macedonia"
         ],
         "name": "9,975",
         "showlegend": true,
         "showscale": false,
         "type": "choropleth",
         "z": [
          1
         ]
        },
        {
         "colorscale": [
          [
           0,
           "#00cc96"
          ],
          [
           1,
           "#00cc96"
          ]
         ],
         "customdata": [
          [
           "4,069",
           "349,304"
          ]
         ],
         "geo": "geo",
         "hovertemplate": "<b>%{hovertext}</b><br><br>Deaths=%{customdata[0]}<br>Location=%{location}<br>Cases=%{customdata[1]}<extra></extra>",
         "hovertext": [
          "Zambia"
         ],
         "locationmode": "country names",
         "locations": [
          "Zambia"
         ],
         "name": "4,069",
         "showlegend": true,
         "showscale": false,
         "type": "choropleth",
         "z": [
          1
         ]
        },
        {
         "colorscale": [
          [
           0,
           "#ab63fa"
          ],
          [
           1,
           "#ab63fa"
          ]
         ],
         "customdata": [
          [
           "5,689",
           "344,094"
          ]
         ],
         "geo": "geo",
         "hovertemplate": "<b>%{hovertext}</b><br><br>Deaths=%{customdata[0]}<br>Location=%{location}<br>Cases=%{customdata[1]}<extra></extra>",
         "hovertext": [
          "Kenya"
         ],
         "locationmode": "country names",
         "locations": [
          "Kenya"
         ],
         "name": "5,689",
         "showlegend": true,
         "showscale": false,
         "type": "choropleth",
         "z": [
          1
         ]
        },
        {
         "colorscale": [
          [
           0,
           "#FFA15A"
          ],
          [
           1,
           "#FFA15A"
          ]
         ],
         "customdata": [
          [
           "178",
           "343,469"
          ]
         ],
         "geo": "geo",
         "hovertemplate": "<b>%{hovertext}</b><br><br>Deaths=%{customdata[0]}<br>Location=%{location}<br>Cases=%{customdata[1]}<extra></extra>",
         "hovertext": [
          "Brunei"
         ],
         "locationmode": "country names",
         "locations": [
          "Brunei"
         ],
         "name": "178",
         "showlegend": true,
         "showscale": false,
         "type": "choropleth",
         "z": [
          1
         ]
        },
        {
         "colorscale": [
          [
           0,
           "#19d3f3"
          ],
          [
           1,
           "#19d3f3"
          ]
         ],
         "customdata": [
          [
           "3,605",
           "334,863"
          ]
         ],
         "geo": "geo",
         "hovertemplate": "<b>%{hovertext}</b><br><br>Deaths=%{customdata[0]}<br>Location=%{location}<br>Cases=%{customdata[1]}<extra></extra>",
         "hovertext": [
          "Albania"
         ],
         "locationmode": "country names",
         "locations": [
          "Albania"
         ],
         "name": "3,605",
         "showlegend": true,
         "showscale": false,
         "type": "choropleth",
         "z": [
          1
         ]
        },
        {
         "colorscale": [
          [
           0,
           "#FF6692"
          ],
          [
           1,
           "#FF6692"
          ]
         ],
         "customdata": [
          [
           "2,800",
           "330,417"
          ]
         ],
         "geo": "geo",
         "hovertemplate": "<b>%{hovertext}</b><br><br>Deaths=%{customdata[0]}<br>Location=%{location}<br>Cases=%{customdata[1]}<extra></extra>",
         "hovertext": [
          "Botswana"
         ],
         "locationmode": "country names",
         "locations": [
          "Botswana"
         ],
         "name": "2,800",
         "showlegend": true,
         "showscale": false,
         "type": "choropleth",
         "z": [
          1
         ]
        },
        {
         "colorscale": [
          [
           0,
           "#B6E880"
          ],
          [
           1,
           "#B6E880"
          ]
         ],
         "customdata": [
          [
           "1,070",
           "327,256"
          ]
         ],
         "geo": "geo",
         "hovertemplate": "<b>%{hovertext}</b><br><br>Deaths=%{customdata[0]}<br>Location=%{location}<br>Cases=%{customdata[1]}<extra></extra>",
         "hovertext": [
          "Mauritius"
         ],
         "locationmode": "country names",
         "locations": [
          "Mauritius"
         ],
         "name": "1,070",
         "showlegend": true,
         "showscale": false,
         "type": "choropleth",
         "z": [
          1
         ]
        },
        {
         "colorscale": [
          [
           0,
           "#FF97FF"
          ],
          [
           1,
           "#FF97FF"
          ]
         ],
         "customdata": [
          [
           "3,212",
           "274,279"
          ]
         ],
         "geo": "geo",
         "hovertemplate": "<b>%{hovertext}</b><br><br>Deaths=%{customdata[0]}<br>Location=%{location}<br>Cases=%{customdata[1]}<extra></extra>",
         "hovertext": [
          "Kosovo"
         ],
         "locationmode": "country names",
         "locations": [
          "Kosovo"
         ],
         "name": "3,212",
         "showlegend": true,
         "showscale": false,
         "type": "choropleth",
         "z": [
          1
         ]
        },
        {
         "colorscale": [
          [
           0,
           "#FECB52"
          ],
          [
           1,
           "#FECB52"
          ]
         ],
         "customdata": [
          [
           "6,881",
           "272,010"
          ]
         ],
         "geo": "geo",
         "hovertemplate": "<b>%{hovertext}</b><br><br>Deaths=%{customdata[0]}<br>Location=%{location}<br>Cases=%{customdata[1]}<extra></extra>",
         "hovertext": [
          "Algeria"
         ],
         "locationmode": "country names",
         "locations": [
          "Algeria"
         ],
         "name": "6,881",
         "showlegend": true,
         "showscale": false,
         "type": "choropleth",
         "z": [
          1
         ]
        },
        {
         "colorscale": [
          [
           0,
           "#636efa"
          ],
          [
           1,
           "#636efa"
          ]
         ],
         "customdata": [
          [
           "3,155",
           "267,188"
          ]
         ],
         "geo": "geo",
         "hovertemplate": "<b>%{hovertext}</b><br><br>Deaths=%{customdata[0]}<br>Location=%{location}<br>Cases=%{customdata[1]}<extra></extra>",
         "hovertext": [
          "Nigeria"
         ],
         "locationmode": "country names",
         "locations": [
          "Nigeria"
         ],
         "name": "3,155",
         "showlegend": true,
         "showscale": false,
         "type": "choropleth",
         "z": [
          1
         ]
        },
        {
         "colorscale": [
          [
           0,
           "#EF553B"
          ],
          [
           1,
           "#EF553B"
          ]
         ],
         "customdata": [
          [
           "5,740",
           "266,358"
          ]
         ],
         "geo": "geo",
         "hovertemplate": "<b>%{hovertext}</b><br><br>Deaths=%{customdata[0]}<br>Location=%{location}<br>Cases=%{customdata[1]}<extra></extra>",
         "hovertext": [
          "Zimbabwe"
         ],
         "locationmode": "country names",
         "locations": [
          "Zimbabwe"
         ],
         "name": "5,740",
         "showlegend": true,
         "showscale": false,
         "type": "choropleth",
         "z": [
          1
         ]
        },
        {
         "colorscale": [
          [
           0,
           "#00cc96"
          ],
          [
           1,
           "#00cc96"
          ]
         ],
         "customdata": [
          [
           "2,654",
           "251,280"
          ]
         ],
         "geo": "geo",
         "hovertemplate": "<b>%{hovertext}</b><br><br>Deaths=%{customdata[0]}<br>Location=%{location}<br>Cases=%{customdata[1]}<extra></extra>",
         "hovertext": [
          "Montenegro"
         ],
         "locationmode": "country names",
         "locations": [
          "Montenegro"
         ],
         "name": "2,654",
         "showlegend": true,
         "showscale": false,
         "type": "choropleth",
         "z": [
          1
         ]
        },
        {
         "colorscale": [
          [
           0,
           "#ab63fa"
          ],
          [
           1,
           "#ab63fa"
          ]
         ],
         "customdata": [
          [
           "2,250",
           "233,731"
          ]
         ],
         "geo": "geo",
         "hovertemplate": "<b>%{hovertext}</b><br><br>Deaths=%{customdata[0]}<br>Location=%{location}<br>Cases=%{customdata[1]}<extra></extra>",
         "hovertext": [
          "Mozambique"
         ],
         "locationmode": "country names",
         "locations": [
          "Mozambique"
         ],
         "name": "2,250",
         "showlegend": true,
         "showscale": false,
         "type": "choropleth",
         "z": [
          1
         ]
        },
        {
         "colorscale": [
          [
           0,
           "#FFA15A"
          ],
          [
           1,
           "#FFA15A"
          ]
         ],
         "customdata": [
          [
           "7,982",
           "231,990"
          ]
         ],
         "geo": "geo",
         "hovertemplate": "<b>%{hovertext}</b><br><br>Deaths=%{customdata[0]}<br>Location=%{location}<br>Cases=%{customdata[1]}<extra></extra>",
         "hovertext": [
          "Afghanistan"
         ],
         "locationmode": "country names",
         "locations": [
          "Afghanistan"
         ],
         "name": "7,982",
         "showlegend": true,
         "showscale": false,
         "type": "choropleth",
         "z": [
          1
         ]
        },
        {
         "colorscale": [
          [
           0,
           "#19d3f3"
          ],
          [
           1,
           "#19d3f3"
          ]
         ],
         "customdata": [
          [
           "1,104",
           "230,354"
          ]
         ],
         "geo": "geo",
         "hovertemplate": "<b>%{hovertext}</b><br><br>Deaths=%{customdata[0]}<br>Location=%{location}<br>Cases=%{customdata[1]}<extra></extra>",
         "hovertext": [
          "Martinique"
         ],
         "locationmode": "country names",
         "locations": [
          "Martinique"
         ],
         "name": "1,104",
         "showlegend": true,
         "showscale": false,
         "type": "choropleth",
         "z": [
          1
         ]
        },
        {
         "colorscale": [
          [
           0,
           "#FF6692"
          ],
          [
           1,
           "#FF6692"
          ]
         ],
         "customdata": [
          [
           "671",
           "218,948"
          ]
         ],
         "geo": "geo",
         "hovertemplate": "<b>%{hovertext}</b><br><br>Deaths=%{customdata[0]}<br>Location=%{location}<br>Cases=%{customdata[1]}<extra></extra>",
         "hovertext": [
          "Laos"
         ],
         "locationmode": "country names",
         "locations": [
          "Laos"
         ],
         "name": "671",
         "showlegend": true,
         "showscale": false,
         "type": "choropleth",
         "z": [
          1
         ]
        },
        {
         "colorscale": [
          [
           0,
           "#B6E880"
          ],
          [
           1,
           "#B6E880"
          ]
         ],
         "customdata": [
          [
           "186",
           "209,903"
          ]
         ],
         "geo": "geo",
         "hovertemplate": "<b>%{hovertext}</b><br><br>Deaths=%{customdata[0]}<br>Location=%{location}<br>Cases=%{customdata[1]}<extra></extra>",
         "hovertext": [
          "Iceland"
         ],
         "locationmode": "country names",
         "locations": [
          "Iceland"
         ],
         "name": "186",
         "showlegend": true,
         "showscale": false,
         "type": "choropleth",
         "z": [
          1
         ]
        },
        {
         "colorscale": [
          [
           0,
           "#FF97FF"
          ],
          [
           1,
           "#FF97FF"
          ]
         ],
         "customdata": [
          [
           "1,021",
           "203,235"
          ]
         ],
         "geo": "geo",
         "hovertemplate": "<b>%{hovertext}</b><br><br>Deaths=%{customdata[0]}<br>Location=%{location}<br>Cases=%{customdata[1]}<extra></extra>",
         "hovertext": [
          "Guadeloupe"
         ],
         "locationmode": "country names",
         "locations": [
          "Guadeloupe"
         ],
         "name": "1,021",
         "showlegend": true,
         "showscale": false,
         "type": "choropleth",
         "z": [
          1
         ]
        },
        {
         "colorscale": [
          [
           0,
           "#FECB52"
          ],
          [
           1,
           "#FECB52"
          ]
         ],
         "customdata": [
          [
           "4,230",
           "201,810"
          ]
         ],
         "geo": "geo",
         "hovertemplate": "<b>%{hovertext}</b><br><br>Deaths=%{customdata[0]}<br>Location=%{location}<br>Cases=%{customdata[1]}<extra></extra>",
         "hovertext": [
          "El Salvador"
         ],
         "locationmode": "country names",
         "locations": [
          "El Salvador"
         ],
         "name": "4,230",
         "showlegend": true,
         "showscale": false,
         "type": "choropleth",
         "z": [
          1
         ]
        },
        {
         "colorscale": [
          [
           0,
           "#636efa"
          ],
          [
           1,
           "#636efa"
          ]
         ],
         "customdata": [
          [
           "4,390",
           "191,496"
          ]
         ],
         "geo": "geo",
         "hovertemplate": "<b>%{hovertext}</b><br><br>Deaths=%{customdata[0]}<br>Location=%{location}<br>Cases=%{customdata[1]}<extra></extra>",
         "hovertext": [
          "Trinidad and Tobago"
         ],
         "locationmode": "country names",
         "locations": [
          "Trinidad and Tobago"
         ],
         "name": "4,390",
         "showlegend": true,
         "showscale": false,
         "type": "choropleth",
         "z": [
          1
         ]
        },
        {
         "colorscale": [
          [
           0,
           "#EF553B"
          ],
          [
           1,
           "#EF553B"
          ]
         ],
         "customdata": [
          [
           "316",
           "186,694"
          ]
         ],
         "geo": "geo",
         "hovertemplate": "<b>%{hovertext}</b><br><br>Deaths=%{customdata[0]}<br>Location=%{location}<br>Cases=%{customdata[1]}<extra></extra>",
         "hovertext": [
          "Maldives"
         ],
         "locationmode": "country names",
         "locations": [
          "Maldives"
         ],
         "name": "316",
         "showlegend": true,
         "showscale": false,
         "type": "choropleth",
         "z": [
          1
         ]
        },
        {
         "colorscale": [
          [
           0,
           "#00cc96"
          ],
          [
           1,
           "#00cc96"
          ]
         ],
         "customdata": [
          [
           "1,016",
           "175,081"
          ]
         ],
         "geo": "geo",
         "hovertemplate": "<b>%{hovertext}</b><br><br>Deaths=%{customdata[0]}<br>Location=%{location}<br>Cases=%{customdata[1]}<extra></extra>",
         "hovertext": [
          "Uzbekistan"
         ],
         "locationmode": "country names",
         "locations": [
          "Uzbekistan"
         ],
         "name": "1,016",
         "showlegend": true,
         "showscale": false,
         "type": "choropleth",
         "z": [
          1
         ]
        },
        {
         "colorscale": [
          [
           0,
           "#ab63fa"
          ],
          [
           1,
           "#ab63fa"
          ]
         ],
         "customdata": [
          [
           "4,106",
           "172,389"
          ]
         ],
         "geo": "geo",
         "hovertemplate": "<b>%{hovertext}</b><br><br>Deaths=%{customdata[0]}<br>Location=%{location}<br>Cases=%{customdata[1]}<extra></extra>",
         "hovertext": [
          "Namibia"
         ],
         "locationmode": "country names",
         "locations": [
          "Namibia"
         ],
         "name": "4,106",
         "showlegend": true,
         "showscale": false,
         "type": "choropleth",
         "z": [
          1
         ]
        },
        {
         "colorscale": [
          [
           0,
           "#FFA15A"
          ],
          [
           1,
           "#FFA15A"
          ]
         ],
         "customdata": [
          [
           "3,632",
           "172,149"
          ]
         ],
         "geo": "geo",
         "hovertemplate": "<b>%{hovertext}</b><br><br>Deaths=%{customdata[0]}<br>Location=%{location}<br>Cases=%{customdata[1]}<extra></extra>",
         "hovertext": [
          "Uganda"
         ],
         "locationmode": "country names",
         "locations": [
          "Uganda"
         ],
         "name": "3,632",
         "showlegend": true,
         "showscale": false,
         "type": "choropleth",
         "z": [
          1
         ]
        },
        {
         "colorscale": [
          [
           0,
           "#19d3f3"
          ],
          [
           1,
           "#19d3f3"
          ]
         ],
         "customdata": [
          [
           "1,462",
           "171,834"
          ]
         ],
         "geo": "geo",
         "hovertemplate": "<b>%{hovertext}</b><br><br>Deaths=%{customdata[0]}<br>Location=%{location}<br>Cases=%{customdata[1]}<extra></extra>",
         "hovertext": [
          "Ghana"
         ],
         "locationmode": "country names",
         "locations": [
          "Ghana"
         ],
         "name": "1,462",
         "showlegend": true,
         "showscale": false,
         "type": "choropleth",
         "z": [
          1
         ]
        },
        {
         "colorscale": [
          [
           0,
           "#FF6692"
          ],
          [
           1,
           "#FF6692"
          ]
         ],
         "customdata": [
          [
           "3,594",
           "156,788"
          ]
         ],
         "geo": "geo",
         "hovertemplate": "<b>%{hovertext}</b><br><br>Deaths=%{customdata[0]}<br>Location=%{location}<br>Cases=%{customdata[1]}<extra></extra>",
         "hovertext": [
          "Jamaica"
         ],
         "locationmode": "country names",
         "locations": [
          "Jamaica"
         ],
         "name": "3,594",
         "showlegend": true,
         "showscale": false,
         "type": "choropleth",
         "z": [
          1
         ]
        },
        {
         "colorscale": [
          [
           0,
           "#B6E880"
          ],
          [
           1,
           "#B6E880"
          ]
         ],
         "customdata": [
          [
           "3,056",
           "139,095"
          ]
         ],
         "geo": "geo",
         "hovertemplate": "<b>%{hovertext}</b><br><br>Deaths=%{customdata[0]}<br>Location=%{location}<br>Cases=%{customdata[1]}<extra></extra>",
         "hovertext": [
          "Cambodia"
         ],
         "locationmode": "country names",
         "locations": [
          "Cambodia"
         ],
         "name": "3,056",
         "showlegend": true,
         "showscale": false,
         "type": "choropleth",
         "z": [
          1
         ]
        },
        {
         "colorscale": [
          [
           0,
           "#FF97FF"
          ],
          [
           1,
           "#FF97FF"
          ]
         ],
         "customdata": [
          [
           "1,468",
           "133,208"
          ],
          [
           "1,468",
           "99,338"
          ]
         ],
         "geo": "geo",
         "hovertemplate": "<b>%{hovertext}</b><br><br>Deaths=%{customdata[0]}<br>Location=%{location}<br>Cases=%{customdata[1]}<extra></extra>",
         "hovertext": [
          "Rwanda",
          "Democratic Republic of the Congo"
         ],
         "locationmode": "country names",
         "locations": [
          "Rwanda",
          "Democratic Republic of the Congo"
         ],
         "name": "1,468",
         "showlegend": true,
         "showscale": false,
         "type": "choropleth",
         "z": [
          1,
          1
         ]
        },
        {
         "colorscale": [
          [
           0,
           "#FECB52"
          ],
          [
           1,
           "#FECB52"
          ]
         ],
         "customdata": [
          [
           "1,974",
           "125,137"
          ]
         ],
         "geo": "geo",
         "hovertemplate": "<b>%{hovertext}</b><br><br>Deaths=%{customdata[0]}<br>Location=%{location}<br>Cases=%{customdata[1]}<extra></extra>",
         "hovertext": [
          "Cameroon"
         ],
         "locationmode": "country names",
         "locations": [
          "Cameroon"
         ],
         "name": "1,974",
         "showlegend": true,
         "showscale": false,
         "type": "choropleth",
         "z": [
          1
         ]
        },
        {
         "colorscale": [
          [
           0,
           "#636efa"
          ],
          [
           1,
           "#636efa"
          ]
         ],
         "customdata": [
          [
           "904",
           "121,397"
          ]
         ],
         "geo": "geo",
         "hovertemplate": "<b>%{hovertext}</b><br><br>Deaths=%{customdata[0]}<br>Location=%{location}<br>Cases=%{customdata[1]}<extra></extra>",
         "hovertext": [
          "Malta"
         ],
         "locationmode": "country names",
         "locations": [
          "Malta"
         ],
         "name": "904",
         "showlegend": true,
         "showscale": false,
         "type": "choropleth",
         "z": [
          1
         ]
        },
        {
         "colorscale": [
          [
           0,
           "#EF553B"
          ],
          [
           1,
           "#EF553B"
          ]
         ],
         "customdata": [
          [
           "593",
           "108,064"
          ]
         ],
         "geo": "geo",
         "hovertemplate": "<b>%{hovertext}</b><br><br>Deaths=%{customdata[0]}<br>Location=%{location}<br>Cases=%{customdata[1]}<extra></extra>",
         "hovertext": [
          "Barbados"
         ],
         "locationmode": "country names",
         "locations": [
          "Barbados"
         ],
         "name": "593",
         "showlegend": true,
         "showscale": false,
         "type": "choropleth",
         "z": [
          1
         ]
        },
        {
         "colorscale": [
          [
           0,
           "#00cc96"
          ],
          [
           1,
           "#00cc96"
          ]
         ],
         "customdata": [
          [
           "1,937",
           "107,327"
          ]
         ],
         "geo": "geo",
         "hovertemplate": "<b>%{hovertext}</b><br><br>Deaths=%{customdata[0]}<br>Location=%{location}<br>Cases=%{customdata[1]}<extra></extra>",
         "hovertext": [
          "Angola"
         ],
         "locationmode": "country names",
         "locations": [
          "Angola"
         ],
         "name": "1,937",
         "showlegend": true,
         "showscale": false,
         "type": "choropleth",
         "z": [
          1
         ]
        },
        {
         "colorscale": [
          [
           0,
           "#ab63fa"
          ],
          [
           1,
           "#ab63fa"
          ]
         ],
         "customdata": [
          [
           "413",
           "98,041"
          ]
         ],
         "geo": "geo",
         "hovertemplate": "<b>%{hovertext}</b><br><br>Deaths=%{customdata[0]}<br>Location=%{location}<br>Cases=%{customdata[1]}<extra></extra>",
         "hovertext": [
          "French Guiana"
         ],
         "locationmode": "country names",
         "locations": [
          "French Guiana"
         ],
         "name": "413",
         "showlegend": true,
         "showscale": false,
         "type": "choropleth",
         "z": [
          1
         ]
        },
        {
         "colorscale": [
          [
           0,
           "#FFA15A"
          ],
          [
           1,
           "#FFA15A"
          ]
         ],
         "customdata": [
          [
           "2,686",
           "89,168"
          ]
         ],
         "geo": "geo",
         "hovertemplate": "<b>%{hovertext}</b><br><br>Deaths=%{customdata[0]}<br>Location=%{location}<br>Cases=%{customdata[1]}<extra></extra>",
         "hovertext": [
          "Malawi"
         ],
         "locationmode": "country names",
         "locations": [
          "Malawi"
         ],
         "name": "2,686",
         "showlegend": true,
         "showscale": false,
         "type": "choropleth",
         "z": [
          1
         ]
        },
        {
         "colorscale": [
          [
           0,
           "#19d3f3"
          ],
          [
           1,
           "#19d3f3"
          ]
         ],
         "customdata": [
          [
           "1,971",
           "89,050"
          ]
         ],
         "geo": "geo",
         "hovertemplate": "<b>%{hovertext}</b><br><br>Deaths=%{customdata[0]}<br>Location=%{location}<br>Cases=%{customdata[1]}<extra></extra>",
         "hovertext": [
          "Senegal"
         ],
         "locationmode": "country names",
         "locations": [
          "Senegal"
         ],
         "name": "1,971",
         "showlegend": true,
         "showscale": false,
         "type": "choropleth",
         "z": [
          1
         ]
        },
        {
         "colorscale": [
          [
           0,
           "#FF6692"
          ],
          [
           1,
           "#FF6692"
          ]
         ],
         "customdata": [
          [
           "1,024",
           "88,953"
          ]
         ],
         "geo": "geo",
         "hovertemplate": "<b>%{hovertext}</b><br><br>Deaths=%{customdata[0]}<br>Location=%{location}<br>Cases=%{customdata[1]}<extra></extra>",
         "hovertext": [
          "Kyrgyzstan"
         ],
         "locationmode": "country names",
         "locations": [
          "Kyrgyzstan"
         ],
         "name": "1,024",
         "showlegend": true,
         "showscale": false,
         "type": "choropleth",
         "z": [
          1
         ]
        },
        {
         "colorscale": [
          [
           0,
           "#B6E880"
          ],
          [
           1,
           "#B6E880"
          ]
         ],
         "customdata": [
          [
           "835",
           "88,384"
          ]
         ],
         "geo": "geo",
         "hovertemplate": "<b>%{hovertext}</b><br><br>Deaths=%{customdata[0]}<br>Location=%{location}<br>Cases=%{customdata[1]}<extra></extra>",
         "hovertext": [
          "Ivory Coast"
         ],
         "locationmode": "country names",
         "locations": [
          "Ivory Coast"
         ],
         "name": "835",
         "showlegend": true,
         "showscale": false,
         "type": "choropleth",
         "z": [
          1
         ]
        },
        {
         "colorscale": [
          [
           0,
           "#FF97FF"
          ],
          [
           1,
           "#FF97FF"
          ]
         ],
         "customdata": [
          [
           "1,405",
           "82,496"
          ]
         ],
         "geo": "geo",
         "hovertemplate": "<b>%{hovertext}</b><br><br>Deaths=%{customdata[0]}<br>Location=%{location}<br>Cases=%{customdata[1]}<extra></extra>",
         "hovertext": [
          "Suriname"
         ],
         "locationmode": "country names",
         "locations": [
          "Suriname"
         ],
         "name": "1,405",
         "showlegend": true,
         "showscale": false,
         "type": "choropleth",
         "z": [
          1
         ]
        },
        {
         "colorscale": [
          [
           0,
           "#FECB52"
          ],
          [
           1,
           "#FECB52"
          ]
         ],
         "customdata": [
          [
           "314",
           "80,064"
          ]
         ],
         "geo": "geo",
         "hovertemplate": "<b>%{hovertext}</b><br><br>Deaths=%{customdata[0]}<br>Location=%{location}<br>Cases=%{customdata[1]}<extra></extra>",
         "hovertext": [
          "New Caledonia"
         ],
         "locationmode": "country names",
         "locations": [
          "New Caledonia"
         ],
         "name": "314",
         "showlegend": true,
         "showscale": false,
         "type": "choropleth",
         "z": [
          1
         ]
        },
        {
         "colorscale": [
          [
           0,
           "#636efa"
          ],
          [
           1,
           "#636efa"
          ]
         ],
         "customdata": [
          [
           "650",
           "79,254"
          ]
         ],
         "geo": "geo",
         "hovertemplate": "<b>%{hovertext}</b><br><br>Deaths=%{customdata[0]}<br>Location=%{location}<br>Cases=%{customdata[1]}<extra></extra>",
         "hovertext": [
          "French Polynesia"
         ],
         "locationmode": "country names",
         "locations": [
          "French Polynesia"
         ],
         "name": "650",
         "showlegend": true,
         "showscale": false,
         "type": "choropleth",
         "z": [
          1
         ]
        },
        {
         "colorscale": [
          [
           0,
           "#EF553B"
          ],
          [
           1,
           "#EF553B"
          ]
         ],
         "customdata": [
          [
           "1,427",
           "75,191"
          ]
         ],
         "geo": "geo",
         "hovertemplate": "<b>%{hovertext}</b><br><br>Deaths=%{customdata[0]}<br>Location=%{location}<br>Cases=%{customdata[1]}<extra></extra>",
         "hovertext": [
          "Eswatini"
         ],
         "locationmode": "country names",
         "locations": [
          "Eswatini"
         ],
         "name": "1,427",
         "showlegend": true,
         "showscale": false,
         "type": "choropleth",
         "z": [
          1
         ]
        },
        {
         "colorscale": [
          [
           0,
           "#00cc96"
          ],
          [
           1,
           "#00cc96"
          ]
         ],
         "customdata": [
          [
           "1,300",
           "73,947"
          ]
         ],
         "geo": "geo",
         "hovertemplate": "<b>%{hovertext}</b><br><br>Deaths=%{customdata[0]}<br>Location=%{location}<br>Cases=%{customdata[1]}<extra></extra>",
         "hovertext": [
          "Guyana"
         ],
         "locationmode": "country names",
         "locations": [
          "Guyana"
         ],
         "name": "1,300",
         "showlegend": true,
         "showscale": false,
         "type": "choropleth",
         "z": [
          1
         ]
        },
        {
         "colorscale": [
          [
           0,
           "#ab63fa"
          ],
          [
           1,
           "#ab63fa"
          ]
         ],
         "customdata": [
          [
           "688",
           "70,804"
          ]
         ],
         "geo": "geo",
         "hovertemplate": "<b>%{hovertext}</b><br><br>Deaths=%{customdata[0]}<br>Location=%{location}<br>Cases=%{customdata[1]}<extra></extra>",
         "hovertext": [
          "Belize"
         ],
         "locationmode": "country names",
         "locations": [
          "Belize"
         ],
         "name": "688",
         "showlegend": true,
         "showscale": false,
         "type": "choropleth",
         "z": [
          1
         ]
        },
        {
         "colorscale": [
          [
           0,
           "#FFA15A"
          ],
          [
           1,
           "#FFA15A"
          ]
         ],
         "customdata": [
          [
           "885",
           "69,047"
          ]
         ],
         "geo": "geo",
         "hovertemplate": "<b>%{hovertext}</b><br><br>Deaths=%{customdata[0]}<br>Location=%{location}<br>Cases=%{customdata[1]}<extra></extra>",
         "hovertext": [
          "Fiji"
         ],
         "locationmode": "country names",
         "locations": [
          "Fiji"
         ],
         "name": "885",
         "showlegend": true,
         "showscale": false,
         "type": "choropleth",
         "z": [
          1
         ]
        },
        {
         "colorscale": [
          [
           0,
           "#19d3f3"
          ],
          [
           1,
           "#19d3f3"
          ]
         ],
         "customdata": [
          [
           "1,426",
           "68,486"
          ]
         ],
         "geo": "geo",
         "hovertemplate": "<b>%{hovertext}</b><br><br>Deaths=%{customdata[0]}<br>Location=%{location}<br>Cases=%{customdata[1]}<extra></extra>",
         "hovertext": [
          "Madagascar"
         ],
         "locationmode": "country names",
         "locations": [
          "Madagascar"
         ],
         "name": "1,426",
         "showlegend": true,
         "showscale": false,
         "type": "choropleth",
         "z": [
          1
         ]
        },
        {
         "colorscale": [
          [
           0,
           "#FF6692"
          ],
          [
           1,
           "#FF6692"
          ]
         ],
         "customdata": [
          [
           "161",
           "66,391"
          ]
         ],
         "geo": "geo",
         "hovertemplate": "<b>%{hovertext}</b><br><br>Deaths=%{customdata[0]}<br>Location=%{location}<br>Cases=%{customdata[1]}<extra></extra>",
         "hovertext": [
          "Jersey"
         ],
         "locationmode": "country names",
         "locations": [
          "Jersey"
         ],
         "name": "161",
         "showlegend": true,
         "showscale": false,
         "type": "choropleth",
         "z": [
          1
         ]
        },
        {
         "colorscale": [
          [
           0,
           "#B6E880"
          ],
          [
           1,
           "#B6E880"
          ]
         ],
         "customdata": [
          [
           "417",
           "64,474"
          ]
         ],
         "geo": "geo",
         "hovertemplate": "<b>%{hovertext}</b><br><br>Deaths=%{customdata[0]}<br>Location=%{location}<br>Cases=%{customdata[1]}<extra></extra>",
         "hovertext": [
          "Cabo Verde"
         ],
         "locationmode": "country names",
         "locations": [
          "Cabo Verde"
         ],
         "name": "417",
         "showlegend": true,
         "showscale": false,
         "type": "choropleth",
         "z": [
          1
         ]
        },
        {
         "colorscale": [
          [
           0,
           "#FF97FF"
          ],
          [
           1,
           "#FF97FF"
          ]
         ],
         "customdata": [
          [
           "5,046",
           "63,993"
          ]
         ],
         "geo": "geo",
         "hovertemplate": "<b>%{hovertext}</b><br><br>Deaths=%{customdata[0]}<br>Location=%{location}<br>Cases=%{customdata[1]}<extra></extra>",
         "hovertext": [
          "Sudan"
         ],
         "locationmode": "country names",
         "locations": [
          "Sudan"
         ],
         "name": "5,046",
         "showlegend": true,
         "showscale": false,
         "type": "choropleth",
         "z": [
          1
         ]
        },
        {
         "colorscale": [
          [
           0,
           "#FECB52"
          ],
          [
           1,
           "#FECB52"
          ]
         ],
         "customdata": [
          [
           "997",
           "63,846"
          ]
         ],
         "geo": "geo",
         "hovertemplate": "<b>%{hovertext}</b><br><br>Deaths=%{customdata[0]}<br>Location=%{location}<br>Cases=%{customdata[1]}<extra></extra>",
         "hovertext": [
          "Mauritania"
         ],
         "locationmode": "country names",
         "locations": [
          "Mauritania"
         ],
         "name": "997",
         "showlegend": true,
         "showscale": false,
         "type": "choropleth",
         "z": [
          1
         ]
        },
        {
         "colorscale": [
          [
           0,
           "#636efa"
          ],
          [
           1,
           "#636efa"
          ]
         ],
         "customdata": [
          [
           "21",
           "62,697"
          ],
          [
           "21",
           "11,971"
          ]
         ],
         "geo": "geo",
         "hovertemplate": "<b>%{hovertext}</b><br><br>Deaths=%{customdata[0]}<br>Location=%{location}<br>Cases=%{customdata[1]}<extra></extra>",
         "hovertext": [
          "Bhutan",
          "Greenland"
         ],
         "locationmode": "country names",
         "locations": [
          "Bhutan",
          "Greenland"
         ],
         "name": "21",
         "showlegend": true,
         "showscale": false,
         "type": "choropleth",
         "z": [
          1,
          1
         ]
        },
        {
         "colorscale": [
          [
           0,
           "#EF553B"
          ],
          [
           1,
           "#EF553B"
          ]
         ],
         "customdata": [
          [
           "3,163",
           "57,423"
          ]
         ],
         "geo": "geo",
         "hovertemplate": "<b>%{hovertext}</b><br><br>Deaths=%{customdata[0]}<br>Location=%{location}<br>Cases=%{customdata[1]}<extra></extra>",
         "hovertext": [
          "Syria"
         ],
         "locationmode": "country names",
         "locations": [
          "Syria"
         ],
         "name": "3,163",
         "showlegend": true,
         "showscale": false,
         "type": "choropleth",
         "z": [
          1
         ]
        },
        {
         "colorscale": [
          [
           0,
           "#00cc96"
          ],
          [
           1,
           "#00cc96"
          ]
         ],
         "customdata": [
          [
           "15",
           "54,565"
          ]
         ],
         "geo": "geo",
         "hovertemplate": "<b>%{hovertext}</b><br><br>Deaths=%{customdata[0]}<br>Location=%{location}<br>Cases=%{customdata[1]}<extra></extra>",
         "hovertext": [
          "Burundi"
         ],
         "locationmode": "country names",
         "locations": [
          "Burundi"
         ],
         "name": "15",
         "showlegend": true,
         "showscale": false,
         "type": "choropleth",
         "z": [
          1
         ]
        },
        {
         "colorscale": [
          [
           0,
           "#ab63fa"
          ],
          [
           1,
           "#ab63fa"
          ]
         ],
         "customdata": [
          [
           "419",
           "52,287"
          ]
         ],
         "geo": "geo",
         "hovertemplate": "<b>%{hovertext}</b><br><br>Deaths=%{customdata[0]}<br>Location=%{location}<br>Cases=%{customdata[1]}<extra></extra>",
         "hovertext": [
          "Guam"
         ],
         "locationmode": "country names",
         "locations": [
          "Guam"
         ],
         "name": "419",
         "showlegend": true,
         "showscale": false,
         "type": "choropleth",
         "z": [
          1
         ]
        },
        {
         "colorscale": [
          [
           0,
           "#FFA15A"
          ],
          [
           1,
           "#FFA15A"
          ]
         ],
         "customdata": [
          [
           "172",
           "51,220"
          ]
         ],
         "geo": "geo",
         "hovertemplate": "<b>%{hovertext}</b><br><br>Deaths=%{customdata[0]}<br>Location=%{location}<br>Cases=%{customdata[1]}<extra></extra>",
         "hovertext": [
          "Seychelles"
         ],
         "locationmode": "country names",
         "locations": [
          "Seychelles"
         ],
         "name": "172",
         "showlegend": true,
         "showscale": false,
         "type": "choropleth",
         "z": [
          1
         ]
        },
        {
         "colorscale": [
          [
           0,
           "#19d3f3"
          ],
          [
           1,
           "#19d3f3"
          ]
         ],
         "customdata": [
          [
           "307",
           "49,051"
          ]
         ],
         "geo": "geo",
         "hovertemplate": "<b>%{hovertext}</b><br><br>Deaths=%{customdata[0]}<br>Location=%{location}<br>Cases=%{customdata[1]}<extra></extra>",
         "hovertext": [
          "Gabon"
         ],
         "locationmode": "country names",
         "locations": [
          "Gabon"
         ],
         "name": "307",
         "showlegend": true,
         "showscale": false,
         "type": "choropleth",
         "z": [
          1
         ]
        },
        {
         "colorscale": [
          [
           0,
           "#FF6692"
          ],
          [
           1,
           "#FF6692"
          ]
         ],
         "customdata": [
          [
           "159",
           "48,015"
          ]
         ],
         "geo": "geo",
         "hovertemplate": "<b>%{hovertext}</b><br><br>Deaths=%{customdata[0]}<br>Location=%{location}<br>Cases=%{customdata[1]}<extra></extra>",
         "hovertext": [
          "Andorra"
         ],
         "locationmode": "country names",
         "locations": [
          "Andorra"
         ],
         "name": "159",
         "showlegend": true,
         "showscale": false,
         "type": "choropleth",
         "z": [
          1
         ]
        },
        {
         "colorscale": [
          [
           0,
           "#B6E880"
          ],
          [
           1,
           "#B6E880"
          ]
         ],
         "customdata": [
          [
           "670",
           "46,864"
          ]
         ],
         "geo": "geo",
         "hovertemplate": "<b>%{hovertext}</b><br><br>Deaths=%{customdata[0]}<br>Location=%{location}<br>Cases=%{customdata[1]}<extra></extra>",
         "hovertext": [
          "Papua New Guinea"
         ],
         "locationmode": "country names",
         "locations": [
          "Papua New Guinea"
         ],
         "name": "670",
         "showlegend": true,
         "showscale": false,
         "type": "choropleth",
         "z": [
          1
         ]
        },
        {
         "colorscale": [
          [
           0,
           "#FF97FF"
          ],
          [
           1,
           "#FF97FF"
          ]
         ],
         "customdata": [
          [
           "305",
           "45,883"
          ]
         ],
         "geo": "geo",
         "hovertemplate": "<b>%{hovertext}</b><br><br>Deaths=%{customdata[0]}<br>Location=%{location}<br>Cases=%{customdata[1]}<extra></extra>",
         "hovertext": [
          "Curaçao"
         ],
         "locationmode": "country names",
         "locations": [
          "Curaçao"
         ],
         "name": "305",
         "showlegend": true,
         "showscale": false,
         "type": "choropleth",
         "z": [
          1
         ]
        },
        {
         "colorscale": [
          [
           0,
           "#FECB52"
          ],
          [
           1,
           "#FECB52"
          ]
         ],
         "customdata": [
          [
           "292",
           "44,224"
          ]
         ],
         "geo": "geo",
         "hovertemplate": "<b>%{hovertext}</b><br><br>Deaths=%{customdata[0]}<br>Location=%{location}<br>Cases=%{customdata[1]}<extra></extra>",
         "hovertext": [
          "Aruba"
         ],
         "locationmode": "country names",
         "locations": [
          "Aruba"
         ],
         "name": "292",
         "showlegend": true,
         "showscale": false,
         "type": "choropleth",
         "z": [
          1
         ]
        },
        {
         "colorscale": [
          [
           0,
           "#636efa"
          ],
          [
           1,
           "#636efa"
          ]
         ],
         "customdata": [
          [
           "846",
           "43,223"
          ]
         ],
         "geo": "geo",
         "hovertemplate": "<b>%{hovertext}</b><br><br>Deaths=%{customdata[0]}<br>Location=%{location}<br>Cases=%{customdata[1]}<extra></extra>",
         "hovertext": [
          "Tanzania"
         ],
         "locationmode": "country names",
         "locations": [
          "Tanzania"
         ],
         "name": "846",
         "showlegend": true,
         "showscale": false,
         "type": "choropleth",
         "z": [
          1
         ]
        },
        {
         "colorscale": [
          [
           0,
           "#EF553B"
          ],
          [
           1,
           "#EF553B"
          ]
         ],
         "customdata": [
          [
           "187",
           "42,027"
          ]
         ],
         "geo": "geo",
         "hovertemplate": "<b>%{hovertext}</b><br><br>Deaths=%{customdata[0]}<br>Location=%{location}<br>Cases=%{customdata[1]}<extra></extra>",
         "hovertext": [
          "Mayotte"
         ],
         "locationmode": "country names",
         "locations": [
          "Mayotte"
         ],
         "name": "187",
         "showlegend": true,
         "showscale": false,
         "type": "choropleth",
         "z": [
          1
         ]
        },
        {
         "colorscale": [
          [
           0,
           "#00cc96"
          ],
          [
           1,
           "#00cc96"
          ]
         ],
         "customdata": [
          [
           "290",
           "39,527"
          ]
         ],
         "geo": "geo",
         "hovertemplate": "<b>%{hovertext}</b><br><br>Deaths=%{customdata[0]}<br>Location=%{location}<br>Cases=%{customdata[1]}<extra></extra>",
         "hovertext": [
          "Togo"
         ],
         "locationmode": "country names",
         "locations": [
          "Togo"
         ],
         "name": "290",
         "showlegend": true,
         "showscale": false,
         "type": "choropleth",
         "z": [
          1
         ]
        },
        {
         "colorscale": [
          [
           0,
           "#ab63fa"
          ],
          [
           1,
           "#ab63fa"
          ]
         ],
         "customdata": [
          [
           "468",
           "38,572"
          ]
         ],
         "geo": "geo",
         "hovertemplate": "<b>%{hovertext}</b><br><br>Deaths=%{customdata[0]}<br>Location=%{location}<br>Cases=%{customdata[1]}<extra></extra>",
         "hovertext": [
          "Guinea"
         ],
         "locationmode": "country names",
         "locations": [
          "Guinea"
         ],
         "name": "468",
         "showlegend": true,
         "showscale": false,
         "type": "choropleth",
         "z": [
          1
         ]
        },
        {
         "colorscale": [
          [
           0,
           "#FFA15A"
          ],
          [
           1,
           "#FFA15A"
          ]
         ],
         "customdata": [
          [
           "844",
           "38,084"
          ]
         ],
         "geo": "geo",
         "hovertemplate": "<b>%{hovertext}</b><br><br>Deaths=%{customdata[0]}<br>Location=%{location}<br>Cases=%{customdata[1]}<extra></extra>",
         "hovertext": [
          "Bahamas"
         ],
         "locationmode": "country names",
         "locations": [
          "Bahamas"
         ],
         "name": "844",
         "showlegend": true,
         "showscale": false,
         "type": "choropleth",
         "z": [
          1
         ]
        },
        {
         "colorscale": [
          [
           0,
           "#19d3f3"
          ],
          [
           1,
           "#19d3f3"
          ]
         ],
         "customdata": [
          [
           "116",
           "38,008"
          ]
         ],
         "geo": "geo",
         "hovertemplate": "<b>%{hovertext}</b><br><br>Deaths=%{customdata[0]}<br>Location=%{location}<br>Cases=%{customdata[1]}<extra></extra>",
         "hovertext": [
          "Isle of Man"
         ],
         "locationmode": "country names",
         "locations": [
          "Isle of Man"
         ],
         "name": "116",
         "showlegend": true,
         "showscale": false,
         "type": "choropleth",
         "z": [
          1
         ]
        },
        {
         "colorscale": [
          [
           0,
           "#FF6692"
          ],
          [
           1,
           "#FF6692"
          ]
         ],
         "customdata": [
          [
           "709",
           "36,138"
          ]
         ],
         "geo": "geo",
         "hovertemplate": "<b>%{hovertext}</b><br><br>Deaths=%{customdata[0]}<br>Location=%{location}<br>Cases=%{customdata[1]}<extra></extra>",
         "hovertext": [
          "Lesotho"
         ],
         "locationmode": "country names",
         "locations": [
          "Lesotho"
         ],
         "name": "709",
         "showlegend": true,
         "showscale": false,
         "type": "choropleth",
         "z": [
          1
         ]
        },
        {
         "colorscale": [
          [
           0,
           "#B6E880"
          ],
          [
           1,
           "#B6E880"
          ]
         ],
         "customdata": [
          [
           "67",
           "35,326"
          ],
          [
           "67",
           "17,181"
          ]
         ],
         "geo": "geo",
         "hovertemplate": "<b>%{hovertext}</b><br><br>Deaths=%{customdata[0]}<br>Location=%{location}<br>Cases=%{customdata[1]}<extra></extra>",
         "hovertext": [
          "Guernsey",
          "Monaco"
         ],
         "locationmode": "country names",
         "locations": [
          "Guernsey",
          "Monaco"
         ],
         "name": "67",
         "showlegend": true,
         "showscale": false,
         "type": "choropleth",
         "z": [
          1,
          1
         ]
        },
        {
         "colorscale": [
          [
           0,
           "#FF97FF"
          ],
          [
           1,
           "#FF97FF"
          ]
         ],
         "customdata": [
          [
           "28",
           "34,658"
          ]
         ],
         "geo": "geo",
         "hovertemplate": "<b>%{hovertext}</b><br><br>Deaths=%{customdata[0]}<br>Location=%{location}<br>Cases=%{customdata[1]}<extra></extra>",
         "hovertext": [
          "Faroe Islands"
         ],
         "locationmode": "country names",
         "locations": [
          "Faroe Islands"
         ],
         "name": "28",
         "showlegend": true,
         "showscale": false,
         "type": "choropleth",
         "z": [
          1
         ]
        },
        {
         "colorscale": [
          [
           0,
           "#FECB52"
          ],
          [
           1,
           "#FECB52"
          ]
         ],
         "customdata": [
          [
           "860",
           "34,298"
          ]
         ],
         "geo": "geo",
         "hovertemplate": "<b>%{hovertext}</b><br><br>Deaths=%{customdata[0]}<br>Location=%{location}<br>Cases=%{customdata[1]}<extra></extra>",
         "hovertext": [
          "Haiti"
         ],
         "locationmode": "country names",
         "locations": [
          "Haiti"
         ],
         "name": "860",
         "showlegend": true,
         "showscale": false,
         "type": "choropleth",
         "z": [
          1
         ]
        },
        {
         "colorscale": [
          [
           0,
           "#636efa"
          ],
          [
           1,
           "#636efa"
          ]
         ],
         "customdata": [
          [
           "743",
           "33,164"
          ]
         ],
         "geo": "geo",
         "hovertemplate": "<b>%{hovertext}</b><br><br>Deaths=%{customdata[0]}<br>Location=%{location}<br>Cases=%{customdata[1]}<extra></extra>",
         "hovertext": [
          "Mali"
         ],
         "locationmode": "country names",
         "locations": [
          "Mali"
         ],
         "name": "743",
         "showlegend": true,
         "showscale": false,
         "type": "choropleth",
         "z": [
          1
         ]
        },
        {
         "colorscale": [
          [
           0,
           "#EF553B"
          ],
          [
           1,
           "#EF553B"
          ]
         ],
         "customdata": [
          [
           "37",
           "31,472"
          ]
         ],
         "geo": "geo",
         "hovertemplate": "<b>%{hovertext}</b><br><br>Deaths=%{customdata[0]}<br>Location=%{location}<br>Cases=%{customdata[1]}<extra></extra>",
         "hovertext": [
          "Cayman Islands"
         ],
         "locationmode": "country names",
         "locations": [
          "Cayman Islands"
         ],
         "name": "37",
         "showlegend": true,
         "showscale": false,
         "type": "choropleth",
         "z": [
          1
         ]
        },
        {
         "colorscale": [
          [
           0,
           "#00cc96"
          ],
          [
           1,
           "#00cc96"
          ]
         ],
         "customdata": [
          [
           "409",
           "30,072"
          ]
         ],
         "geo": "geo",
         "hovertemplate": "<b>%{hovertext}</b><br><br>Deaths=%{customdata[0]}<br>Location=%{location}<br>Cases=%{customdata[1]}<extra></extra>",
         "hovertext": [
          "Saint Lucia"
         ],
         "locationmode": "country names",
         "locations": [
          "Saint Lucia"
         ],
         "name": "409",
         "showlegend": true,
         "showscale": false,
         "type": "choropleth",
         "z": [
          1
         ]
        },
        {
         "colorscale": [
          [
           0,
           "#ab63fa"
          ],
          [
           1,
           "#ab63fa"
          ]
         ],
         "customdata": [
          [
           "163",
           "28,036"
          ]
         ],
         "geo": "geo",
         "hovertemplate": "<b>%{hovertext}</b><br><br>Deaths=%{customdata[0]}<br>Location=%{location}<br>Cases=%{customdata[1]}<extra></extra>",
         "hovertext": [
          "Benin"
         ],
         "locationmode": "country names",
         "locations": [
          "Benin"
         ],
         "name": "163",
         "showlegend": true,
         "showscale": false,
         "type": "choropleth",
         "z": [
          1
         ]
        },
        {
         "colorscale": [
          [
           0,
           "#FFA15A"
          ],
          [
           1,
           "#FFA15A"
          ]
         ],
         "customdata": [
          [
           "1,361",
           "27,334"
          ]
         ],
         "geo": "geo",
         "hovertemplate": "<b>%{hovertext}</b><br><br>Deaths=%{customdata[0]}<br>Location=%{location}<br>Cases=%{customdata[1]}<extra></extra>",
         "hovertext": [
          "Somalia"
         ],
         "locationmode": "country names",
         "locations": [
          "Somalia"
         ],
         "name": "1,361",
         "showlegend": true,
         "showscale": false,
         "type": "choropleth",
         "z": [
          1
         ]
        },
        {
         "colorscale": [
          [
           0,
           "#19d3f3"
          ],
          [
           1,
           "#19d3f3"
          ]
         ],
         "customdata": [
          [
           "65",
           "26,547"
          ]
         ],
         "geo": "geo",
         "hovertemplate": "<b>%{hovertext}</b><br><br>Deaths=%{customdata[0]}<br>Location=%{location}<br>Cases=%{customdata[1]}<extra></extra>",
         "hovertext": [
          "Federated States of Micronesia"
         ],
         "locationmode": "country names",
         "locations": [
          "Federated States of Micronesia"
         ],
         "name": "65",
         "showlegend": true,
         "showscale": false,
         "type": "choropleth",
         "z": [
          1
         ]
        },
        {
         "colorscale": [
          [
           0,
           "#FF6692"
          ],
          [
           1,
           "#FF6692"
          ]
         ],
         "customdata": [
          [
           "199",
           "25,954"
          ]
         ],
         "geo": "geo",
         "hovertemplate": "<b>%{hovertext}</b><br><br>Deaths=%{customdata[0]}<br>Location=%{location}<br>Cases=%{customdata[1]}<extra></extra>",
         "hovertext": [
          "Solomon Islands"
         ],
         "locationmode": "country names",
         "locations": [
          "Solomon Islands"
         ],
         "name": "199",
         "showlegend": true,
         "showscale": false,
         "type": "choropleth",
         "z": [
          1
         ]
        },
        {
         "colorscale": [
          [
           0,
           "#B6E880"
          ],
          [
           1,
           "#B6E880"
          ]
         ],
         "customdata": [
          [
           "132",
           "25,389"
          ]
         ],
         "geo": "geo",
         "hovertemplate": "<b>%{hovertext}</b><br><br>Deaths=%{customdata[0]}<br>Location=%{location}<br>Cases=%{customdata[1]}<extra></extra>",
         "hovertext": [
          "United States Virgin Islands"
         ],
         "locationmode": "country names",
         "locations": [
          "United States Virgin Islands"
         ],
         "name": "132",
         "showlegend": true,
         "showscale": false,
         "type": "choropleth",
         "z": [
          1
         ]
        },
        {
         "colorscale": [
          [
           0,
           "#FF97FF"
          ],
          [
           1,
           "#FF97FF"
          ]
         ],
         "customdata": [
          [
           "126",
           "25,292"
          ]
         ],
         "geo": "geo",
         "hovertemplate": "<b>%{hovertext}</b><br><br>Deaths=%{customdata[0]}<br>Location=%{location}<br>Cases=%{customdata[1]}<extra></extra>",
         "hovertext": [
          "San Marino"
         ],
         "locationmode": "country names",
         "locations": [
          "San Marino"
         ],
         "name": "126",
         "showlegend": true,
         "showscale": false,
         "type": "choropleth",
         "z": [
          1
         ]
        },
        {
         "colorscale": [
          [
           0,
           "#FECB52"
          ],
          [
           1,
           "#FECB52"
          ]
         ],
         "customdata": [
          [
           "389",
           "25,213"
          ]
         ],
         "geo": "geo",
         "hovertemplate": "<b>%{hovertext}</b><br><br>Deaths=%{customdata[0]}<br>Location=%{location}<br>Cases=%{customdata[1]}<extra></extra>",
         "hovertext": [
          "Republic of the Congo"
         ],
         "locationmode": "country names",
         "locations": [
          "Republic of the Congo"
         ],
         "name": "389",
         "showlegend": true,
         "showscale": false,
         "type": "choropleth",
         "z": [
          1
         ]
        },
        {
         "colorscale": [
          [
           0,
           "#636efa"
          ],
          [
           1,
           "#636efa"
          ]
         ],
         "customdata": [
          [
           "138",
           "23,460"
          ]
         ],
         "geo": "geo",
         "hovertemplate": "<b>%{hovertext}</b><br><br>Deaths=%{customdata[0]}<br>Location=%{location}<br>Cases=%{customdata[1]}<extra></extra>",
         "hovertext": [
          "Timor-Leste"
         ],
         "locationmode": "country names",
         "locations": [
          "Timor-Leste"
         ],
         "name": "138",
         "showlegend": true,
         "showscale": false,
         "type": "choropleth",
         "z": [
          1
         ]
        },
        {
         "colorscale": [
          [
           0,
           "#EF553B"
          ],
          [
           1,
           "#EF553B"
          ]
         ],
         "customdata": [
          [
           "400",
           "22,109"
          ]
         ],
         "geo": "geo",
         "hovertemplate": "<b>%{hovertext}</b><br><br>Deaths=%{customdata[0]}<br>Location=%{location}<br>Cases=%{customdata[1]}<extra></extra>",
         "hovertext": [
          "Burkina Faso"
         ],
         "locationmode": "country names",
         "locations": [
          "Burkina Faso"
         ],
         "name": "400",
         "showlegend": true,
         "showscale": false,
         "type": "choropleth",
         "z": [
          1
         ]
        },
        {
         "colorscale": [
          [
           0,
           "#00cc96"
          ],
          [
           1,
           "#00cc96"
          ]
         ],
         "customdata": [
          [
           "91",
           "21,574"
          ]
         ],
         "geo": "geo",
         "hovertemplate": "<b>%{hovertext}</b><br><br>Deaths=%{customdata[0]}<br>Location=%{location}<br>Cases=%{customdata[1]}<extra></extra>",
         "hovertext": [
          "Liechtenstein"
         ],
         "locationmode": "country names",
         "locations": [
          "Liechtenstein"
         ],
         "name": "91",
         "showlegend": true,
         "showscale": false,
         "type": "choropleth",
         "z": [
          1
         ]
        },
        {
         "colorscale": [
          [
           0,
           "#ab63fa"
          ],
          [
           1,
           "#ab63fa"
          ]
         ],
         "customdata": [
          [
           "113",
           "20,550"
          ],
          [
           "113",
           "15,440"
          ]
         ],
         "geo": "geo",
         "hovertemplate": "<b>%{hovertext}</b><br><br>Deaths=%{customdata[0]}<br>Location=%{location}<br>Cases=%{customdata[1]}<extra></extra>",
         "hovertext": [
          "Gibraltar",
          "Central African Republic"
         ],
         "locationmode": "country names",
         "locations": [
          "Gibraltar",
          "Central African Republic"
         ],
         "name": "113",
         "showlegend": true,
         "showscale": false,
         "type": "choropleth",
         "z": [
          1,
          1
         ]
        },
        {
         "colorscale": [
          [
           0,
           "#FFA15A"
          ],
          [
           1,
           "#FFA15A"
          ]
         ],
         "customdata": [
          [
           "238",
           "19,693"
          ]
         ],
         "geo": "geo",
         "hovertemplate": "<b>%{hovertext}</b><br><br>Deaths=%{customdata[0]}<br>Location=%{location}<br>Cases=%{customdata[1]}<extra></extra>",
         "hovertext": [
          "Grenada"
         ],
         "locationmode": "country names",
         "locations": [
          "Grenada"
         ],
         "name": "238",
         "showlegend": true,
         "showscale": false,
         "type": "choropleth",
         "z": [
          1
         ]
        },
        {
         "colorscale": [
          [
           0,
           "#19d3f3"
          ],
          [
           1,
           "#19d3f3"
          ]
         ],
         "customdata": [
          [
           "165",
           "18,860"
          ]
         ],
         "geo": "geo",
         "hovertemplate": "<b>%{hovertext}</b><br><br>Deaths=%{customdata[0]}<br>Location=%{location}<br>Cases=%{customdata[1]}<extra></extra>",
         "hovertext": [
          "Bermuda"
         ],
         "locationmode": "country names",
         "locations": [
          "Bermuda"
         ],
         "name": "165",
         "showlegend": true,
         "showscale": false,
         "type": "choropleth",
         "z": [
          1
         ]
        },
        {
         "colorscale": [
          [
           0,
           "#FF6692"
          ],
          [
           1,
           "#FF6692"
          ]
         ],
         "customdata": [
          [
           "147",
           "18,819"
          ]
         ],
         "geo": "geo",
         "hovertemplate": "<b>%{hovertext}</b><br><br>Deaths=%{customdata[0]}<br>Location=%{location}<br>Cases=%{customdata[1]}<extra></extra>",
         "hovertext": [
          "South Sudan"
         ],
         "locationmode": "country names",
         "locations": [
          "South Sudan"
         ],
         "name": "147",
         "showlegend": true,
         "showscale": false,
         "type": "choropleth",
         "z": [
          1
         ]
        },
        {
         "colorscale": [
          [
           0,
           "#B6E880"
          ],
          [
           1,
           "#B6E880"
          ]
         ],
         "customdata": [
          [
           "125",
           "17,786"
          ],
          [
           "125",
           "7,779"
          ]
         ],
         "geo": "geo",
         "hovertemplate": "<b>%{hovertext}</b><br><br>Deaths=%{customdata[0]}<br>Location=%{location}<br>Cases=%{customdata[1]}<extra></extra>",
         "hovertext": [
          "Tajikistan",
          "Sierra Leone"
         ],
         "locationmode": "country names",
         "locations": [
          "Tajikistan",
          "Sierra Leone"
         ],
         "name": "125",
         "showlegend": true,
         "showscale": false,
         "type": "choropleth",
         "z": [
          1,
          1
         ]
        },
        {
         "colorscale": [
          [
           0,
           "#FF97FF"
          ],
          [
           1,
           "#FF97FF"
          ]
         ],
         "customdata": [
          [
           "183",
           "17,130"
          ]
         ],
         "geo": "geo",
         "hovertemplate": "<b>%{hovertext}</b><br><br>Deaths=%{customdata[0]}<br>Location=%{location}<br>Cases=%{customdata[1]}<extra></extra>",
         "hovertext": [
          "Equatorial Guinea"
         ],
         "locationmode": "country names",
         "locations": [
          "Equatorial Guinea"
         ],
         "name": "183",
         "showlegend": true,
         "showscale": false,
         "type": "choropleth",
         "z": [
          1
         ]
        },
        {
         "colorscale": [
          [
           0,
           "#FECB52"
          ],
          [
           1,
           "#FECB52"
          ]
         ],
         "customdata": [
          [
           "31",
           "16,962"
          ]
         ],
         "geo": "geo",
         "hovertemplate": "<b>%{hovertext}</b><br><br>Deaths=%{customdata[0]}<br>Location=%{location}<br>Cases=%{customdata[1]}<extra></extra>",
         "hovertext": [
          "Samoa"
         ],
         "locationmode": "country names",
         "locations": [
          "Samoa"
         ],
         "name": "31",
         "showlegend": true,
         "showscale": false,
         "type": "choropleth",
         "z": [
          1
         ]
        },
        {
         "colorscale": [
          [
           0,
           "#636efa"
          ],
          [
           1,
           "#636efa"
          ]
         ],
         "customdata": [
          [
           "12",
           "16,950"
          ],
          [
           "12",
           "3,904"
          ]
         ],
         "geo": "geo",
         "hovertemplate": "<b>%{hovertext}</b><br><br>Deaths=%{customdata[0]}<br>Location=%{location}<br>Cases=%{customdata[1]}<extra></extra>",
         "hovertext": [
          "Tonga",
          "Anguilla"
         ],
         "locationmode": "country names",
         "locations": [
          "Tonga",
          "Anguilla"
         ],
         "name": "12",
         "showlegend": true,
         "showscale": false,
         "type": "choropleth",
         "z": [
          1,
          1
         ]
        },
        {
         "colorscale": [
          [
           0,
           "#EF553B"
          ],
          [
           1,
           "#EF553B"
          ]
         ],
         "customdata": [
          [
           "17",
           "16,138"
          ]
         ],
         "geo": "geo",
         "hovertemplate": "<b>%{hovertext}</b><br><br>Deaths=%{customdata[0]}<br>Location=%{location}<br>Cases=%{customdata[1]}<extra></extra>",
         "hovertext": [
          "Marshall Islands"
         ],
         "locationmode": "country names",
         "locations": [
          "Marshall Islands"
         ],
         "name": "17",
         "showlegend": true,
         "showscale": false,
         "type": "choropleth",
         "z": [
          1
         ]
        },
        {
         "colorscale": [
          [
           0,
           "#00cc96"
          ],
          [
           1,
           "#00cc96"
          ]
         ],
         "customdata": [
          [
           "74",
           "15,760"
          ]
         ],
         "geo": "geo",
         "hovertemplate": "<b>%{hovertext}</b><br><br>Deaths=%{customdata[0]}<br>Location=%{location}<br>Cases=%{customdata[1]}<extra></extra>",
         "hovertext": [
          "Dominica"
         ],
         "locationmode": "country names",
         "locations": [
          "Dominica"
         ],
         "name": "74",
         "showlegend": true,
         "showscale": false,
         "type": "choropleth",
         "z": [
          1
         ]
        },
        {
         "colorscale": [
          [
           0,
           "#ab63fa"
          ],
          [
           1,
           "#ab63fa"
          ]
         ],
         "customdata": [
          [
           "245",
           "15,731"
          ]
         ],
         "geo": "geo",
         "hovertemplate": "<b>%{hovertext}</b><br><br>Deaths=%{customdata[0]}<br>Location=%{location}<br>Cases=%{customdata[1]}<extra></extra>",
         "hovertext": [
          "Nicaragua"
         ],
         "locationmode": "country names",
         "locations": [
          "Nicaragua"
         ],
         "name": "245",
         "showlegend": true,
         "showscale": false,
         "type": "choropleth",
         "z": [
          1
         ]
        },
        {
         "colorscale": [
          [
           0,
           "#FFA15A"
          ],
          [
           1,
           "#FFA15A"
          ]
         ],
         "customdata": [
          [
           "189",
           "15,690"
          ]
         ],
         "geo": "geo",
         "hovertemplate": "<b>%{hovertext}</b><br><br>Deaths=%{customdata[0]}<br>Location=%{location}<br>Cases=%{customdata[1]}<extra></extra>",
         "hovertext": [
          "Djibouti"
         ],
         "locationmode": "country names",
         "locations": [
          "Djibouti"
         ],
         "name": "189",
         "showlegend": true,
         "showscale": false,
         "type": "choropleth",
         "z": [
          1
         ]
        },
        {
         "colorscale": [
          [
           0,
           "#19d3f3"
          ],
          [
           1,
           "#19d3f3"
          ]
         ],
         "customdata": [
          [
           "41",
           "14,341"
          ],
          [
           "41",
           "11,922"
          ]
         ],
         "geo": "geo",
         "hovertemplate": "<b>%{hovertext}</b><br><br>Deaths=%{customdata[0]}<br>Location=%{location}<br>Cases=%{customdata[1]}<extra></extra>",
         "hovertext": [
          "Northern Mariana Islands",
          "Caribbean Netherlands"
         ],
         "locationmode": "country names",
         "locations": [
          "Northern Mariana Islands",
          "Caribbean Netherlands"
         ],
         "name": "41",
         "showlegend": true,
         "showscale": false,
         "type": "choropleth",
         "z": [
          1,
          1
         ]
        },
        {
         "colorscale": [
          [
           0,
           "#FF6692"
          ],
          [
           1,
           "#FF6692"
          ]
         ],
         "customdata": [
          [
           "372",
           "12,626"
          ]
         ],
         "geo": "geo",
         "hovertemplate": "<b>%{hovertext}</b><br><br>Deaths=%{customdata[0]}<br>Location=%{location}<br>Cases=%{customdata[1]}<extra></extra>",
         "hovertext": [
          "Gambia"
         ],
         "locationmode": "country names",
         "locations": [
          "Gambia"
         ],
         "name": "372",
         "showlegend": true,
         "showscale": false,
         "type": "choropleth",
         "z": [
          1
         ]
        },
        {
         "colorscale": [
          [
           0,
           "#B6E880"
          ],
          [
           1,
           "#B6E880"
          ]
         ],
         "customdata": [
          [
           "46",
           "12,324"
          ],
          [
           "46",
           "6,607"
          ]
         ],
         "geo": "geo",
         "hovertemplate": "<b>%{hovertext}</b><br><br>Deaths=%{customdata[0]}<br>Location=%{location}<br>Cases=%{customdata[1]}<extra></extra>",
         "hovertext": [
          "Collectivity of Saint Martin",
          "Saint Kitts and Nevis"
         ],
         "locationmode": "country names",
         "locations": [
          "Collectivity of Saint Martin",
          "Saint Kitts and Nevis"
         ],
         "name": "46",
         "showlegend": true,
         "showscale": false,
         "type": "choropleth",
         "z": [
          1,
          1
         ]
        },
        {
         "colorscale": [
          [
           0,
           "#FF97FF"
          ],
          [
           1,
           "#FF97FF"
          ]
         ],
         "customdata": [
          [
           "14",
           "12,019"
          ]
         ],
         "geo": "geo",
         "hovertemplate": "<b>%{hovertext}</b><br><br>Deaths=%{customdata[0]}<br>Location=%{location}<br>Cases=%{customdata[1]}<extra></extra>",
         "hovertext": [
          "Vanuatu"
         ],
         "locationmode": "country names",
         "locations": [
          "Vanuatu"
         ],
         "name": "14",
         "showlegend": true,
         "showscale": false,
         "type": "choropleth",
         "z": [
          1
         ]
        },
        {
         "colorscale": [
          [
           0,
           "#FECB52"
          ],
          [
           1,
           "#FECB52"
          ]
         ],
         "customdata": [
          [
           "2,159",
           "11,945"
          ]
         ],
         "geo": "geo",
         "hovertemplate": "<b>%{hovertext}</b><br><br>Deaths=%{customdata[0]}<br>Location=%{location}<br>Cases=%{customdata[1]}<extra></extra>",
         "hovertext": [
          "Yemen"
         ],
         "locationmode": "country names",
         "locations": [
          "Yemen"
         ],
         "name": "2,159",
         "showlegend": true,
         "showscale": false,
         "type": "choropleth",
         "z": [
          1
         ]
        },
        {
         "colorscale": [
          [
           0,
           "#636efa"
          ],
          [
           1,
           "#636efa"
          ]
         ],
         "customdata": [
          [
           "92",
           "11,051"
          ]
         ],
         "geo": "geo",
         "hovertemplate": "<b>%{hovertext}</b><br><br>Deaths=%{customdata[0]}<br>Location=%{location}<br>Cases=%{customdata[1]}<extra></extra>",
         "hovertext": [
          "Sint Maarten"
         ],
         "locationmode": "country names",
         "locations": [
          "Sint Maarten"
         ],
         "name": "92",
         "showlegend": true,
         "showscale": false,
         "type": "choropleth",
         "z": [
          1
         ]
        },
        {
         "colorscale": [
          [
           0,
           "#EF553B"
          ],
          [
           1,
           "#EF553B"
          ]
         ],
         "customdata": [
          [
           "103",
           "10,189"
          ]
         ],
         "geo": "geo",
         "hovertemplate": "<b>%{hovertext}</b><br><br>Deaths=%{customdata[0]}<br>Location=%{location}<br>Cases=%{customdata[1]}<extra></extra>",
         "hovertext": [
          "Eritrea"
         ],
         "locationmode": "country names",
         "locations": [
          "Eritrea"
         ],
         "name": "103",
         "showlegend": true,
         "showscale": false,
         "type": "choropleth",
         "z": [
          1
         ]
        },
        {
         "colorscale": [
          [
           0,
           "#00cc96"
          ],
          [
           1,
           "#00cc96"
          ]
         ],
         "customdata": [
          [
           "124",
           "9,674"
          ]
         ],
         "geo": "geo",
         "hovertemplate": "<b>%{hovertext}</b><br><br>Deaths=%{customdata[0]}<br>Location=%{location}<br>Cases=%{customdata[1]}<extra></extra>",
         "hovertext": [
          "Saint Vincent and the Grenadines"
         ],
         "locationmode": "country names",
         "locations": [
          "Saint Vincent and the Grenadines"
         ],
         "name": "124",
         "showlegend": true,
         "showscale": false,
         "type": "choropleth",
         "z": [
          1
         ]
        },
        {
         "colorscale": [
          [
           0,
           "#ab63fa"
          ],
          [
           1,
           "#ab63fa"
          ]
         ],
         "customdata": [
          [
           "177",
           "9,614"
          ]
         ],
         "geo": "geo",
         "hovertemplate": "<b>%{hovertext}</b><br><br>Deaths=%{customdata[0]}<br>Location=%{location}<br>Cases=%{customdata[1]}<extra></extra>",
         "hovertext": [
          "Guinea-Bissau"
         ],
         "locationmode": "country names",
         "locations": [
          "Guinea-Bissau"
         ],
         "name": "177",
         "showlegend": true,
         "showscale": false,
         "type": "choropleth",
         "z": [
          1
         ]
        },
        {
         "colorscale": [
          [
           0,
           "#FFA15A"
          ],
          [
           1,
           "#FFA15A"
          ]
         ],
         "customdata": [
          [
           "315",
           "9,515"
          ]
         ],
         "geo": "geo",
         "hovertemplate": "<b>%{hovertext}</b><br><br>Deaths=%{customdata[0]}<br>Location=%{location}<br>Cases=%{customdata[1]}<extra></extra>",
         "hovertext": [
          "Niger"
         ],
         "locationmode": "country names",
         "locations": [
          "Niger"
         ],
         "name": "315",
         "showlegend": true,
         "showscale": false,
         "type": "choropleth",
         "z": [
          1
         ]
        },
        {
         "colorscale": [
          [
           0,
           "#19d3f3"
          ],
          [
           1,
           "#19d3f3"
          ]
         ],
         "customdata": [
          [
           "160",
           "9,109"
          ]
         ],
         "geo": "geo",
         "hovertemplate": "<b>%{hovertext}</b><br><br>Deaths=%{customdata[0]}<br>Location=%{location}<br>Cases=%{customdata[1]}<extra></extra>",
         "hovertext": [
          "Comoros"
         ],
         "locationmode": "country names",
         "locations": [
          "Comoros"
         ],
         "name": "160",
         "showlegend": true,
         "showscale": false,
         "type": "choropleth",
         "z": [
          1
         ]
        },
        {
         "colorscale": [
          [
           0,
           "#FF6692"
          ],
          [
           1,
           "#FF6692"
          ]
         ],
         "customdata": [
          [
           "146",
           "9,106"
          ]
         ],
         "geo": "geo",
         "hovertemplate": "<b>%{hovertext}</b><br><br>Deaths=%{customdata[0]}<br>Location=%{location}<br>Cases=%{customdata[1]}<extra></extra>",
         "hovertext": [
          "Antigua and Barbuda"
         ],
         "locationmode": "country names",
         "locations": [
          "Antigua and Barbuda"
         ],
         "name": "146",
         "showlegend": true,
         "showscale": false,
         "type": "choropleth",
         "z": [
          1
         ]
        },
        {
         "colorscale": [
          [
           0,
           "#B6E880"
          ],
          [
           1,
           "#B6E880"
          ]
         ],
         "customdata": [
          [
           "34",
           "8,359"
          ]
         ],
         "geo": "geo",
         "hovertemplate": "<b>%{hovertext}</b><br><br>Deaths=%{customdata[0]}<br>Location=%{location}<br>Cases=%{customdata[1]}<extra></extra>",
         "hovertext": [
          "American Samoa"
         ],
         "locationmode": "country names",
         "locations": [
          "American Samoa"
         ],
         "name": "34",
         "showlegend": true,
         "showscale": false,
         "type": "choropleth",
         "z": [
          1
         ]
        },
        {
         "colorscale": [
          [
           0,
           "#FF97FF"
          ],
          [
           1,
           "#FF97FF"
          ]
         ],
         "customdata": [
          [
           "294",
           "7,930"
          ]
         ],
         "geo": "geo",
         "hovertemplate": "<b>%{hovertext}</b><br><br>Deaths=%{customdata[0]}<br>Location=%{location}<br>Cases=%{customdata[1]}<extra></extra>",
         "hovertext": [
          "Liberia"
         ],
         "locationmode": "country names",
         "locations": [
          "Liberia"
         ],
         "name": "294",
         "showlegend": true,
         "showscale": false,
         "type": "choropleth",
         "z": [
          1
         ]
        },
        {
         "colorscale": [
          [
           0,
           "#FECB52"
          ],
          [
           1,
           "#FECB52"
          ]
         ],
         "customdata": [
          [
           "194",
           "7,698"
          ]
         ],
         "geo": "geo",
         "hovertemplate": "<b>%{hovertext}</b><br><br>Deaths=%{customdata[0]}<br>Location=%{location}<br>Cases=%{customdata[1]}<extra></extra>",
         "hovertext": [
          "Chad"
         ],
         "locationmode": "country names",
         "locations": [
          "Chad"
         ],
         "name": "194",
         "showlegend": true,
         "showscale": false,
         "type": "choropleth",
         "z": [
          1
         ]
        },
        {
         "colorscale": [
          [
           0,
           "#636efa"
          ],
          [
           1,
           "#636efa"
          ]
         ],
         "customdata": [
          [
           "64",
           "7,392"
          ]
         ],
         "geo": "geo",
         "hovertemplate": "<b>%{hovertext}</b><br><br>Deaths=%{customdata[0]}<br>Location=%{location}<br>Cases=%{customdata[1]}<extra></extra>",
         "hovertext": [
          "British Virgin Islands"
         ],
         "locationmode": "country names",
         "locations": [
          "British Virgin Islands"
         ],
         "name": "64",
         "showlegend": true,
         "showscale": false,
         "type": "choropleth",
         "z": [
          1
         ]
        },
        {
         "colorscale": [
          [
           0,
           "#EF553B"
          ],
          [
           1,
           "#EF553B"
          ]
         ],
         "customdata": [
          [
           "2",
           "7,203"
          ],
          [
           "2",
           "3,426"
          ]
         ],
         "geo": "geo",
         "hovertemplate": "<b>%{hovertext}</b><br><br>Deaths=%{customdata[0]}<br>Location=%{location}<br>Cases=%{customdata[1]}<extra></extra>",
         "hovertext": [
          "Cook Islands",
          "Saint Pierre and Miquelon"
         ],
         "locationmode": "country names",
         "locations": [
          "Cook Islands",
          "Saint Pierre and Miquelon"
         ],
         "name": "2",
         "showlegend": true,
         "showscale": false,
         "type": "choropleth",
         "z": [
          1,
          1
         ]
        },
        {
         "colorscale": [
          [
           0,
           "#00cc96"
          ],
          [
           1,
           "#00cc96"
          ]
         ],
         "customdata": [
          [
           "40",
           "6,750"
          ]
         ],
         "geo": "geo",
         "hovertemplate": "<b>%{hovertext}</b><br><br>Deaths=%{customdata[0]}<br>Location=%{location}<br>Cases=%{customdata[1]}<extra></extra>",
         "hovertext": [
          "Turks and Caicos Islands"
         ],
         "locationmode": "country names",
         "locations": [
          "Turks and Caicos Islands"
         ],
         "name": "40",
         "showlegend": true,
         "showscale": false,
         "type": "choropleth",
         "z": [
          1
         ]
        },
        {
         "colorscale": [
          [
           0,
           "#ab63fa"
          ],
          [
           1,
           "#ab63fa"
          ]
         ],
         "customdata": [
          [
           "80",
           "6,736"
          ]
         ],
         "geo": "geo",
         "hovertemplate": "<b>%{hovertext}</b><br><br>Deaths=%{customdata[0]}<br>Location=%{location}<br>Cases=%{customdata[1]}<extra></extra>",
         "hovertext": [
          "Sao Tome and Principe"
         ],
         "locationmode": "country names",
         "locations": [
          "Sao Tome and Principe"
         ],
         "name": "80",
         "showlegend": true,
         "showscale": false,
         "type": "choropleth",
         "z": [
          1
         ]
        },
        {
         "colorscale": [
          [
           0,
           "#FFA15A"
          ],
          [
           1,
           "#FFA15A"
          ]
         ],
         "customdata": [
          [
           "9",
           "6,265"
          ]
         ],
         "geo": "geo",
         "hovertemplate": "<b>%{hovertext}</b><br><br>Deaths=%{customdata[0]}<br>Location=%{location}<br>Cases=%{customdata[1]}<extra></extra>",
         "hovertext": [
          "Palau"
         ],
         "locationmode": "country names",
         "locations": [
          "Palau"
         ],
         "name": "9",
         "showlegend": true,
         "showscale": false,
         "type": "choropleth",
         "z": [
          1
         ]
        },
        {
         "colorscale": [
          [
           0,
           "#19d3f3"
          ],
          [
           1,
           "#19d3f3"
          ]
         ],
         "customdata": [
          [
           "5",
           "5,507"
          ]
         ],
         "geo": "geo",
         "hovertemplate": "<b>%{hovertext}</b><br><br>Deaths=%{customdata[0]}<br>Location=%{location}<br>Cases=%{customdata[1]}<extra></extra>",
         "hovertext": [
          "Saint Barthélemy"
         ],
         "locationmode": "country names",
         "locations": [
          "Saint Barthélemy"
         ],
         "name": "5",
         "showlegend": true,
         "showscale": false,
         "type": "choropleth",
         "z": [
          1
         ]
        },
        {
         "colorscale": [
          [
           0,
           "#FF6692"
          ],
          [
           1,
           "#FF6692"
          ]
         ],
         "customdata": [
          [
           "1",
           "5,393"
          ],
          [
           "1",
           "2,943"
          ]
         ],
         "geo": "geo",
         "hovertemplate": "<b>%{hovertext}</b><br><br>Deaths=%{customdata[0]}<br>Location=%{location}<br>Cases=%{customdata[1]}<extra></extra>",
         "hovertext": [
          "Nauru",
          "Tuvalu"
         ],
         "locationmode": "country names",
         "locations": [
          "Nauru",
          "Tuvalu"
         ],
         "name": "1",
         "showlegend": true,
         "showscale": false,
         "type": "choropleth",
         "z": [
          1,
          1
         ]
        },
        {
         "colorscale": [
          [
           0,
           "#B6E880"
          ],
          [
           1,
           "#B6E880"
          ]
         ],
         "customdata": [
          [
           "24",
           "5,085"
          ]
         ],
         "geo": "geo",
         "hovertemplate": "<b>%{hovertext}</b><br><br>Deaths=%{customdata[0]}<br>Location=%{location}<br>Cases=%{customdata[1]}<extra></extra>",
         "hovertext": [
          "Kiribati"
         ],
         "locationmode": "country names",
         "locations": [
          "Kiribati"
         ],
         "name": "24",
         "showlegend": true,
         "showscale": false,
         "type": "choropleth",
         "z": [
          1
         ]
        },
        {
         "colorscale": [
          [
           0,
           "#FF97FF"
          ],
          [
           1,
           "#FF97FF"
          ]
         ],
         "customdata": [
          [
           "8",
           "3,550"
          ],
          [
           "8",
           "1,403"
          ]
         ],
         "geo": "geo",
         "hovertemplate": "<b>%{hovertext}</b><br><br>Deaths=%{customdata[0]}<br>Location=%{location}<br>Cases=%{customdata[1]}<extra></extra>",
         "hovertext": [
          "Wallis and Futuna",
          "Montserrat"
         ],
         "locationmode": "country names",
         "locations": [
          "Wallis and Futuna",
          "Montserrat"
         ],
         "name": "8",
         "showlegend": true,
         "showscale": false,
         "type": "choropleth",
         "z": [
          1,
          1
         ]
        },
        {
         "colorscale": [
          [
           0,
           "#FECB52"
          ],
          [
           1,
           "#FECB52"
          ]
         ],
         "customdata": [
          [
           "121",
           "3,514"
          ]
         ],
         "geo": "geo",
         "hovertemplate": "<b>%{hovertext}</b><br><br>Deaths=%{customdata[0]}<br>Location=%{location}<br>Cases=%{customdata[1]}<extra></extra>",
         "hovertext": [
          "Macau"
         ],
         "locationmode": "country names",
         "locations": [
          "Macau"
         ],
         "name": "121",
         "showlegend": true,
         "showscale": false,
         "type": "choropleth",
         "z": [
          1
         ]
        },
        {
         "colorscale": [
          [
           0,
           "#636efa"
          ],
          [
           1,
           "#636efa"
          ]
         ],
         "customdata": [
          [
           "—",
           "2,166"
          ],
          [
           "—",
           "1,923"
          ],
          [
           "—",
           "993"
          ],
          [
           "—",
           "4"
          ]
         ],
         "geo": "geo",
         "hovertemplate": "<b>%{hovertext}</b><br><br>Deaths=%{customdata[0]}<br>Location=%{location}<br>Cases=%{customdata[1]}<extra></extra>",
         "hovertext": [
          "Saint Helena, Ascension and Tristan da Cunha",
          "Falkland Islands",
          "Niue",
          "Pitcairn Islands"
         ],
         "locationmode": "country names",
         "locations": [
          "Saint Helena, Ascension and Tristan da Cunha",
          "Falkland Islands",
          "Niue",
          "Pitcairn Islands"
         ],
         "name": "—",
         "showlegend": true,
         "showscale": false,
         "type": "choropleth",
         "z": [
          1,
          1,
          1,
          1
         ]
        },
        {
         "colorscale": [
          [
           0,
           "#EF553B"
          ],
          [
           1,
           "#EF553B"
          ]
         ],
         "customdata": [
          [
           "0",
           "80"
          ],
          [
           "0",
           "26"
          ],
          [
           "0",
           "0"
          ]
         ],
         "geo": "geo",
         "hovertemplate": "<b>%{hovertext}</b><br><br>Deaths=%{customdata[0]}<br>Location=%{location}<br>Cases=%{customdata[1]}<extra></extra>",
         "hovertext": [
          "Tokelau",
          "Vatican City",
          "Turkmenistan"
         ],
         "locationmode": "country names",
         "locations": [
          "Tokelau",
          "Vatican City",
          "Turkmenistan"
         ],
         "name": "0",
         "showlegend": true,
         "showscale": false,
         "type": "choropleth",
         "z": [
          1,
          1,
          1
         ]
        },
        {
         "colorscale": [
          [
           0,
           "#00cc96"
          ],
          [
           1,
           "#00cc96"
          ]
         ],
         "customdata": [
          [
           "6",
           "1"
          ]
         ],
         "geo": "geo",
         "hovertemplate": "<b>%{hovertext}</b><br><br>Deaths=%{customdata[0]}<br>Location=%{location}<br>Cases=%{customdata[1]}<extra></extra>",
         "hovertext": [
          "North Korea"
         ],
         "locationmode": "country names",
         "locations": [
          "North Korea"
         ],
         "name": "6",
         "showlegend": true,
         "showscale": false,
         "type": "choropleth",
         "z": [
          1
         ]
        }
       ],
       "layout": {
        "geo": {
         "center": {},
         "domain": {
          "x": [
           0,
           1
          ],
          "y": [
           0,
           1
          ]
         },
         "projection": {
          "type": "orthographic"
         },
         "scope": "world"
        },
        "height": 700,
        "legend": {
         "title": {
          "text": "Deaths"
         },
         "tracegroupgap": 0
        },
        "template": {
         "data": {
          "bar": [
           {
            "error_x": {
             "color": "#2a3f5f"
            },
            "error_y": {
             "color": "#2a3f5f"
            },
            "marker": {
             "line": {
              "color": "#E5ECF6",
              "width": 0.5
             },
             "pattern": {
              "fillmode": "overlay",
              "size": 10,
              "solidity": 0.2
             }
            },
            "type": "bar"
           }
          ],
          "barpolar": [
           {
            "marker": {
             "line": {
              "color": "#E5ECF6",
              "width": 0.5
             },
             "pattern": {
              "fillmode": "overlay",
              "size": 10,
              "solidity": 0.2
             }
            },
            "type": "barpolar"
           }
          ],
          "carpet": [
           {
            "aaxis": {
             "endlinecolor": "#2a3f5f",
             "gridcolor": "white",
             "linecolor": "white",
             "minorgridcolor": "white",
             "startlinecolor": "#2a3f5f"
            },
            "baxis": {
             "endlinecolor": "#2a3f5f",
             "gridcolor": "white",
             "linecolor": "white",
             "minorgridcolor": "white",
             "startlinecolor": "#2a3f5f"
            },
            "type": "carpet"
           }
          ],
          "choropleth": [
           {
            "colorbar": {
             "outlinewidth": 0,
             "ticks": ""
            },
            "type": "choropleth"
           }
          ],
          "contour": [
           {
            "colorbar": {
             "outlinewidth": 0,
             "ticks": ""
            },
            "colorscale": [
             [
              0,
              "#0d0887"
             ],
             [
              0.1111111111111111,
              "#46039f"
             ],
             [
              0.2222222222222222,
              "#7201a8"
             ],
             [
              0.3333333333333333,
              "#9c179e"
             ],
             [
              0.4444444444444444,
              "#bd3786"
             ],
             [
              0.5555555555555556,
              "#d8576b"
             ],
             [
              0.6666666666666666,
              "#ed7953"
             ],
             [
              0.7777777777777778,
              "#fb9f3a"
             ],
             [
              0.8888888888888888,
              "#fdca26"
             ],
             [
              1,
              "#f0f921"
             ]
            ],
            "type": "contour"
           }
          ],
          "contourcarpet": [
           {
            "colorbar": {
             "outlinewidth": 0,
             "ticks": ""
            },
            "type": "contourcarpet"
           }
          ],
          "heatmap": [
           {
            "colorbar": {
             "outlinewidth": 0,
             "ticks": ""
            },
            "colorscale": [
             [
              0,
              "#0d0887"
             ],
             [
              0.1111111111111111,
              "#46039f"
             ],
             [
              0.2222222222222222,
              "#7201a8"
             ],
             [
              0.3333333333333333,
              "#9c179e"
             ],
             [
              0.4444444444444444,
              "#bd3786"
             ],
             [
              0.5555555555555556,
              "#d8576b"
             ],
             [
              0.6666666666666666,
              "#ed7953"
             ],
             [
              0.7777777777777778,
              "#fb9f3a"
             ],
             [
              0.8888888888888888,
              "#fdca26"
             ],
             [
              1,
              "#f0f921"
             ]
            ],
            "type": "heatmap"
           }
          ],
          "heatmapgl": [
           {
            "colorbar": {
             "outlinewidth": 0,
             "ticks": ""
            },
            "colorscale": [
             [
              0,
              "#0d0887"
             ],
             [
              0.1111111111111111,
              "#46039f"
             ],
             [
              0.2222222222222222,
              "#7201a8"
             ],
             [
              0.3333333333333333,
              "#9c179e"
             ],
             [
              0.4444444444444444,
              "#bd3786"
             ],
             [
              0.5555555555555556,
              "#d8576b"
             ],
             [
              0.6666666666666666,
              "#ed7953"
             ],
             [
              0.7777777777777778,
              "#fb9f3a"
             ],
             [
              0.8888888888888888,
              "#fdca26"
             ],
             [
              1,
              "#f0f921"
             ]
            ],
            "type": "heatmapgl"
           }
          ],
          "histogram": [
           {
            "marker": {
             "pattern": {
              "fillmode": "overlay",
              "size": 10,
              "solidity": 0.2
             }
            },
            "type": "histogram"
           }
          ],
          "histogram2d": [
           {
            "colorbar": {
             "outlinewidth": 0,
             "ticks": ""
            },
            "colorscale": [
             [
              0,
              "#0d0887"
             ],
             [
              0.1111111111111111,
              "#46039f"
             ],
             [
              0.2222222222222222,
              "#7201a8"
             ],
             [
              0.3333333333333333,
              "#9c179e"
             ],
             [
              0.4444444444444444,
              "#bd3786"
             ],
             [
              0.5555555555555556,
              "#d8576b"
             ],
             [
              0.6666666666666666,
              "#ed7953"
             ],
             [
              0.7777777777777778,
              "#fb9f3a"
             ],
             [
              0.8888888888888888,
              "#fdca26"
             ],
             [
              1,
              "#f0f921"
             ]
            ],
            "type": "histogram2d"
           }
          ],
          "histogram2dcontour": [
           {
            "colorbar": {
             "outlinewidth": 0,
             "ticks": ""
            },
            "colorscale": [
             [
              0,
              "#0d0887"
             ],
             [
              0.1111111111111111,
              "#46039f"
             ],
             [
              0.2222222222222222,
              "#7201a8"
             ],
             [
              0.3333333333333333,
              "#9c179e"
             ],
             [
              0.4444444444444444,
              "#bd3786"
             ],
             [
              0.5555555555555556,
              "#d8576b"
             ],
             [
              0.6666666666666666,
              "#ed7953"
             ],
             [
              0.7777777777777778,
              "#fb9f3a"
             ],
             [
              0.8888888888888888,
              "#fdca26"
             ],
             [
              1,
              "#f0f921"
             ]
            ],
            "type": "histogram2dcontour"
           }
          ],
          "mesh3d": [
           {
            "colorbar": {
             "outlinewidth": 0,
             "ticks": ""
            },
            "type": "mesh3d"
           }
          ],
          "parcoords": [
           {
            "line": {
             "colorbar": {
              "outlinewidth": 0,
              "ticks": ""
             }
            },
            "type": "parcoords"
           }
          ],
          "pie": [
           {
            "automargin": true,
            "type": "pie"
           }
          ],
          "scatter": [
           {
            "fillpattern": {
             "fillmode": "overlay",
             "size": 10,
             "solidity": 0.2
            },
            "type": "scatter"
           }
          ],
          "scatter3d": [
           {
            "line": {
             "colorbar": {
              "outlinewidth": 0,
              "ticks": ""
             }
            },
            "marker": {
             "colorbar": {
              "outlinewidth": 0,
              "ticks": ""
             }
            },
            "type": "scatter3d"
           }
          ],
          "scattercarpet": [
           {
            "marker": {
             "colorbar": {
              "outlinewidth": 0,
              "ticks": ""
             }
            },
            "type": "scattercarpet"
           }
          ],
          "scattergeo": [
           {
            "marker": {
             "colorbar": {
              "outlinewidth": 0,
              "ticks": ""
             }
            },
            "type": "scattergeo"
           }
          ],
          "scattergl": [
           {
            "marker": {
             "colorbar": {
              "outlinewidth": 0,
              "ticks": ""
             }
            },
            "type": "scattergl"
           }
          ],
          "scattermapbox": [
           {
            "marker": {
             "colorbar": {
              "outlinewidth": 0,
              "ticks": ""
             }
            },
            "type": "scattermapbox"
           }
          ],
          "scatterpolar": [
           {
            "marker": {
             "colorbar": {
              "outlinewidth": 0,
              "ticks": ""
             }
            },
            "type": "scatterpolar"
           }
          ],
          "scatterpolargl": [
           {
            "marker": {
             "colorbar": {
              "outlinewidth": 0,
              "ticks": ""
             }
            },
            "type": "scatterpolargl"
           }
          ],
          "scatterternary": [
           {
            "marker": {
             "colorbar": {
              "outlinewidth": 0,
              "ticks": ""
             }
            },
            "type": "scatterternary"
           }
          ],
          "surface": [
           {
            "colorbar": {
             "outlinewidth": 0,
             "ticks": ""
            },
            "colorscale": [
             [
              0,
              "#0d0887"
             ],
             [
              0.1111111111111111,
              "#46039f"
             ],
             [
              0.2222222222222222,
              "#7201a8"
             ],
             [
              0.3333333333333333,
              "#9c179e"
             ],
             [
              0.4444444444444444,
              "#bd3786"
             ],
             [
              0.5555555555555556,
              "#d8576b"
             ],
             [
              0.6666666666666666,
              "#ed7953"
             ],
             [
              0.7777777777777778,
              "#fb9f3a"
             ],
             [
              0.8888888888888888,
              "#fdca26"
             ],
             [
              1,
              "#f0f921"
             ]
            ],
            "type": "surface"
           }
          ],
          "table": [
           {
            "cells": {
             "fill": {
              "color": "#EBF0F8"
             },
             "line": {
              "color": "white"
             }
            },
            "header": {
             "fill": {
              "color": "#C8D4E3"
             },
             "line": {
              "color": "white"
             }
            },
            "type": "table"
           }
          ]
         },
         "layout": {
          "annotationdefaults": {
           "arrowcolor": "#2a3f5f",
           "arrowhead": 0,
           "arrowwidth": 1
          },
          "autotypenumbers": "strict",
          "coloraxis": {
           "colorbar": {
            "outlinewidth": 0,
            "ticks": ""
           }
          },
          "colorscale": {
           "diverging": [
            [
             0,
             "#8e0152"
            ],
            [
             0.1,
             "#c51b7d"
            ],
            [
             0.2,
             "#de77ae"
            ],
            [
             0.3,
             "#f1b6da"
            ],
            [
             0.4,
             "#fde0ef"
            ],
            [
             0.5,
             "#f7f7f7"
            ],
            [
             0.6,
             "#e6f5d0"
            ],
            [
             0.7,
             "#b8e186"
            ],
            [
             0.8,
             "#7fbc41"
            ],
            [
             0.9,
             "#4d9221"
            ],
            [
             1,
             "#276419"
            ]
           ],
           "sequential": [
            [
             0,
             "#0d0887"
            ],
            [
             0.1111111111111111,
             "#46039f"
            ],
            [
             0.2222222222222222,
             "#7201a8"
            ],
            [
             0.3333333333333333,
             "#9c179e"
            ],
            [
             0.4444444444444444,
             "#bd3786"
            ],
            [
             0.5555555555555556,
             "#d8576b"
            ],
            [
             0.6666666666666666,
             "#ed7953"
            ],
            [
             0.7777777777777778,
             "#fb9f3a"
            ],
            [
             0.8888888888888888,
             "#fdca26"
            ],
            [
             1,
             "#f0f921"
            ]
           ],
           "sequentialminus": [
            [
             0,
             "#0d0887"
            ],
            [
             0.1111111111111111,
             "#46039f"
            ],
            [
             0.2222222222222222,
             "#7201a8"
            ],
            [
             0.3333333333333333,
             "#9c179e"
            ],
            [
             0.4444444444444444,
             "#bd3786"
            ],
            [
             0.5555555555555556,
             "#d8576b"
            ],
            [
             0.6666666666666666,
             "#ed7953"
            ],
            [
             0.7777777777777778,
             "#fb9f3a"
            ],
            [
             0.8888888888888888,
             "#fdca26"
            ],
            [
             1,
             "#f0f921"
            ]
           ]
          },
          "colorway": [
           "#636efa",
           "#EF553B",
           "#00cc96",
           "#ab63fa",
           "#FFA15A",
           "#19d3f3",
           "#FF6692",
           "#B6E880",
           "#FF97FF",
           "#FECB52"
          ],
          "font": {
           "color": "#2a3f5f"
          },
          "geo": {
           "bgcolor": "white",
           "lakecolor": "white",
           "landcolor": "#E5ECF6",
           "showlakes": true,
           "showland": true,
           "subunitcolor": "white"
          },
          "hoverlabel": {
           "align": "left"
          },
          "hovermode": "closest",
          "mapbox": {
           "style": "light"
          },
          "paper_bgcolor": "white",
          "plot_bgcolor": "#E5ECF6",
          "polar": {
           "angularaxis": {
            "gridcolor": "white",
            "linecolor": "white",
            "ticks": ""
           },
           "bgcolor": "#E5ECF6",
           "radialaxis": {
            "gridcolor": "white",
            "linecolor": "white",
            "ticks": ""
           }
          },
          "scene": {
           "xaxis": {
            "backgroundcolor": "#E5ECF6",
            "gridcolor": "white",
            "gridwidth": 2,
            "linecolor": "white",
            "showbackground": true,
            "ticks": "",
            "zerolinecolor": "white"
           },
           "yaxis": {
            "backgroundcolor": "#E5ECF6",
            "gridcolor": "white",
            "gridwidth": 2,
            "linecolor": "white",
            "showbackground": true,
            "ticks": "",
            "zerolinecolor": "white"
           },
           "zaxis": {
            "backgroundcolor": "#E5ECF6",
            "gridcolor": "white",
            "gridwidth": 2,
            "linecolor": "white",
            "showbackground": true,
            "ticks": "",
            "zerolinecolor": "white"
           }
          },
          "shapedefaults": {
           "line": {
            "color": "#2a3f5f"
           }
          },
          "ternary": {
           "aaxis": {
            "gridcolor": "white",
            "linecolor": "white",
            "ticks": ""
           },
           "baxis": {
            "gridcolor": "white",
            "linecolor": "white",
            "ticks": ""
           },
           "bgcolor": "#E5ECF6",
           "caxis": {
            "gridcolor": "white",
            "linecolor": "white",
            "ticks": ""
           }
          },
          "title": {
           "x": 0.05
          },
          "xaxis": {
           "automargin": true,
           "gridcolor": "white",
           "linecolor": "white",
           "ticks": "",
           "title": {
            "standoff": 15
           },
           "zerolinecolor": "white",
           "zerolinewidth": 2
          },
          "yaxis": {
           "automargin": true,
           "gridcolor": "white",
           "linecolor": "white",
           "ticks": "",
           "title": {
            "standoff": 15
           },
           "zerolinecolor": "white",
           "zerolinewidth": 2
          }
         }
        },
        "title": {
         "text": "Số ca mắc COVID-19 theo quốc gia"
        }
       }
      }
     },
     "metadata": {},
     "output_type": "display_data"
    }
   ],
   "source": [
    "import plotly.express as px\n",
    "\n",
    "# Dữ liệu ví dụ (đã được bạn cung cấp)\n",
    "countries = data['Location']\n",
    "\n",
    "# Tạo biểu đồ Choropleth\n",
    "fig = px.choropleth(data, \n",
    "                    locations=countries,  # Chọn cột chứa thông tin vị trí\n",
    "                    locationmode='country names',  # Chế độ xác định vị trí\n",
    "                    hover_data=[data['Deaths'], data['Cases']],  # Thông tin hiển thị khi di chuột qua vị trí\n",
    "                    color=data['Deaths'],  # Cột chứa giá trị màu sắc\n",
    "                    scope='world',  # Phạm vi bản đồ\n",
    "                    projection=\"orthographic\",  # Loại dự án bản đồ\n",
    "                    hover_name=countries,  # Thông tin hiển thị khi di chuột qua vị trí\n",
    "                    height=700,  # Chiều cao của biểu đồ\n",
    "                    title='Số ca mắc COVID-19 theo quốc gia',  # Tiêu đề của biểu đồ\n",
    "                    color_continuous_scale='Viridis')  # Màu sắc liên tục\n",
    "\n",
    "# Hiển thị biểu đồ\n",
    "fig.show()\n"
   ]
  },
  {
   "cell_type": "markdown",
   "metadata": {},
   "source": [
    "#VD1"
   ]
  },
  {
   "cell_type": "code",
   "execution_count": 22,
   "metadata": {},
   "outputs": [],
   "source": [
    "from selenium import webdriver\n",
    "from selenium.webdriver.common.by import By\n",
    "from bs4 import BeautifulSoup\n",
    "import pandas as pd"
   ]
  },
  {
   "cell_type": "code",
   "execution_count": 23,
   "metadata": {},
   "outputs": [],
   "source": [
    "driver = webdriver.Chrome()\n",
    "driver.get('https://en.wikipedia.org/wiki/Template:COVID-19_pandemic_data#covid-19-pandemic-data')\n",
    "data = driver.find_elements(By.CSS_SELECTOR,'.scroll-container .wikitable tbody tr')\n",
    "# country = [i.text.strip() for i in data]\n",
    "country =[]\n",
    "cases =[]\n",
    "deaths =[]\n",
    "for item in data:\n",
    "    elem= item.find_elements(By.TAG_NAME,'td')\n",
    "    if elem:\n",
    "        country.append(elem[0].get_attribute('data-sort-value'))\n",
    "        try:\n",
    "            cases.append(elem[1].get_attribute('data-sort-value'))\n",
    "            deaths.append(elem[2].get_attribute('data-sort-value'))\n",
    "        except:\n",
    "            cases.append(0)\n",
    "            deaths.append(0)\n"
   ]
  },
  {
   "cell_type": "code",
   "execution_count": 24,
   "metadata": {},
   "outputs": [],
   "source": [
    "df= pd.DataFrame({\"country\":country,\n",
    "                    \"cases\":cases,\n",
    "                    \"deaths\":deaths})\n",
    "df['cases']= [int(i) for i in df['cases']]\n",
    "df['deaths']= [int(i) for i in df['deaths']]"
   ]
  },
  {
   "cell_type": "code",
   "execution_count": 25,
   "metadata": {},
   "outputs": [
    {
     "data": {
      "text/html": [
       "<div>\n",
       "<style scoped>\n",
       "    .dataframe tbody tr th:only-of-type {\n",
       "        vertical-align: middle;\n",
       "    }\n",
       "\n",
       "    .dataframe tbody tr th {\n",
       "        vertical-align: top;\n",
       "    }\n",
       "\n",
       "    .dataframe thead th {\n",
       "        text-align: right;\n",
       "    }\n",
       "</style>\n",
       "<table border=\"1\" class=\"dataframe\">\n",
       "  <thead>\n",
       "    <tr style=\"text-align: right;\">\n",
       "      <th></th>\n",
       "      <th>country</th>\n",
       "      <th>cases</th>\n",
       "      <th>deaths</th>\n",
       "    </tr>\n",
       "  </thead>\n",
       "  <tbody>\n",
       "    <tr>\n",
       "      <th>0</th>\n",
       "      <td>World</td>\n",
       "      <td>774834237</td>\n",
       "      <td>7037007</td>\n",
       "    </tr>\n",
       "    <tr>\n",
       "      <th>1</th>\n",
       "      <td>European Union</td>\n",
       "      <td>185587170</td>\n",
       "      <td>1260386</td>\n",
       "    </tr>\n",
       "    <tr>\n",
       "      <th>2</th>\n",
       "      <td>United States</td>\n",
       "      <td>103436829</td>\n",
       "      <td>1180025</td>\n",
       "    </tr>\n",
       "    <tr>\n",
       "      <th>3</th>\n",
       "      <td>China</td>\n",
       "      <td>99336751</td>\n",
       "      <td>121993</td>\n",
       "    </tr>\n",
       "    <tr>\n",
       "      <th>4</th>\n",
       "      <td>India</td>\n",
       "      <td>45030212</td>\n",
       "      <td>533495</td>\n",
       "    </tr>\n",
       "    <tr>\n",
       "      <th>...</th>\n",
       "      <td>...</td>\n",
       "      <td>...</td>\n",
       "      <td>...</td>\n",
       "    </tr>\n",
       "    <tr>\n",
       "      <th>235</th>\n",
       "      <td>Vatican City</td>\n",
       "      <td>26</td>\n",
       "      <td>0</td>\n",
       "    </tr>\n",
       "    <tr>\n",
       "      <th>236</th>\n",
       "      <td>Pitcairn Islands</td>\n",
       "      <td>4</td>\n",
       "      <td>0</td>\n",
       "    </tr>\n",
       "    <tr>\n",
       "      <th>237</th>\n",
       "      <td>North Korea</td>\n",
       "      <td>1</td>\n",
       "      <td>6</td>\n",
       "    </tr>\n",
       "    <tr>\n",
       "      <th>238</th>\n",
       "      <td>Turkmenistan</td>\n",
       "      <td>0</td>\n",
       "      <td>0</td>\n",
       "    </tr>\n",
       "    <tr>\n",
       "      <th>239</th>\n",
       "      <td>None</td>\n",
       "      <td>0</td>\n",
       "      <td>0</td>\n",
       "    </tr>\n",
       "  </tbody>\n",
       "</table>\n",
       "<p>240 rows × 3 columns</p>\n",
       "</div>"
      ],
      "text/plain": [
       "              country      cases   deaths\n",
       "0               World  774834237  7037007\n",
       "1      European Union  185587170  1260386\n",
       "2       United States  103436829  1180025\n",
       "3               China   99336751   121993\n",
       "4               India   45030212   533495\n",
       "..                ...        ...      ...\n",
       "235      Vatican City         26        0\n",
       "236  Pitcairn Islands          4        0\n",
       "237       North Korea          1        6\n",
       "238      Turkmenistan          0        0\n",
       "239              None          0        0\n",
       "\n",
       "[240 rows x 3 columns]"
      ]
     },
     "execution_count": 25,
     "metadata": {},
     "output_type": "execute_result"
    }
   ],
   "source": [
    "df"
   ]
  },
  {
   "cell_type": "code",
   "execution_count": 26,
   "metadata": {},
   "outputs": [
    {
     "data": {
      "text/html": [
       "<div>\n",
       "<style scoped>\n",
       "    .dataframe tbody tr th:only-of-type {\n",
       "        vertical-align: middle;\n",
       "    }\n",
       "\n",
       "    .dataframe tbody tr th {\n",
       "        vertical-align: top;\n",
       "    }\n",
       "\n",
       "    .dataframe thead th {\n",
       "        text-align: right;\n",
       "    }\n",
       "</style>\n",
       "<table border=\"1\" class=\"dataframe\">\n",
       "  <thead>\n",
       "    <tr style=\"text-align: right;\">\n",
       "      <th></th>\n",
       "      <th>country</th>\n",
       "      <th>cases</th>\n",
       "      <th>deaths</th>\n",
       "    </tr>\n",
       "  </thead>\n",
       "  <tbody>\n",
       "    <tr>\n",
       "      <th>3</th>\n",
       "      <td>China</td>\n",
       "      <td>99336751</td>\n",
       "      <td>121993</td>\n",
       "    </tr>\n",
       "    <tr>\n",
       "      <th>4</th>\n",
       "      <td>India</td>\n",
       "      <td>45030212</td>\n",
       "      <td>533495</td>\n",
       "    </tr>\n",
       "    <tr>\n",
       "      <th>5</th>\n",
       "      <td>France</td>\n",
       "      <td>38997490</td>\n",
       "      <td>167985</td>\n",
       "    </tr>\n",
       "    <tr>\n",
       "      <th>6</th>\n",
       "      <td>Germany</td>\n",
       "      <td>38437756</td>\n",
       "      <td>174979</td>\n",
       "    </tr>\n",
       "    <tr>\n",
       "      <th>7</th>\n",
       "      <td>Brazil</td>\n",
       "      <td>37519960</td>\n",
       "      <td>702116</td>\n",
       "    </tr>\n",
       "    <tr>\n",
       "      <th>...</th>\n",
       "      <td>...</td>\n",
       "      <td>...</td>\n",
       "      <td>...</td>\n",
       "    </tr>\n",
       "    <tr>\n",
       "      <th>235</th>\n",
       "      <td>Vatican City</td>\n",
       "      <td>26</td>\n",
       "      <td>0</td>\n",
       "    </tr>\n",
       "    <tr>\n",
       "      <th>236</th>\n",
       "      <td>Pitcairn Islands</td>\n",
       "      <td>4</td>\n",
       "      <td>0</td>\n",
       "    </tr>\n",
       "    <tr>\n",
       "      <th>237</th>\n",
       "      <td>North Korea</td>\n",
       "      <td>1</td>\n",
       "      <td>6</td>\n",
       "    </tr>\n",
       "    <tr>\n",
       "      <th>238</th>\n",
       "      <td>Turkmenistan</td>\n",
       "      <td>0</td>\n",
       "      <td>0</td>\n",
       "    </tr>\n",
       "    <tr>\n",
       "      <th>239</th>\n",
       "      <td>None</td>\n",
       "      <td>0</td>\n",
       "      <td>0</td>\n",
       "    </tr>\n",
       "  </tbody>\n",
       "</table>\n",
       "<p>237 rows × 3 columns</p>\n",
       "</div>"
      ],
      "text/plain": [
       "              country     cases  deaths\n",
       "3               China  99336751  121993\n",
       "4               India  45030212  533495\n",
       "5              France  38997490  167985\n",
       "6             Germany  38437756  174979\n",
       "7              Brazil  37519960  702116\n",
       "..                ...       ...     ...\n",
       "235      Vatican City        26       0\n",
       "236  Pitcairn Islands         4       0\n",
       "237       North Korea         1       6\n",
       "238      Turkmenistan         0       0\n",
       "239              None         0       0\n",
       "\n",
       "[237 rows x 3 columns]"
      ]
     },
     "execution_count": 26,
     "metadata": {},
     "output_type": "execute_result"
    }
   ],
   "source": [
    "df =df.loc[3:,['country','cases','deaths']]\n",
    "df"
   ]
  },
  {
   "cell_type": "code",
   "execution_count": 27,
   "metadata": {},
   "outputs": [],
   "source": [
    "df = df.iloc[1:-1,:]"
   ]
  },
  {
   "cell_type": "code",
   "execution_count": 28,
   "metadata": {},
   "outputs": [
    {
     "data": {
      "text/plain": [
       "230    Saint Helena, Ascension and Tristan da Cunha\n",
       "231                                Falkland Islands\n",
       "233                                            Niue\n",
       "234                                         Tokelau\n",
       "235                                    Vatican City\n",
       "236                                Pitcairn Islands\n",
       "238                                    Turkmenistan\n",
       "Name: country, dtype: object"
      ]
     },
     "execution_count": 28,
     "metadata": {},
     "output_type": "execute_result"
    }
   ],
   "source": [
    "df[df['deaths']== min(df['deaths'])]['country']"
   ]
  },
  {
   "cell_type": "markdown",
   "metadata": {},
   "source": [
    "#VD2"
   ]
  },
  {
   "cell_type": "code",
   "execution_count": 29,
   "metadata": {},
   "outputs": [],
   "source": [
    "import requests\n",
    "from bs4 import BeautifulSoup\n",
    "import pandas as pd\n",
    "html = requests.get(\"https://en.wikipedia.org/wiki/Template:COVID-19_pandemic_data#covid-19-pandemic-data\")\n",
    "soup = BeautifulSoup(html.content, \"html.parser\")\n",
    "table = soup.find(\"div\",class_=\"scroll-container\")\n",
    "tbody = table.find('tbody')\n",
    "data = tbody.find_all('tr')\n",
    "country =[]\n",
    "cases =[]\n",
    "deaths =[]\n",
    "for i in data:\n",
    "    elem_title = i.find_all('td')\n",
    "    if elem_title:\n",
    "        country.append(elem_title[0].get('data-sort-value'))\n",
    "        try:\n",
    "            cases.append(elem_title[1].get('data-sort-value'))\n",
    "            deaths.append(elem_title[2].get('data-sort-value'))\n",
    "        except:\n",
    "            cases.append(0)\n",
    "            deaths.append(0)\n",
    "df= pd.DataFrame({\"country\":country,\n",
    "                    \"cases\":cases,\n",
    "                    \"deaths\":deaths})\n"
   ]
  },
  {
   "cell_type": "code",
   "execution_count": 30,
   "metadata": {},
   "outputs": [
    {
     "data": {
      "text/html": [
       "<div>\n",
       "<style scoped>\n",
       "    .dataframe tbody tr th:only-of-type {\n",
       "        vertical-align: middle;\n",
       "    }\n",
       "\n",
       "    .dataframe tbody tr th {\n",
       "        vertical-align: top;\n",
       "    }\n",
       "\n",
       "    .dataframe thead th {\n",
       "        text-align: right;\n",
       "    }\n",
       "</style>\n",
       "<table border=\"1\" class=\"dataframe\">\n",
       "  <thead>\n",
       "    <tr style=\"text-align: right;\">\n",
       "      <th></th>\n",
       "      <th>country</th>\n",
       "      <th>cases</th>\n",
       "      <th>deaths</th>\n",
       "    </tr>\n",
       "  </thead>\n",
       "  <tbody>\n",
       "    <tr>\n",
       "      <th>0</th>\n",
       "      <td>World</td>\n",
       "      <td>774834237</td>\n",
       "      <td>7037007</td>\n",
       "    </tr>\n",
       "    <tr>\n",
       "      <th>1</th>\n",
       "      <td>European Union</td>\n",
       "      <td>185587170</td>\n",
       "      <td>1260386</td>\n",
       "    </tr>\n",
       "    <tr>\n",
       "      <th>2</th>\n",
       "      <td>United States</td>\n",
       "      <td>103436829</td>\n",
       "      <td>1180025</td>\n",
       "    </tr>\n",
       "    <tr>\n",
       "      <th>3</th>\n",
       "      <td>China</td>\n",
       "      <td>99336751</td>\n",
       "      <td>121993</td>\n",
       "    </tr>\n",
       "    <tr>\n",
       "      <th>4</th>\n",
       "      <td>India</td>\n",
       "      <td>45030212</td>\n",
       "      <td>533495</td>\n",
       "    </tr>\n",
       "    <tr>\n",
       "      <th>...</th>\n",
       "      <td>...</td>\n",
       "      <td>...</td>\n",
       "      <td>...</td>\n",
       "    </tr>\n",
       "    <tr>\n",
       "      <th>235</th>\n",
       "      <td>Vatican City</td>\n",
       "      <td>26</td>\n",
       "      <td>0</td>\n",
       "    </tr>\n",
       "    <tr>\n",
       "      <th>236</th>\n",
       "      <td>Pitcairn Islands</td>\n",
       "      <td>4</td>\n",
       "      <td>0</td>\n",
       "    </tr>\n",
       "    <tr>\n",
       "      <th>237</th>\n",
       "      <td>North Korea</td>\n",
       "      <td>1</td>\n",
       "      <td>6</td>\n",
       "    </tr>\n",
       "    <tr>\n",
       "      <th>238</th>\n",
       "      <td>Turkmenistan</td>\n",
       "      <td>0</td>\n",
       "      <td>0</td>\n",
       "    </tr>\n",
       "    <tr>\n",
       "      <th>239</th>\n",
       "      <td>None</td>\n",
       "      <td>0</td>\n",
       "      <td>0</td>\n",
       "    </tr>\n",
       "  </tbody>\n",
       "</table>\n",
       "<p>240 rows × 3 columns</p>\n",
       "</div>"
      ],
      "text/plain": [
       "              country      cases   deaths\n",
       "0               World  774834237  7037007\n",
       "1      European Union  185587170  1260386\n",
       "2       United States  103436829  1180025\n",
       "3               China   99336751   121993\n",
       "4               India   45030212   533495\n",
       "..                ...        ...      ...\n",
       "235      Vatican City         26        0\n",
       "236  Pitcairn Islands          4        0\n",
       "237       North Korea          1        6\n",
       "238      Turkmenistan          0        0\n",
       "239              None          0        0\n",
       "\n",
       "[240 rows x 3 columns]"
      ]
     },
     "execution_count": 30,
     "metadata": {},
     "output_type": "execute_result"
    }
   ],
   "source": [
    "df[['cases','deaths']]= df[['cases','deaths']].astype(int)\n",
    "df"
   ]
  }
 ],
 "metadata": {
  "kernelspec": {
   "display_name": "Python 3",
   "language": "python",
   "name": "python3"
  },
  "language_info": {
   "codemirror_mode": {
    "name": "ipython",
    "version": 3
   },
   "file_extension": ".py",
   "mimetype": "text/x-python",
   "name": "python",
   "nbconvert_exporter": "python",
   "pygments_lexer": "ipython3",
   "version": "3.12.2"
  }
 },
 "nbformat": 4,
 "nbformat_minor": 2
}

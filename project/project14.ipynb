{
  "cells": [
    {
      "cell_type": "code",
      "execution_count": 1,
      "metadata": {
        "id": "19ghTuukwf77"
      },
      "outputs": [
        {
          "name": "stdout",
          "output_type": "stream",
          "text": [
            "0.9\n"
          ]
        }
      ],
      "source": [
        "from sklearn.datasets import make_classification\n",
        "from sklearn.model_selection import train_test_split\n",
        "from sklearn.metrics import accuracy_score\n",
        "from sklearn.linear_model import LogisticRegression\n",
        "nb_samples = 50\n",
        "x, y = make_classification(n_samples=nb_samples,\n",
        "                           n_features=2,\n",
        "                           n_informative=2,\n",
        "                           n_redundant=0,\n",
        "                           n_clusters_per_class=1)\n",
        "xtrain, xtest, ytrain, ytest = train_test_split(x, y, test_size=0.2, random_state=2) # tại sao random 42 thì kq nhảy\n",
        "model = LogisticRegression()\n",
        "model.fit(xtrain, ytrain)\n",
        "print(accuracy_score(ytest, model.predict(xtest)))\n"
      ]
    },
    {
      "cell_type": "markdown",
      "metadata": {
        "id": "C1FLo_T7HVfZ"
      },
      "source": [
        "giải thích"
      ]
    },
    {
      "cell_type": "code",
      "execution_count": 2,
      "metadata": {
        "colab": {
          "base_uri": "https://localhost:8080/"
        },
        "id": "HClCZBmiHLpE",
        "outputId": "7d924ec3-26db-4a50-f638-9482af9b5754"
      },
      "outputs": [
        {
          "name": "stdout",
          "output_type": "stream",
          "text": [
            "1.0\n"
          ]
        }
      ],
      "source": [
        "'''Mục đích : tính toán độ chính xác bằng python, để tính toán độ chính xác của mô hình phân loại, ta phải huấn luyện mô hình cho bất kỳ vấn đề dựa tren phân loại nào.\n",
        " Vì vậy, dưới đây là cách cta đào tạo mô hình học máy dựa trên phân loại '''\n",
        "#sử dụng thư viện scikit learn\n",
        "import sklearn\n",
        "''' ta sử dụng thư viện scikit learn (Gồm nhóm các BỘ DỮ LIỆU được tích hợp sẵn trong thư viện\n",
        "Hầu như các bộ dữ liệu đều đã được chuẩn hóa và mang lại hiêu suất cao trong quá trình huấn luyện ) '''\n",
        "from sklearn.datasets import make_classification\n",
        "''' dòng 8: ta sử dụng thuật toán DATASETS được xây dựng bởi thư viện scikit learn ( datasets :Gồm nhóm các BỘ DỮ LIỆU được tích hợp\n",
        "sẵn trong thư viện. Hầu như các bộ dữ liệu đều đã được chuẩn hóa và mang lại hiêu suất cao trong quá trình huấn luyện )\n",
        "Hàm make_classidication từ tv skl dùng để tạo ra dữ liệu tập huấn cho bài toán phân loại '''\n",
        "from sklearn.model_selection import train_test_split\n",
        "''' dòng 12: dùng model_selection và hàm train_test_split để lựa chọn mô hình và chia dữ liệu tập huấn thành 2 tập: tập huấn luyện và\n",
        "tập kiểm tra. '''\n",
        "from sklearn.metrics import accuracy_score\n",
        "''' dòng 14: metrics (đánh giá mô hình phân loại) và sử dụng hàm accuracy_score để tính độ chính xác của mô hình phân loại '''\n",
        "from sklearn.linear_model import LogisticRegression\n",
        "''' dòng 16: ở đây dùng lớp LogisticRegression để tạo ra mô hình hồi quy logistic'''\n",
        "nb_samples = 50  # biến xác định lượng mẫu dữ liệu được tạo bởi hàm ở dòng 6\n",
        "# dòng 19: sử dùng hàm make_classification để tạo dữ liệu tập huấn\n",
        "x, y = make_classification(n_samples=nb_samples,    #số lượng mẫu dữ liệu\n",
        "                           n_features=2,            #số lượng đặc trưng (1)\n",
        "                           n_informative=2,         #số lượng đặc trưng mang thông tin\n",
        "                           n_redundant=0,           #số lượng đặc trưng dư thừa\n",
        "                           n_clusters_per_class=1)  #số lượng cụm cho mỗi lớp\n",
        "# biến x lưu trữ dữ liệu tập huấn, biến y lưu trữ nhãn lớp của dlthuan\n",
        "# biến xtrain và ytrain lưu trữ dữ dlth, biến xtest và ytest lưu trữ dữ liệu tập kiểm tra\n",
        "xtrain, xtest, ytrain, ytest = train_test_split(x, y, test_size=0.2, random_state=42)\n",
        "#test_size: tỷ lệ dữ liệu được sử dụng cho tập kiểm tra\n",
        "#random_state: giá trị ngẫu nhiên đuọc sử dụng để chia dữ liệu\n",
        "model = LogisticRegression()                        #tạo mô hình hồi quy logistic\n",
        "model.fit(xtrain, ytrain)                           #huấn luyện mô hình hồi quy logistic trên tập huấn luyện\n",
        "print(accuracy_score(ytest, model.predict(xtest)))\n"
      ]
    }
  ],
  "metadata": {
    "colab": {
      "provenance": []
    },
    "kernelspec": {
      "display_name": "Python 3",
      "name": "python3"
    },
    "language_info": {
      "codemirror_mode": {
        "name": "ipython",
        "version": 3
      },
      "file_extension": ".py",
      "mimetype": "text/x-python",
      "name": "python",
      "nbconvert_exporter": "python",
      "pygments_lexer": "ipython3",
      "version": "3.12.2"
    }
  },
  "nbformat": 4,
  "nbformat_minor": 0
}
